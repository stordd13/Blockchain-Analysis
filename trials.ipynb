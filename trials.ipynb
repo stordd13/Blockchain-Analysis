{
 "cells": [
  {
   "cell_type": "code",
   "execution_count": 122,
   "metadata": {},
   "outputs": [],
   "source": [
    "from web3 import Web3, middleware\n",
    "from web3.gas_strategies.time_based import medium_gas_price_strategy\n",
    "from web3.middleware import geth_poa_middleware"
   ]
  },
  {
   "cell_type": "code",
   "execution_count": 123,
   "metadata": {},
   "outputs": [
    {
     "data": {
      "text/plain": [
       "True"
      ]
     },
     "execution_count": 123,
     "metadata": {},
     "output_type": "execute_result"
    }
   ],
   "source": [
    "bsc_rpc = \"https://bsc-dataseed1.defibit.io/\"\n",
    "w3 = Web3(Web3.HTTPProvider(bsc_rpc))\n",
    "w3.is_connected()"
   ]
  },
  {
   "cell_type": "code",
   "execution_count": 124,
   "metadata": {},
   "outputs": [],
   "source": [
    "w3.middleware_onion.inject(geth_poa_middleware, layer=0)\n",
    "w3.eth.set_gas_price_strategy(medium_gas_price_strategy)\n",
    "if not w3.is_connected():\n",
    "    raise Exception(\"Failed to connect to BSC\")"
   ]
  },
  {
   "cell_type": "code",
   "execution_count": 125,
   "metadata": {},
   "outputs": [
    {
     "name": "stdout",
     "output_type": "stream",
     "text": [
      "from: ['0xB9B9Cbb4Ce6b5FA0F97b8f9fBB60afB97852bb30', '0x312d9cB02f690Cbb86919Fe56127539b22194BA8', '0xdccF3B77dA55107280bd850ea519DF3705D1a75a', '0xa180Fe01B906A1bE37BE6c534a3300785b20d947', '0x31cd6DFaF63C19E838621fA83b8B65f12FA73549', '0xDE76BC9b7f83757537c6Fe38B573567DCcB2d5F5', '0x7AFCF4894e25067Be135369aC81B003F3BbEa979', '0x8a9793c54b5815e2c6915Fcc728d1Ae5c82767c1', '0xfFbf4961F90E4B327883206775aCd3f08e7D9d75', '0x80a11Aa47bb06439dD881B54d2Ad945BA468d561', '0xe3E42c4886ABEab243202665254798d12aA33823', '0xA2Da409CF7b8D00087DF5CF3ba19E23E4312F9ba', '0xe1f416B8728DD654374d88328487E58c9f8BA7F2', '0xFB984703482b7aE805f29B75064589D36edC7df3', '0x550FC923C771693D932617320B6B31fA8209E7eb', '0x489C2c24D5A6dD6c0ADd8EdB91F2C11db08721cb', '0xa180Fe01B906A1bE37BE6c534a3300785b20d947', '0x4727250679294802377dD6cA6541B8E459077c95', '0x312d9cB02f690Cbb86919Fe56127539b22194BA8', '0x717Ca09C830e720ba62a6245Ef76cFa5B72838C2', '0x1FBe2AcEe135D991592f167Ac371f3DD893A508B', '0xB6C23cCbFEd5FF31dD18D9D69b16F163D51Fc0d2', '0x975d9Bd9928F398c7E01F6ba236816Fa558cD94B', '0x4982085C9e2F89F2eCb8131Eca71aFAD896e89CB', '0x635308e731A878741bfeC299e67f5fD28c7553D9', '0x2981243FDe0CF4b24a5bc8c4b788F39ECe9372b8', '0xEB2d2F1b8c558a40207669291Fda468E50c8A0bB', '0x8dE28D2350C88233911c1d8463D2e41Dfd86616c', '0x3b5a23f6207d87B423C6789D2625eA620423b32D', '0xF26dEe30610a389F79A2C8C1F471b6572A896A8E', '0x690AAcf00A4b1993667Bb903952a7FA4b0E24F0D', '0x5fbaEF3A838ad5621D95FFC22bE2656C46AcD8b4', '0xb3443981f6d2523C28d1748755a7085b130Ddad8', '0xa180Fe01B906A1bE37BE6c534a3300785b20d947', '0x870f5dB831a7ED174eFfCA8be5144fD9147c97C9', '0x34e6C79AE9297750416d3546FC423d91BEaFE0f9', '0x438512B2BC3341978cbB11F7F7683FA1b0758729', '0xc9228D88E3706fFEb65E671Cd7b9e4aaD77Df861', '0xdccF3B77dA55107280bd850ea519DF3705D1a75a', '0xd354b8608b261d3f4fB5E5de0aBb7101c62AC5b8', '0x3f5F88088F5222ab1E92b5aD3A8BF5D0b61eaDCb', '0x49936B1BC05e23B9dCb785ebf29871d46A00988e', '0x18C068c4f57014AF514D4eaDe01f761E1Dd13555', '0x31BC27E99D549e64E1c0c062A6df5b93A57124D3', '0x2B479eA950a6194b93aa70a3749936DbB3615A4a', '0xB91fD99b77Eb074bDfE2E550A254571b6A3F0b76', '0x161bA15A5f335c9f06BB5BbB0A9cE14076FBb645', '0x87cbc48075d7aa1760Ac71C41e8Bc289b6A31F56', '0xd2FC4Db0c747e072e75B584C10E5dF0bA0f94226', '0x81eDD36bAB9B2E872e7EcF64a17Ebf1C5cdC0489', '0x657e267dDD6F17ea0B22ECB9a27289F9AbC456B6', '0x44Df471402c2F066E9213A1784fB24fE4C779068', '0x822ca9207DDfCF4611ECa7789399023Cd457345b', '0x9dff7bE510E9E345Be6F36983fd3654E93150231', '0x2540866130106eAa2503C55966c278412956186d', '0xc5AcDAA09F3dB7b9c29e27E14Bd014a24c86F0A0', '0xc67255f6860e9d9B424A9DC21b68dBF30501A0D6', '0xf89d7b9c864f589bbF53a82105107622B35EaA40', '0x739b042831e4CA1CeeAE7EE869D45D996a865B67', '0x92aE4273875EBC9aB7a5B181a8f0A281019056d9', '0x0bF520729b2403Fade868a759075090F0C7b6a61', '0x1eDba46885845A1Bfe8cB884dB6eDe656D9AAbCa', '0x51c86b38e31D11466bDAaE712cA6d1b1047D1f9F', '0x1c924Dda6bD809c3C8D535eb625c0B5C964f2d41', '0xD5FF5FB2a7b64D4B1d1A7c59Eea2A81dcCD140Fe', '0xa3717DDFeDAd9460058c66a9321a12977Cf6c8De', '0x3a394736Fc90d39d2446eDC9f7cEB06B11cBf26B', '0xDc63564407F64F80a69a09E30894cf643d9c76a5', '0x83233276d70e49038761E6932c3F4EBE194AEA77', '0xDF6c9BB4EBAeBC645fEC46fB08268A5131B63637', '0x4ce33c98C77200AFaB4C557500096E6F460304b1', '0x41fe2C49a50a5084a16Fc56418BdC1C1E5dFF76C', '0x3ca8EaF83f752b7d395eF93659F6ca37B9270296', '0x61494262543B21256AEEF07023809F209Ac18270', '0xA22DD1CE220EF2770637B106331d820b28B0AdDf', '0x828da53864460977b73ed45EF7e6977F5984f13B', '0x650c12D9fE7779a2D494679BE4e8d5953230D6af', '0x75365A99ebD3eFCa80812cbB3D1E3022c81ee093', '0xf89d7b9c864f589bbF53a82105107622B35EaA40', '0xaEF26F97620c5ad921771b30b4c6fEabF9d223Ab', '0x545ef2923593ab20dA879d9234a9a309A949347B', '0x68Ad83dc3C0e151311F3220A08F5aEb7c41DB813', '0x6B6bD0fd8Ac0415BD3c2388eb4CF9A19DD62BB51', '0x2A462664F801888E06A94c3BDe4d8A8601D9264A', '0x6f23353E0B058Cd1f7E3B8cc302A5156a1eC2B51', '0x6124224adA34fcC9691F803180e71Ea8E739f878', '0x5b016D6f2733Ac720e328aC38c19b79BAa634852', '0x0805D89Fdf7E12C03fB630FAD0A7655520F8a282', '0xB9a811B32E081A92d1764FaaBA61a25b6421Eb55', '0x322D587A291D1e4Fb1019db77f41FBD0C0Eb1efE', '0x312d9cB02f690Cbb86919Fe56127539b22194BA8', '0xFF4b61A4DF0642C905199AD01438DB310eeBe1ef', '0xD9AF3Dcf98E9b0f92b21948FDB29BCED30157066', '0x4D7d3fa63d776C5e1833C8EC3C98a0Fc68c6D8e7', '0xdA530E09F9C7707b78666469a625Cca2EDA29f53', '0x92952CF2d0D905914b38CFa855109036a02a8F31', '0x3AEbB26A66B328CD8A60415710CE4DE147657b0b', '0x6aBAC1e203cC67c0eF95737E2C2fE504994A8820', '0x8330922fCDF7Bb39AA5F6C5603c068Caf2A8A0A3', '0xa7F6b3600C307590A74C1993cC8EAB80F28B05bc', '0x14371c3b24781243bC8FA5288F1d1cA4F2C02233', '0xa57f43BAc4C9349804087476d95dD769463E34c6', '0xBD612a3f30dcA67bF60a39Fd0D35e39B7aB80774', '0xB1b8a9FfB31F9475b7f1A0b3d0525348a6E9F184', '0xe8769980B432461143e3F1aB7CC5b854495102b9', '0x307fc9C4148f696A81e3f6b97Ad3E4DDDF5D8B46', '0xF3bd6B9EA91CEDA9d53f9586Ac828b5776aB3337', '0xa851d393F7E80759eF3Dd4E380e83f186a6a9C34', '0xaBBf1Fa4EF7b44aE8Fe73A508c1877E1cba3b441', '0xBD612a3f30dcA67bF60a39Fd0D35e39B7aB80774', '0x2981243FDe0CF4b24a5bc8c4b788F39ECe9372b8', '0x8781dD430283aF01e32e96b7d32c668eAd6aA32c', '0x312d9cB02f690Cbb86919Fe56127539b22194BA8', '0x01C952174C24E1210d26961D456A77A39e1F0BB0', '0x468DA81f742132E82BF9bB37de99EF0922e2BB12', '0x4BA54780D46B6CC09eBC16dB6Ab55C13399B52a8', '0x6eeaC85FF78eEBB8e2616B54B38eA7D7c77cB93d', '0x8970fF6ed709E4A7B1e7bEbA3D2d0a2773B597f9', '0xCEAFa512949FFBbdF4c999e1c08a0b26430AE170', '0x80Af9D2d801Abd6307291c96e0b65aDB6D624933', '0xbF711697541039D2012eb865986BF2482d7e888D', '0x459473233b28098Dd321756B66AB50536a18dA03', '0xa86f644fC175DaBA6c63Ff430b8036cA55E86ac9', '0x3F08E8a43c58cadE98b20ea15F17BD179E8db381', '0x312d9cB02f690Cbb86919Fe56127539b22194BA8', '0x312d9cB02f690Cbb86919Fe56127539b22194BA8', '0xa114D918e516C2C4E042B819230A84B7D0860C0F', '0x2464529d89e46780D9ebBC9202555F6fB3bf1b57', '0xf46bE9E87b8b232fd092378c16FA3F0AB45Efa7A', '0x8E84aAaA11e50D21dDEC9921ED1513A7aA9795b9', '0xc9228D88E3706fFEb65E671Cd7b9e4aaD77Df861', '0xFc54869b0CbAF04def3CB2356f20eB460cde073b', '0x88fE0288a14499b9A42B10fC031F91eaB341a5c6', '0xB80600f23000b1384E53D5107941cA993401BFa9', '0x55D9B5bD8196881514feD4f425b27335E95E1a55', '0xa5E33bfAAea6347a458344edeAAd9758EFf9313a', '0xAB59b187D478De3b02b30FbDD65D7AC9Bf01F599', '0x1885A9F11F99Df0b3b66cb4AfEAcA806dB502893', '0x229a48476D29971B1668b038D5fcbD86A98E26FB', '0xcC27EB54489a7dC3B67E23063B559e5C8fe5681F', '0x72deD2ab360F008a14506d990CCE9538034E0067', '0x635308e731A878741bfeC299e67f5fD28c7553D9', '0x2439Cc292333e197A181d3BFAE669bb605d8A21a', '0x0BF3948DA05cfDB5A438C7Bfda6673381144a4Fc', '0x739b042831e4CA1CeeAE7EE869D45D996a865B67']\n",
      "to: ['0x10ED43C718714eb63d5aA57B78B54704E256024E', '0x6969B4555850531AadB6fb41F0De841cA256E1Fd', '0x2Ada4b0fF459579F8B0d0984cFD1a3e895D0b1bE', '0x3b25951b43987cc5CFCc6F41b23c6158896dA7E5', '0x312d9cB02f690Cbb86919Fe56127539b22194BA8', '0x10ED43C718714eb63d5aA57B78B54704E256024E', '0x2e13131125FD1DF5f041bCf3b394DE68f2B270E3', '0x10ED43C718714eb63d5aA57B78B54704E256024E', '0x18B2A687610328590Bc8F2e5fEdDe3b582A49cdA', '0xf89d7b9c864f589bbF53a82105107622B35EaA40', '0xf89d7b9c864f589bbF53a82105107622B35EaA40', '0xf89d7b9c864f589bbF53a82105107622B35EaA40', '0xf89d7b9c864f589bbF53a82105107622B35EaA40', '0xf89d7b9c864f589bbF53a82105107622B35EaA40', '0xFa500178de024BF43CFA69B7e636A28AB68F2741', '0x10ED43C718714eb63d5aA57B78B54704E256024E', '0x61B663e9F77898162aB095D24e65926cB85EC2e9', '0x52d7CDc9BdF0b24248210139d56cba7604559507', '0x489C2c24D5A6dD6c0ADd8EdB91F2C11db08721cb', '0x3A7363be44d8d299698FFC128c1368F244180770', '0x3d5d62F6cb6b1342714Ea649F76dD67aa98765cB', '0x10ED43C718714eb63d5aA57B78B54704E256024E', '0xb3E61851a0070C669879b75fAFf85FD07A9A32D2', '0x555881434ed47A4AD1A3cf0302b68B9CC3C2DCcB', '0xf5e963A0f4a5f8E567440B0DAF73729C0B311f27', '0xdb01F75C40FBF0b2684f9B7c9612E11674Cb2330', '0xA6513eadFcFf9DCa47796965B316A7F867aBd054', '0x10ED43C718714eb63d5aA57B78B54704E256024E', '0x85F771E2FC609922B8A21D7DBD52Bb12a3413596', '0x3A7363be44d8d299698FFC128c1368F244180770', '0x7A6A68244FEcc38DE2a78958AC8AF00626FF1031', '0xAfc53dB8506736e8264b4629E971a152Ec3FF7D4', '0x0024ab5b23a559c57cD3eb96Dec6CD5b20307eA6', '0xd352AA5b1006967888A929e29d109Ae1F181F10E', '0x13f4EA83D0bd40E75C8222255bc855a974568Dd4', '0x54088be017D05894AeE64dD7B25E80f5D7750b0B', '0x10ED43C718714eb63d5aA57B78B54704E256024E', '0x7b8A01B39D58278b5DE7e48c8449c9f4F5170613', '0x6d750A2E99EBe24263F6770C319FaA69CFA55209', '0x1a1ec25DC08e98e5E93F1104B5e5cdD298707d31', '0x10ED43C718714eb63d5aA57B78B54704E256024E', '0xb3443981f6d2523C28d1748755a7085b130Ddad8', '0xABDd47274369fcfff7ec27351da470134633EadE', '0x13f4EA83D0bd40E75C8222255bc855a974568Dd4', '0xF2b6C12c774CEABB7924277b6BBA4d2A3C3B521C', '0xBE66731E2CaD0217CD9D18f36f0F336c2acAb607', '0x975d9Bd9928F398c7E01F6ba236816Fa558cD94B', '0x060D87E6799adE726e91fb4c7C8ECb56A55bd7B0', '0xfEACb05b373f1A08E68235bA7FC92636b92ced01', '0x8894E0a0c962CB723c1976a4421c95949bE2D4E3', '0x8894E0a0c962CB723c1976a4421c95949bE2D4E3', '0x8894E0a0c962CB723c1976a4421c95949bE2D4E3', '0x8894E0a0c962CB723c1976a4421c95949bE2D4E3', '0x8894E0a0c962CB723c1976a4421c95949bE2D4E3', '0x8894E0a0c962CB723c1976a4421c95949bE2D4E3', '0x8894E0a0c962CB723c1976a4421c95949bE2D4E3', '0x10ED43C718714eb63d5aA57B78B54704E256024E', '0x9B66a43F89d735bb24F4B60C5Fc0C0f77fD47e37', '0x13f4EA83D0bd40E75C8222255bc855a974568Dd4', '0x8894E0a0c962CB723c1976a4421c95949bE2D4E3', '0x8894E0a0c962CB723c1976a4421c95949bE2D4E3', '0x8894E0a0c962CB723c1976a4421c95949bE2D4E3', '0x8894E0a0c962CB723c1976a4421c95949bE2D4E3', '0x8894E0a0c962CB723c1976a4421c95949bE2D4E3', '0x20C73523888e69B51A8C325baAcF52Ed02BBdD9a', '0x8894E0a0c962CB723c1976a4421c95949bE2D4E3', '0x8894E0a0c962CB723c1976a4421c95949bE2D4E3', '0xe979C72404E45E0ff7cCa6D1f143f0FfF888ce50', '0x8894E0a0c962CB723c1976a4421c95949bE2D4E3', '0x8894E0a0c962CB723c1976a4421c95949bE2D4E3', '0x8894E0a0c962CB723c1976a4421c95949bE2D4E3', '0x8894E0a0c962CB723c1976a4421c95949bE2D4E3', '0x8894E0a0c962CB723c1976a4421c95949bE2D4E3', '0xB91fD99b77Eb074bDfE2E550A254571b6A3F0b76', '0x8894E0a0c962CB723c1976a4421c95949bE2D4E3', '0x8894E0a0c962CB723c1976a4421c95949bE2D4E3', '0x2e13131125FD1DF5f041bCf3b394DE68f2B270E3', '0x10ED43C718714eb63d5aA57B78B54704E256024E', '0x4f322936C02d6B30Df9278E9AF9ef654b0A0D417', '0x10ED43C718714eb63d5aA57B78B54704E256024E', '0x8894E0a0c962CB723c1976a4421c95949bE2D4E3', '0x8894E0a0c962CB723c1976a4421c95949bE2D4E3', '0x8894E0a0c962CB723c1976a4421c95949bE2D4E3', '0x8894E0a0c962CB723c1976a4421c95949bE2D4E3', '0x8894E0a0c962CB723c1976a4421c95949bE2D4E3', '0xFa500178de024BF43CFA69B7e636A28AB68F2741', '0x10ED43C718714eb63d5aA57B78B54704E256024E', '0x8894E0a0c962CB723c1976a4421c95949bE2D4E3', '0x8894E0a0c962CB723c1976a4421c95949bE2D4E3', '0xA0FCA8fA8E9C6aA77305f94bE0e03908d0a42900', '0xaEF26F97620c5ad921771b30b4c6fEabF9d223Ab', '0x8894E0a0c962CB723c1976a4421c95949bE2D4E3', '0x27b0F2B249D48a0f48ae874646267872Dc209EDe', '0x8894E0a0c962CB723c1976a4421c95949bE2D4E3', '0x10ED43C718714eb63d5aA57B78B54704E256024E', '0x8894E0a0c962CB723c1976a4421c95949bE2D4E3', '0xc58Bb74606b73c5043B75d7Aa25ebe1D5D4E7c72', '0x8894E0a0c962CB723c1976a4421c95949bE2D4E3', '0x8894E0a0c962CB723c1976a4421c95949bE2D4E3', '0xc58Bb74606b73c5043B75d7Aa25ebe1D5D4E7c72', '0xC2aBF1F4d4aB92DfD40892e493dc42AA7cE61d86', '0xc58Bb74606b73c5043B75d7Aa25ebe1D5D4E7c72', '0x8a9793c54b5815e2c6915Fcc728d1Ae5c82767c1', '0x8894E0a0c962CB723c1976a4421c95949bE2D4E3', '0x90Da1773DbF9FEe15486fBB0b8533C85AB34Ecee', '0x8894E0a0c962CB723c1976a4421c95949bE2D4E3', '0xf700Fbd40bc22d49617c5397AD331D9f33CaFAA3', '0x10ED43C718714eb63d5aA57B78B54704E256024E', '0x8894E0a0c962CB723c1976a4421c95949bE2D4E3', '0x064fA2CB17C8F1c4Ce76c5416428e511E8c75A35', '0xdb01F75C40FBF0b2684f9B7c9612E11674Cb2330', '0x10ED43C718714eb63d5aA57B78B54704E256024E', '0xa851d393F7E80759eF3Dd4E380e83f186a6a9C34', '0xAaF64ADcD7dc9D5DE6eF5b7aab046e7C706cEf88', '0x13f4EA83D0bd40E75C8222255bc855a974568Dd4', '0xfDDB4472a13b83F834d90B7773e8e91539D977c7', '0x10ED43C718714eb63d5aA57B78B54704E256024E', '0x10ED43C718714eb63d5aA57B78B54704E256024E', '0x9C13fAE1ACC612F5d7d96975659A63FEeB252674', '0x10ED43C718714eb63d5aA57B78B54704E256024E', '0x10ED43C718714eb63d5aA57B78B54704E256024E', '0x1a1ec25DC08e98e5E93F1104B5e5cdD298707d31', '0x10ED43C718714eb63d5aA57B78B54704E256024E', '0x13f4EA83D0bd40E75C8222255bc855a974568Dd4', '0x80Af9D2d801Abd6307291c96e0b65aDB6D624933', '0xbF711697541039D2012eb865986BF2482d7e888D', '0x10ED43C718714eb63d5aA57B78B54704E256024E', '0x996aB1e0F1eaf62174b40f7d6e269C58021Fb277', '0x97b9D2102A9a65A26E1EE82D59e42d1B73B68689', '0xaBBf1Fa4EF7b44aE8Fe73A508c1877E1cba3b441', '0x3fC91A3afd70395Cd496C647d5a6CC9D4B2b7FAD', '0x3b5a23f6207d87B423C6789D2625eA620423b32D', '0xb4315e873dBcf96Ffd0acd8EA43f689D8c20fB30', '0x6F32AA5A6198329c16e438512F992a0548C856f9', '0x1E825064dA4214C8a167cd347f5dd30bCc7ea718', '0xFc54869b0CbAF04def3CB2356f20eB460cde073b', '0x13f4EA83D0bd40E75C8222255bc855a974568Dd4', '0x2e13131125FD1DF5f041bCf3b394DE68f2B270E3', '0x10ED43C718714eb63d5aA57B78B54704E256024E', '0x3F08E8a43c58cadE98b20ea15F17BD179E8db381', '0x41fe2C49a50a5084a16Fc56418BdC1C1E5dFF76C', '0xC4f0F9289c6eDA54154ccBFeB899eDE7A49368A8', '0xce16F69375520ab01377ce7B88f5BA8C48F8D666', '0x10ED43C718714eb63d5aA57B78B54704E256024E', '0x13f4EA83D0bd40E75C8222255bc855a974568Dd4']\n",
      "Values: [1000000000000000000, 3703460167368117300, 9150631500000000000, 6999500000000000000, 2036543734107092930, 1000000000000000000, 4432480000000000000, 6331490850000000000, 3262747000000000000, 2042421510000000000, 13984895000000000000, 1625908660000000000, 1069241000000000000, 1399895000000000000, 1176190470000000000, 1721919548253431700, 8031471500000000000, 2458224000000000000, 1727079548253431700, 1900000000000000000, 1099500000000000000, 1279770632000000000, 59962866780000000000, 1374000000000000000, 2730000000000000000, 1999999999999999999, 1019000000000000000, 8000000000000000000, 1000000000000000000, 2000000000000000000, 2537137000000000000, 1294715958000000000, 1693603479999999999, 1998000000000000000, 1000000000000000000, 1413937000000000000, 81690000000000000000, 15588462455592850316, 1081922900000000000, 20000000000000000000, 1201905000000000000, 1693666479999999999, 7550000000000000000, 1000000000000000000, 3250000000000000000, 6000000000000000000, 37963104000000000000, 1174784130000000000, 2251082334686794719, 1076422900000000000, 1099937000000000000, 1089937000000000000, 1104093194177721385, 1191626250000000000, 1149937000000000000, 1142517033979407000, 2900000000000000000, 2652390000000000000, 1000000000000000000, 1413246360000000000, 1357937000000000000, 1310966015884875770, 1509015767840946570, 1475731538000000000, 1867026410000000000, 1438951964015000000, 1576724704440047566, 2900000000000000000, 1554000000000000000, 1794000000000000000, 1642981460000000000, 1874981562118754612, 1869746584000000000, 6016524664040323425, 2120107000000000000, 2112179806534717958, 7146626000000000000, 1377600000000000000, 38796470000000000000, 5217883644945273000, 3099937000000000000, 2999493369000000000, 2404459986895241132, 3626035974380186001, 3499937000000000000, 1210172450000000000, 25950000000000000000, 4937855704000000000, 4030392602010975045, 21299550000000000000, 5223043644945273000, 4999874000000000000, 3000000000000000000, 5494000000000000000, 2500000000000000000, 6389224000000000000, 3173967600000000000, 37636030546337146418, 26027211338450766639, 7979853000000000000, 188067874000000000000, 8499853000000000000, 6332203490000000000, 39878489816716266496, 3620404850000000000, 199999746857000000000, 1316993768562828579, 3082093654598995000, 1449999873619000000000, 4577651940000000000, 1999999999999999999, 1475897000000000000, 3087253654598995000, 1420822720000000000, 2030573599000000000, 1230881763260576116, 2500000000000000000, 6000000000000000000, 2000000000000000000, 1393311653147948400, 2271428506346719400, 2000000000000000000, 45800000000000000000, 46767929265848800576, 1398471653147948400, 2276588506346719400, 1235500000000000000, 1000000000000000000, 1145923599799000000, 1450000000000000000000, 16500000000000000000, 3299709710000000000, 1682300000000000000, 1350949438916363864, 25095000000000000000, 2900000000000000000, 1530454318763847825, 2148062000000000000, 1886220000000000000, 1966160840000000000, 1875044562118754612, 2000000000000000000, 1302009693292309824, 43510000000000000000, 1000000000000000000]\n"
     ]
    }
   ],
   "source": [
    "minimum_balance_treshold = 4E19\n",
    "minimum_tx_value = 1E18\n",
    "latest_block_number = w3.eth.block_number\n",
    "\n",
    "wallets = {\n",
    "    'from': list(),\n",
    "    'to': list(), \n",
    "    'values': []\n",
    "    \n",
    "}\n",
    "\n",
    "for block_number in range(latest_block_number, latest_block_number -100, -1):\n",
    "    block = w3.eth.get_block(block_number, full_transactions=True)\n",
    "    for tx in block.transactions:\n",
    "        if tx['value'] >= minimum_tx_value:\n",
    "            wallets['values'].append(tx['value'])\n",
    "            wallets['from'].append(tx['from'])\n",
    "            wallets['to'].append(tx['to'])\n",
    "\n",
    "\n",
    "print(\"from:\", wallets['from'])\n",
    "print(\"to:\", wallets['to'])\n",
    "\n",
    "print(\"Values:\", wallets['values'])"
   ]
  },
  {
   "cell_type": "code",
   "execution_count": 120,
   "metadata": {},
   "outputs": [
    {
     "name": "stdout",
     "output_type": "stream",
     "text": [
      "                                          from_  \\\n",
      "0    0x717Ca09C830e720ba62a6245Ef76cFa5B72838C2   \n",
      "1    0x1FBe2AcEe135D991592f167Ac371f3DD893A508B   \n",
      "2    0xB6C23cCbFEd5FF31dD18D9D69b16F163D51Fc0d2   \n",
      "3    0x975d9Bd9928F398c7E01F6ba236816Fa558cD94B   \n",
      "4    0x4982085C9e2F89F2eCb8131Eca71aFAD896e89CB   \n",
      "..                                          ...   \n",
      "142  0x93c815EB196705424dCB8c94DBE4e1Ca35a5dc0a   \n",
      "143  0x05Cb1edEB5CE9930F853540116716708f7E8c733   \n",
      "144  0x71621fe81dfD54eCFC6336dd3894B111D28641Fe   \n",
      "145  0x312d9cB02f690Cbb86919Fe56127539b22194BA8   \n",
      "146  0x5EF69B3D37AcE98c8515b1cf98B36D3184291771   \n",
      "\n",
      "                                            to_                values  \n",
      "0    0x3A7363be44d8d299698FFC128c1368F244180770   1900000000000000000  \n",
      "1    0x3d5d62F6cb6b1342714Ea649F76dD67aa98765cB   1099500000000000000  \n",
      "2    0x10ED43C718714eb63d5aA57B78B54704E256024E   1279770632000000000  \n",
      "3    0xb3E61851a0070C669879b75fAFf85FD07A9A32D2  59962866780000000000  \n",
      "4    0x555881434ed47A4AD1A3cf0302b68B9CC3C2DCcB   1374000000000000000  \n",
      "..                                          ...                   ...  \n",
      "142  0x4982085C9e2F89F2eCb8131Eca71aFAD896e89CB  30004417080000000000  \n",
      "143  0xAd0c8e5b094Cc3AF9A6D5dC932A2a81EF3FE70C3  18000000000000000000  \n",
      "144  0x8c124877f0255A0Db94df5FD1417955b9843aac1   1500000000000000000  \n",
      "145  0x61f16ac5A143081299E98F13C89d19b88db48C46   2052896243455975000  \n",
      "146  0x10ED43C718714eb63d5aA57B78B54704E256024E   1192436698012392961  \n",
      "\n",
      "[147 rows x 3 columns]\n"
     ]
    }
   ],
   "source": [
    "import pandas as pd\n",
    "\n",
    "# Convert sets to lists\n",
    "from_addresses_list = list(wallets['from'])\n",
    "to_addresses_list = list(wallets['to'])\n",
    "\n",
    "# Create a DataFrame\n",
    "df = pd.DataFrame({\n",
    "    'from_': from_addresses_list,\n",
    "    'to_': to_addresses_list,\n",
    "    'values': wallets['values'],\n",
    "})\n",
    "\n",
    "print(df)"
   ]
  },
  {
   "cell_type": "code",
   "execution_count": 126,
   "metadata": {},
   "outputs": [
    {
     "ename": "ValueError",
     "evalue": "cannot insert balance_from, already exists",
     "output_type": "error",
     "traceback": [
      "\u001b[0;31m---------------------------------------------------------------------------\u001b[0m",
      "\u001b[0;31mValueError\u001b[0m                                Traceback (most recent call last)",
      "\u001b[0;32m/var/folders/fd/7nflbhgd79bc_g28mlzphckw0000gn/T/ipykernel_65631/2132318097.py\u001b[0m in \u001b[0;36m?\u001b[0;34m()\u001b[0m\n\u001b[0;32m----> 1\u001b[0;31m \u001b[0mdf\u001b[0m\u001b[0;34m.\u001b[0m\u001b[0minsert\u001b[0m\u001b[0;34m(\u001b[0m\u001b[0;36m3\u001b[0m\u001b[0;34m,\u001b[0m \u001b[0;34m'balance_from'\u001b[0m\u001b[0;34m,\u001b[0m \u001b[0;36m0\u001b[0m\u001b[0;34m)\u001b[0m\u001b[0;34m\u001b[0m\u001b[0;34m\u001b[0m\u001b[0m\n\u001b[0m\u001b[1;32m      2\u001b[0m \u001b[0mdf\u001b[0m\u001b[0;34m.\u001b[0m\u001b[0minsert\u001b[0m\u001b[0;34m(\u001b[0m\u001b[0;36m3\u001b[0m\u001b[0;34m,\u001b[0m \u001b[0;34m\"balance_to\"\u001b[0m\u001b[0;34m,\u001b[0m\u001b[0;36m0\u001b[0m\u001b[0;34m)\u001b[0m\u001b[0;34m\u001b[0m\u001b[0;34m\u001b[0m\u001b[0m\n\u001b[1;32m      3\u001b[0m \u001b[0mdf\u001b[0m\u001b[0;34m\u001b[0m\u001b[0;34m\u001b[0m\u001b[0m\n",
      "\u001b[0;32m~/anaconda3/envs/web3/lib/python3.9/site-packages/pandas/core/frame.py\u001b[0m in \u001b[0;36m?\u001b[0;34m(self, loc, column, value, allow_duplicates)\u001b[0m\n\u001b[1;32m   4768\u001b[0m                 \u001b[0;34m\"'self.flags.allows_duplicate_labels' is False.\"\u001b[0m\u001b[0;34m\u001b[0m\u001b[0;34m\u001b[0m\u001b[0m\n\u001b[1;32m   4769\u001b[0m             )\n\u001b[1;32m   4770\u001b[0m         \u001b[0;32mif\u001b[0m \u001b[0;32mnot\u001b[0m \u001b[0mallow_duplicates\u001b[0m \u001b[0;32mand\u001b[0m \u001b[0mcolumn\u001b[0m \u001b[0;32min\u001b[0m \u001b[0mself\u001b[0m\u001b[0;34m.\u001b[0m\u001b[0mcolumns\u001b[0m\u001b[0;34m:\u001b[0m\u001b[0;34m\u001b[0m\u001b[0;34m\u001b[0m\u001b[0m\n\u001b[1;32m   4771\u001b[0m             \u001b[0;31m# Should this be a different kind of error??\u001b[0m\u001b[0;34m\u001b[0m\u001b[0;34m\u001b[0m\u001b[0m\n\u001b[0;32m-> 4772\u001b[0;31m             \u001b[0;32mraise\u001b[0m \u001b[0mValueError\u001b[0m\u001b[0;34m(\u001b[0m\u001b[0;34mf\"cannot insert {column}, already exists\"\u001b[0m\u001b[0;34m)\u001b[0m\u001b[0;34m\u001b[0m\u001b[0;34m\u001b[0m\u001b[0m\n\u001b[0m\u001b[1;32m   4773\u001b[0m         \u001b[0;32mif\u001b[0m \u001b[0;32mnot\u001b[0m \u001b[0misinstance\u001b[0m\u001b[0;34m(\u001b[0m\u001b[0mloc\u001b[0m\u001b[0;34m,\u001b[0m \u001b[0mint\u001b[0m\u001b[0;34m)\u001b[0m\u001b[0;34m:\u001b[0m\u001b[0;34m\u001b[0m\u001b[0;34m\u001b[0m\u001b[0m\n\u001b[1;32m   4774\u001b[0m             \u001b[0;32mraise\u001b[0m \u001b[0mTypeError\u001b[0m\u001b[0;34m(\u001b[0m\u001b[0;34m\"loc must be int\"\u001b[0m\u001b[0;34m)\u001b[0m\u001b[0;34m\u001b[0m\u001b[0;34m\u001b[0m\u001b[0m\n\u001b[1;32m   4775\u001b[0m \u001b[0;34m\u001b[0m\u001b[0m\n",
      "\u001b[0;31mValueError\u001b[0m: cannot insert balance_from, already exists"
     ]
    }
   ],
   "source": [
    "df.insert(3, 'balance_from', 0)\n",
    "df.insert(3, \"balance_to\",0)\n",
    "df"
   ]
  },
  {
   "cell_type": "code",
   "execution_count": null,
   "metadata": {},
   "outputs": [
    {
     "name": "stdout",
     "output_type": "stream",
     "text": [
      "from\n"
     ]
    },
    {
     "ename": "TypeError",
     "evalue": "string indices must be integers",
     "output_type": "error",
     "traceback": [
      "\u001b[0;31m---------------------------------------------------------------------------\u001b[0m",
      "\u001b[0;31mTypeError\u001b[0m                                 Traceback (most recent call last)",
      "Cell \u001b[0;32mIn[119], line 5\u001b[0m\n\u001b[1;32m      3\u001b[0m \u001b[39mfor\u001b[39;00m address \u001b[39min\u001b[39;00m wallets:\n\u001b[1;32m      4\u001b[0m     \u001b[39mprint\u001b[39m(address)\n\u001b[0;32m----> 5\u001b[0m     balance_from \u001b[39m=\u001b[39m w3\u001b[39m.\u001b[39meth\u001b[39m.\u001b[39mget_balance(\u001b[39mint\u001b[39m(address[\u001b[39m'\u001b[39;49m\u001b[39mfrom\u001b[39;49m\u001b[39m'\u001b[39;49m]))\n\u001b[1;32m      6\u001b[0m     balance_to \u001b[39m=\u001b[39m w3\u001b[39m.\u001b[39meth\u001b[39m.\u001b[39mget_balance(address[\u001b[39m'\u001b[39m\u001b[39mto\u001b[39m\u001b[39m'\u001b[39m])\n\u001b[1;32m      7\u001b[0m     \u001b[39mif\u001b[39;00m balance_from \u001b[39m>\u001b[39m\u001b[39m=\u001b[39m minimum_balance_treshold \u001b[39mor\u001b[39;00m balance_to \u001b[39m>\u001b[39m\u001b[39m=\u001b[39m minimum_balance_treshold:\n",
      "\u001b[0;31mTypeError\u001b[0m: string indices must be integers"
     ]
    }
   ],
   "source": [
    "import numpy as np\n",
    "\n",
    "for address in wallets:\n",
    "    print(address)\n",
    "    balance_from = w3.eth.get_balance(int(address['from']))\n",
    "    balance_to = w3.eth.get_balance(address['to'])\n",
    "    if balance_from >= minimum_balance_treshold or balance_to >= minimum_balance_treshold:\n",
    "        print(np.round(balance/1E18))\n",
    "        wallets['balance_from'].append(balance_from)\n",
    "        wallets['balance_to'].append(balance_to)"
   ]
  },
  {
   "cell_type": "code",
   "execution_count": null,
   "metadata": {},
   "outputs": [],
   "source": [
    "def get_balance(row):\n",
    "    row['balance_from'] = np.round(w3.eth.get_balance(row['from_'])/1E18, 1)\n",
    "    row['balance_to'] = np.round(w3.eth.get_balance(row['to_'])/1E18, 1)\n",
    "    return row\n",
    "\n",
    "\n",
    "df= df.apply(get_balance, axis=1)"
   ]
  },
  {
   "cell_type": "code",
   "execution_count": 111,
   "metadata": {},
   "outputs": [
    {
     "data": {
      "text/html": [
       "<div>\n",
       "<style scoped>\n",
       "    .dataframe tbody tr th:only-of-type {\n",
       "        vertical-align: middle;\n",
       "    }\n",
       "\n",
       "    .dataframe tbody tr th {\n",
       "        vertical-align: top;\n",
       "    }\n",
       "\n",
       "    .dataframe thead th {\n",
       "        text-align: right;\n",
       "    }\n",
       "</style>\n",
       "<table border=\"1\" class=\"dataframe\">\n",
       "  <thead>\n",
       "    <tr style=\"text-align: right;\">\n",
       "      <th></th>\n",
       "      <th>from_</th>\n",
       "      <th>to_</th>\n",
       "      <th>values</th>\n",
       "      <th>balance_to</th>\n",
       "      <th>balance_from</th>\n",
       "      <th>balance_from_usd</th>\n",
       "      <th>balance_to_usd</th>\n",
       "    </tr>\n",
       "  </thead>\n",
       "  <tbody>\n",
       "    <tr>\n",
       "      <th>0</th>\n",
       "      <td>0x958B247D2093bd2F4444195aD67953B306e3Bf62</td>\n",
       "      <td>0x10ED43C718714eb63d5aA57B78B54704E256024E</td>\n",
       "      <td>3144266976266570000</td>\n",
       "      <td>0.000</td>\n",
       "      <td>0.054</td>\n",
       "      <td>11</td>\n",
       "      <td>0</td>\n",
       "    </tr>\n",
       "    <tr>\n",
       "      <th>1</th>\n",
       "      <td>0xE33E86A0Ac268E9F387ACb5CA25cb0b7d1E0B7F0</td>\n",
       "      <td>0xE358b1924bB492B1338baE84644636Af00a918fb</td>\n",
       "      <td>1200000000000000000</td>\n",
       "      <td>0.003</td>\n",
       "      <td>0.059</td>\n",
       "      <td>12</td>\n",
       "      <td>0</td>\n",
       "    </tr>\n",
       "    <tr>\n",
       "      <th>2</th>\n",
       "      <td>0x312d9cB02f690Cbb86919Fe56127539b22194BA8</td>\n",
       "      <td>0x958B247D2093bd2F4444195aD67953B306e3Bf62</td>\n",
       "      <td>3149426976266570000</td>\n",
       "      <td>0.054</td>\n",
       "      <td>56.517</td>\n",
       "      <td>12354</td>\n",
       "      <td>11</td>\n",
       "    </tr>\n",
       "    <tr>\n",
       "      <th>3</th>\n",
       "      <td>0x6853464A0b22f24A3e5CC8Ba13DfDb176a3c2204</td>\n",
       "      <td>0x10ED43C718714eb63d5aA57B78B54704E256024E</td>\n",
       "      <td>1731600000000000000</td>\n",
       "      <td>0.000</td>\n",
       "      <td>4.440</td>\n",
       "      <td>970</td>\n",
       "      <td>0</td>\n",
       "    </tr>\n",
       "    <tr>\n",
       "      <th>4</th>\n",
       "      <td>0x67eFBdD3E94ba11C83C56931b726AF12Fa8A0694</td>\n",
       "      <td>0x10ED43C718714eb63d5aA57B78B54704E256024E</td>\n",
       "      <td>2650000000000000000</td>\n",
       "      <td>0.000</td>\n",
       "      <td>0.144</td>\n",
       "      <td>31</td>\n",
       "      <td>0</td>\n",
       "    </tr>\n",
       "    <tr>\n",
       "      <th>...</th>\n",
       "      <td>...</td>\n",
       "      <td>...</td>\n",
       "      <td>...</td>\n",
       "      <td>...</td>\n",
       "      <td>...</td>\n",
       "      <td>...</td>\n",
       "      <td>...</td>\n",
       "    </tr>\n",
       "    <tr>\n",
       "      <th>129</th>\n",
       "      <td>0x73f5ebe90f27B46ea12e5795d16C4b408B19cc6F</td>\n",
       "      <td>0x4F02cEFc701F4cad1aFEd3C1bdb1A86DFDFeb623</td>\n",
       "      <td>1364000000000000000</td>\n",
       "      <td>0.000</td>\n",
       "      <td>20271.199</td>\n",
       "      <td>4431284</td>\n",
       "      <td>0</td>\n",
       "    </tr>\n",
       "    <tr>\n",
       "      <th>130</th>\n",
       "      <td>0x78858d665ADF9B3F100429df3287B3e1b343130c</td>\n",
       "      <td>0x0c59B3AeBAbb36a5AB8eCB92bf24b32B68929ab2</td>\n",
       "      <td>16558000000000000000</td>\n",
       "      <td>51.564</td>\n",
       "      <td>4.570</td>\n",
       "      <td>999</td>\n",
       "      <td>11271</td>\n",
       "    </tr>\n",
       "    <tr>\n",
       "      <th>131</th>\n",
       "      <td>0x9c303dE078c7252964059Cb252D0DcE2bDaa568F</td>\n",
       "      <td>0xCC650b486f723C924370656b509a82bD69526739</td>\n",
       "      <td>1000000000000000000</td>\n",
       "      <td>0.000</td>\n",
       "      <td>0.052</td>\n",
       "      <td>11</td>\n",
       "      <td>0</td>\n",
       "    </tr>\n",
       "    <tr>\n",
       "      <th>132</th>\n",
       "      <td>0xb9CEc130E19F40492E03E819CEB85b74D0538570</td>\n",
       "      <td>0x10ED43C718714eb63d5aA57B78B54704E256024E</td>\n",
       "      <td>2343318196069136000</td>\n",
       "      <td>0.000</td>\n",
       "      <td>0.095</td>\n",
       "      <td>20</td>\n",
       "      <td>0</td>\n",
       "    </tr>\n",
       "    <tr>\n",
       "      <th>133</th>\n",
       "      <td>0x6C301446A3b9737F33ba268cdd57c2e1B3805eDa</td>\n",
       "      <td>0xbb4CdB9CBd36B01bD1cBaEBF2De08d9173bc095c</td>\n",
       "      <td>2700000000000000000</td>\n",
       "      <td>2376663.309</td>\n",
       "      <td>0.003</td>\n",
       "      <td>0</td>\n",
       "      <td>519538599</td>\n",
       "    </tr>\n",
       "  </tbody>\n",
       "</table>\n",
       "<p>134 rows × 7 columns</p>\n",
       "</div>"
      ],
      "text/plain": [
       "                                          from_  \\\n",
       "0    0x958B247D2093bd2F4444195aD67953B306e3Bf62   \n",
       "1    0xE33E86A0Ac268E9F387ACb5CA25cb0b7d1E0B7F0   \n",
       "2    0x312d9cB02f690Cbb86919Fe56127539b22194BA8   \n",
       "3    0x6853464A0b22f24A3e5CC8Ba13DfDb176a3c2204   \n",
       "4    0x67eFBdD3E94ba11C83C56931b726AF12Fa8A0694   \n",
       "..                                          ...   \n",
       "129  0x73f5ebe90f27B46ea12e5795d16C4b408B19cc6F   \n",
       "130  0x78858d665ADF9B3F100429df3287B3e1b343130c   \n",
       "131  0x9c303dE078c7252964059Cb252D0DcE2bDaa568F   \n",
       "132  0xb9CEc130E19F40492E03E819CEB85b74D0538570   \n",
       "133  0x6C301446A3b9737F33ba268cdd57c2e1B3805eDa   \n",
       "\n",
       "                                            to_                values  \\\n",
       "0    0x10ED43C718714eb63d5aA57B78B54704E256024E   3144266976266570000   \n",
       "1    0xE358b1924bB492B1338baE84644636Af00a918fb   1200000000000000000   \n",
       "2    0x958B247D2093bd2F4444195aD67953B306e3Bf62   3149426976266570000   \n",
       "3    0x10ED43C718714eb63d5aA57B78B54704E256024E   1731600000000000000   \n",
       "4    0x10ED43C718714eb63d5aA57B78B54704E256024E   2650000000000000000   \n",
       "..                                          ...                   ...   \n",
       "129  0x4F02cEFc701F4cad1aFEd3C1bdb1A86DFDFeb623   1364000000000000000   \n",
       "130  0x0c59B3AeBAbb36a5AB8eCB92bf24b32B68929ab2  16558000000000000000   \n",
       "131  0xCC650b486f723C924370656b509a82bD69526739   1000000000000000000   \n",
       "132  0x10ED43C718714eb63d5aA57B78B54704E256024E   2343318196069136000   \n",
       "133  0xbb4CdB9CBd36B01bD1cBaEBF2De08d9173bc095c   2700000000000000000   \n",
       "\n",
       "      balance_to  balance_from  balance_from_usd  balance_to_usd  \n",
       "0          0.000         0.054                11               0  \n",
       "1          0.003         0.059                12               0  \n",
       "2          0.054        56.517             12354              11  \n",
       "3          0.000         4.440               970               0  \n",
       "4          0.000         0.144                31               0  \n",
       "..           ...           ...               ...             ...  \n",
       "129        0.000     20271.199           4431284               0  \n",
       "130       51.564         4.570               999           11271  \n",
       "131        0.000         0.052                11               0  \n",
       "132        0.000         0.095                20               0  \n",
       "133  2376663.309         0.003                 0       519538599  \n",
       "\n",
       "[134 rows x 7 columns]"
      ]
     },
     "execution_count": 111,
     "metadata": {},
     "output_type": "execute_result"
    }
   ],
   "source": [
    "import requests\n",
    "\n",
    "response = requests.get(\"https://api.coingecko.com/api/v3/simple/price?ids=binancecoin&vs_currencies=usd\")\n",
    "bnb_price_in_usd = response.json()[\"binancecoin\"][\"usd\"]\n",
    "\n",
    "df['balance_from_usd'] = (df['balance_from']* bnb_price_in_usd).astype(int)\n",
    "df['balance_to_usd'] = (df['balance_to'] * bnb_price_in_usd).astype(int)\n",
    "df"
   ]
  },
  {
   "cell_type": "code",
   "execution_count": null,
   "metadata": {},
   "outputs": [],
   "source": []
  },
  {
   "cell_type": "code",
   "execution_count": null,
   "metadata": {},
   "outputs": [],
   "source": []
  },
  {
   "cell_type": "code",
   "execution_count": null,
   "metadata": {},
   "outputs": [],
   "source": []
  },
  {
   "cell_type": "code",
   "execution_count": null,
   "metadata": {},
   "outputs": [],
   "source": []
  },
  {
   "cell_type": "code",
   "execution_count": null,
   "metadata": {},
   "outputs": [],
   "source": []
  },
  {
   "cell_type": "code",
   "execution_count": null,
   "metadata": {},
   "outputs": [],
   "source": []
  },
  {
   "cell_type": "code",
   "execution_count": 80,
   "metadata": {},
   "outputs": [
    {
     "name": "stdout",
     "output_type": "stream",
     "text": [
      "from\n"
     ]
    },
    {
     "ename": "TypeError",
     "evalue": "string indices must be integers",
     "output_type": "error",
     "traceback": [
      "\u001b[0;31m---------------------------------------------------------------------------\u001b[0m",
      "\u001b[0;31mTypeError\u001b[0m                                 Traceback (most recent call last)",
      "Cell \u001b[0;32mIn[80], line 5\u001b[0m\n\u001b[1;32m      3\u001b[0m \u001b[39mfor\u001b[39;00m address \u001b[39min\u001b[39;00m wallets:\n\u001b[1;32m      4\u001b[0m     \u001b[39mprint\u001b[39m(address)\n\u001b[0;32m----> 5\u001b[0m     balance_from \u001b[39m=\u001b[39m w3\u001b[39m.\u001b[39meth\u001b[39m.\u001b[39mget_balance(\u001b[39mint\u001b[39m(address[\u001b[39m'\u001b[39;49m\u001b[39mfrom\u001b[39;49m\u001b[39m'\u001b[39;49m]))\n\u001b[1;32m      6\u001b[0m     balance_to \u001b[39m=\u001b[39m w3\u001b[39m.\u001b[39meth\u001b[39m.\u001b[39mget_balance(address[\u001b[39m'\u001b[39m\u001b[39mto\u001b[39m\u001b[39m'\u001b[39m])\n\u001b[1;32m      7\u001b[0m     \u001b[39mif\u001b[39;00m balance_from \u001b[39m>\u001b[39m\u001b[39m=\u001b[39m minimum_balance_treshold \u001b[39mor\u001b[39;00m balance_to \u001b[39m>\u001b[39m\u001b[39m=\u001b[39m minimum_balance_treshold:\n",
      "\u001b[0;31mTypeError\u001b[0m: string indices must be integers"
     ]
    }
   ],
   "source": []
  },
  {
   "cell_type": "code",
   "execution_count": 89,
   "metadata": {},
   "outputs": [
    {
     "data": {
      "text/plain": [
       "76"
      ]
     },
     "execution_count": 89,
     "metadata": {},
     "output_type": "execute_result"
    }
   ],
   "source": [
    "wallet"
   ]
  },
  {
   "cell_type": "code",
   "execution_count": 86,
   "metadata": {},
   "outputs": [
    {
     "ename": "ValueError",
     "evalue": "All arrays must be of the same length",
     "output_type": "error",
     "traceback": [
      "\u001b[0;31m---------------------------------------------------------------------------\u001b[0m",
      "\u001b[0;31mValueError\u001b[0m                                Traceback (most recent call last)",
      "Cell \u001b[0;32mIn[86], line 8\u001b[0m\n\u001b[1;32m      5\u001b[0m to_addresses_list \u001b[39m=\u001b[39m \u001b[39mlist\u001b[39m(wallets[\u001b[39m'\u001b[39m\u001b[39mto\u001b[39m\u001b[39m'\u001b[39m])\n\u001b[1;32m      7\u001b[0m \u001b[39m# Create a DataFrame\u001b[39;00m\n\u001b[0;32m----> 8\u001b[0m df \u001b[39m=\u001b[39m pd\u001b[39m.\u001b[39;49mDataFrame({\n\u001b[1;32m      9\u001b[0m     \u001b[39m'\u001b[39;49m\u001b[39mfrom_\u001b[39;49m\u001b[39m'\u001b[39;49m: from_addresses_list,\n\u001b[1;32m     10\u001b[0m     \u001b[39m'\u001b[39;49m\u001b[39mto_\u001b[39;49m\u001b[39m'\u001b[39;49m: to_addresses_list,\n\u001b[1;32m     11\u001b[0m     \u001b[39m'\u001b[39;49m\u001b[39mvalues\u001b[39;49m\u001b[39m'\u001b[39;49m: wallets[\u001b[39m'\u001b[39;49m\u001b[39mvalues\u001b[39;49m\u001b[39m'\u001b[39;49m],\n\u001b[1;32m     12\u001b[0m })\n\u001b[1;32m     14\u001b[0m \u001b[39mprint\u001b[39m(df)\n",
      "File \u001b[0;32m~/anaconda3/envs/web3/lib/python3.9/site-packages/pandas/core/frame.py:709\u001b[0m, in \u001b[0;36mDataFrame.__init__\u001b[0;34m(self, data, index, columns, dtype, copy)\u001b[0m\n\u001b[1;32m    703\u001b[0m     mgr \u001b[39m=\u001b[39m \u001b[39mself\u001b[39m\u001b[39m.\u001b[39m_init_mgr(\n\u001b[1;32m    704\u001b[0m         data, axes\u001b[39m=\u001b[39m{\u001b[39m\"\u001b[39m\u001b[39mindex\u001b[39m\u001b[39m\"\u001b[39m: index, \u001b[39m\"\u001b[39m\u001b[39mcolumns\u001b[39m\u001b[39m\"\u001b[39m: columns}, dtype\u001b[39m=\u001b[39mdtype, copy\u001b[39m=\u001b[39mcopy\n\u001b[1;32m    705\u001b[0m     )\n\u001b[1;32m    707\u001b[0m \u001b[39melif\u001b[39;00m \u001b[39misinstance\u001b[39m(data, \u001b[39mdict\u001b[39m):\n\u001b[1;32m    708\u001b[0m     \u001b[39m# GH#38939 de facto copy defaults to False only in non-dict cases\u001b[39;00m\n\u001b[0;32m--> 709\u001b[0m     mgr \u001b[39m=\u001b[39m dict_to_mgr(data, index, columns, dtype\u001b[39m=\u001b[39;49mdtype, copy\u001b[39m=\u001b[39;49mcopy, typ\u001b[39m=\u001b[39;49mmanager)\n\u001b[1;32m    710\u001b[0m \u001b[39melif\u001b[39;00m \u001b[39misinstance\u001b[39m(data, ma\u001b[39m.\u001b[39mMaskedArray):\n\u001b[1;32m    711\u001b[0m     \u001b[39mfrom\u001b[39;00m \u001b[39mnumpy\u001b[39;00m\u001b[39m.\u001b[39;00m\u001b[39mma\u001b[39;00m \u001b[39mimport\u001b[39;00m mrecords\n",
      "File \u001b[0;32m~/anaconda3/envs/web3/lib/python3.9/site-packages/pandas/core/internals/construction.py:481\u001b[0m, in \u001b[0;36mdict_to_mgr\u001b[0;34m(data, index, columns, dtype, typ, copy)\u001b[0m\n\u001b[1;32m    477\u001b[0m     \u001b[39melse\u001b[39;00m:\n\u001b[1;32m    478\u001b[0m         \u001b[39m# dtype check to exclude e.g. range objects, scalars\u001b[39;00m\n\u001b[1;32m    479\u001b[0m         arrays \u001b[39m=\u001b[39m [x\u001b[39m.\u001b[39mcopy() \u001b[39mif\u001b[39;00m \u001b[39mhasattr\u001b[39m(x, \u001b[39m\"\u001b[39m\u001b[39mdtype\u001b[39m\u001b[39m\"\u001b[39m) \u001b[39melse\u001b[39;00m x \u001b[39mfor\u001b[39;00m x \u001b[39min\u001b[39;00m arrays]\n\u001b[0;32m--> 481\u001b[0m \u001b[39mreturn\u001b[39;00m arrays_to_mgr(arrays, columns, index, dtype\u001b[39m=\u001b[39;49mdtype, typ\u001b[39m=\u001b[39;49mtyp, consolidate\u001b[39m=\u001b[39;49mcopy)\n",
      "File \u001b[0;32m~/anaconda3/envs/web3/lib/python3.9/site-packages/pandas/core/internals/construction.py:115\u001b[0m, in \u001b[0;36marrays_to_mgr\u001b[0;34m(arrays, columns, index, dtype, verify_integrity, typ, consolidate)\u001b[0m\n\u001b[1;32m    112\u001b[0m \u001b[39mif\u001b[39;00m verify_integrity:\n\u001b[1;32m    113\u001b[0m     \u001b[39m# figure out the index, if necessary\u001b[39;00m\n\u001b[1;32m    114\u001b[0m     \u001b[39mif\u001b[39;00m index \u001b[39mis\u001b[39;00m \u001b[39mNone\u001b[39;00m:\n\u001b[0;32m--> 115\u001b[0m         index \u001b[39m=\u001b[39m _extract_index(arrays)\n\u001b[1;32m    116\u001b[0m     \u001b[39melse\u001b[39;00m:\n\u001b[1;32m    117\u001b[0m         index \u001b[39m=\u001b[39m ensure_index(index)\n",
      "File \u001b[0;32m~/anaconda3/envs/web3/lib/python3.9/site-packages/pandas/core/internals/construction.py:655\u001b[0m, in \u001b[0;36m_extract_index\u001b[0;34m(data)\u001b[0m\n\u001b[1;32m    653\u001b[0m lengths \u001b[39m=\u001b[39m \u001b[39mlist\u001b[39m(\u001b[39mset\u001b[39m(raw_lengths))\n\u001b[1;32m    654\u001b[0m \u001b[39mif\u001b[39;00m \u001b[39mlen\u001b[39m(lengths) \u001b[39m>\u001b[39m \u001b[39m1\u001b[39m:\n\u001b[0;32m--> 655\u001b[0m     \u001b[39mraise\u001b[39;00m \u001b[39mValueError\u001b[39;00m(\u001b[39m\"\u001b[39m\u001b[39mAll arrays must be of the same length\u001b[39m\u001b[39m\"\u001b[39m)\n\u001b[1;32m    657\u001b[0m \u001b[39mif\u001b[39;00m have_dicts:\n\u001b[1;32m    658\u001b[0m     \u001b[39mraise\u001b[39;00m \u001b[39mValueError\u001b[39;00m(\n\u001b[1;32m    659\u001b[0m         \u001b[39m\"\u001b[39m\u001b[39mMixing dicts with non-Series may lead to ambiguous ordering.\u001b[39m\u001b[39m\"\u001b[39m\n\u001b[1;32m    660\u001b[0m     )\n",
      "\u001b[0;31mValueError\u001b[0m: All arrays must be of the same length"
     ]
    }
   ],
   "source": [
    "import pandas as pd\n",
    "\n",
    "# Convert sets to lists\n",
    "from_addresses_list = list(wallets['from'])\n",
    "to_addresses_list = list(wallets['to'])\n",
    "\n",
    "# Create a DataFrame\n",
    "df = pd.DataFrame({\n",
    "    'from_': from_addresses_list,\n",
    "    'to_': to_addresses_list,\n",
    "    'values': wallets['values'],\n",
    "})\n",
    "\n",
    "print(df)\n"
   ]
  },
  {
   "cell_type": "code",
   "execution_count": null,
   "metadata": {},
   "outputs": [],
   "source": []
  },
  {
   "cell_type": "code",
   "execution_count": null,
   "metadata": {},
   "outputs": [],
   "source": []
  },
  {
   "cell_type": "code",
   "execution_count": null,
   "metadata": {},
   "outputs": [],
   "source": []
  },
  {
   "cell_type": "code",
   "execution_count": null,
   "metadata": {},
   "outputs": [],
   "source": []
  },
  {
   "cell_type": "code",
   "execution_count": 53,
   "metadata": {},
   "outputs": [
    {
     "data": {
      "text/html": [
       "<div>\n",
       "<style scoped>\n",
       "    .dataframe tbody tr th:only-of-type {\n",
       "        vertical-align: middle;\n",
       "    }\n",
       "\n",
       "    .dataframe tbody tr th {\n",
       "        vertical-align: top;\n",
       "    }\n",
       "\n",
       "    .dataframe thead th {\n",
       "        text-align: right;\n",
       "    }\n",
       "</style>\n",
       "<table border=\"1\" class=\"dataframe\">\n",
       "  <thead>\n",
       "    <tr style=\"text-align: right;\">\n",
       "      <th></th>\n",
       "      <th>from_</th>\n",
       "      <th>to_</th>\n",
       "      <th>values</th>\n",
       "    </tr>\n",
       "  </thead>\n",
       "  <tbody>\n",
       "    <tr>\n",
       "      <th>0</th>\n",
       "      <td>0xaf6E683F828555d260c9F6095D34E29a58A3916f</td>\n",
       "      <td>0x5B0061588b4753Df67445949AaA089898AdC0774</td>\n",
       "      <td>57287590602250000000</td>\n",
       "    </tr>\n",
       "    <tr>\n",
       "      <th>1</th>\n",
       "      <td>0x29bDfbf7D27462a2d115748ace2bd71A2646946c</td>\n",
       "      <td>0x10ED43C718714eb63d5aA57B78B54704E256024E</td>\n",
       "      <td>45672654999999996000</td>\n",
       "    </tr>\n",
       "    <tr>\n",
       "      <th>2</th>\n",
       "      <td>0xF6F18485F22A778fBeCC135eb835c4D65f904545</td>\n",
       "      <td>0x998873fC6791631BF23F375D3491CC7Fd497d571</td>\n",
       "      <td>45597139000000000000</td>\n",
       "    </tr>\n",
       "    <tr>\n",
       "      <th>3</th>\n",
       "      <td>0x998873fC6791631BF23F375D3491CC7Fd497d571</td>\n",
       "      <td>0x46A15B0b27311cedF172AB29E4f4766fbE7F4364</td>\n",
       "      <td>50300000000000000000</td>\n",
       "    </tr>\n",
       "    <tr>\n",
       "      <th>4</th>\n",
       "      <td>0xF2645F91053161938db26F9D3F69fcb133E751Bc</td>\n",
       "      <td>0x63cEf162041Af7c1d96e4F443A7114dD238CD9fE</td>\n",
       "      <td>88752053721799499468</td>\n",
       "    </tr>\n",
       "  </tbody>\n",
       "</table>\n",
       "</div>"
      ],
      "text/plain": [
       "                                        from_  \\\n",
       "0  0xaf6E683F828555d260c9F6095D34E29a58A3916f   \n",
       "1  0x29bDfbf7D27462a2d115748ace2bd71A2646946c   \n",
       "2  0xF6F18485F22A778fBeCC135eb835c4D65f904545   \n",
       "3  0x998873fC6791631BF23F375D3491CC7Fd497d571   \n",
       "4  0xF2645F91053161938db26F9D3F69fcb133E751Bc   \n",
       "\n",
       "                                          to_                values  \n",
       "0  0x5B0061588b4753Df67445949AaA089898AdC0774  57287590602250000000  \n",
       "1  0x10ED43C718714eb63d5aA57B78B54704E256024E  45672654999999996000  \n",
       "2  0x998873fC6791631BF23F375D3491CC7Fd497d571  45597139000000000000  \n",
       "3  0x46A15B0b27311cedF172AB29E4f4766fbE7F4364  50300000000000000000  \n",
       "4  0x63cEf162041Af7c1d96e4F443A7114dD238CD9fE  88752053721799499468  "
      ]
     },
     "execution_count": 53,
     "metadata": {},
     "output_type": "execute_result"
    }
   ],
   "source": [
    "df"
   ]
  },
  {
   "cell_type": "code",
   "execution_count": 55,
   "metadata": {},
   "outputs": [
    {
     "data": {
      "text/plain": [
       "349917815213550012"
      ]
     },
     "execution_count": 55,
     "metadata": {},
     "output_type": "execute_result"
    }
   ],
   "source": [
    "w3.eth.get_balance(\"0xaf6E683F828555d260c9F6095D34E29a58A3916f\")"
   ]
  },
  {
   "cell_type": "code",
   "execution_count": null,
   "metadata": {},
   "outputs": [],
   "source": []
  },
  {
   "cell_type": "code",
   "execution_count": null,
   "metadata": {},
   "outputs": [],
   "source": []
  },
  {
   "cell_type": "code",
   "execution_count": null,
   "metadata": {},
   "outputs": [],
   "source": []
  },
  {
   "cell_type": "code",
   "execution_count": 47,
   "metadata": {},
   "outputs": [
    {
     "data": {
      "text/plain": [
       "{'from': {'0x29bDfbf7D27462a2d115748ace2bd71A2646946c',\n",
       "  '0x998873fC6791631BF23F375D3491CC7Fd497d571',\n",
       "  '0xF2645F91053161938db26F9D3F69fcb133E751Bc',\n",
       "  '0xF6F18485F22A778fBeCC135eb835c4D65f904545',\n",
       "  '0xaf6E683F828555d260c9F6095D34E29a58A3916f'},\n",
       " 'to': {'0x10ED43C718714eb63d5aA57B78B54704E256024E',\n",
       "  '0x46A15B0b27311cedF172AB29E4f4766fbE7F4364',\n",
       "  '0x5B0061588b4753Df67445949AaA089898AdC0774',\n",
       "  '0x63cEf162041Af7c1d96e4F443A7114dD238CD9fE',\n",
       "  '0x998873fC6791631BF23F375D3491CC7Fd497d571'},\n",
       " 'values': [57287590602250000000,\n",
       "  45672654999999996000,\n",
       "  45597139000000000000,\n",
       "  50300000000000000000,\n",
       "  88752053721799499468]}"
      ]
     },
     "execution_count": 47,
     "metadata": {},
     "output_type": "execute_result"
    }
   ],
   "source": []
  },
  {
   "cell_type": "code",
   "execution_count": null,
   "metadata": {},
   "outputs": [],
   "source": []
  },
  {
   "cell_type": "code",
   "execution_count": null,
   "metadata": {},
   "outputs": [],
   "source": []
  },
  {
   "cell_type": "code",
   "execution_count": 40,
   "metadata": {},
   "outputs": [
    {
     "data": {
      "text/plain": [
       "[428281500000000000000,\n",
       " '0x0D0707963952f2fBA59dD06f2b425ace40b492Fe',\n",
       " '0x03C3d998f3B03D4A108b6c03994c5077c6D9033E']"
      ]
     },
     "execution_count": 40,
     "metadata": {},
     "output_type": "execute_result"
    }
   ],
   "source": [
    "wallets"
   ]
  },
  {
   "cell_type": "code",
   "execution_count": null,
   "metadata": {},
   "outputs": [],
   "source": []
  },
  {
   "cell_type": "code",
   "execution_count": 39,
   "metadata": {},
   "outputs": [
    {
     "ename": "TypeError",
     "evalue": "Address 428281500000000000000 must be provided as a string",
     "output_type": "error",
     "traceback": [
      "\u001b[0;31m---------------------------------------------------------------------------\u001b[0m",
      "\u001b[0;31mTypeError\u001b[0m                                 Traceback (most recent call last)",
      "Cell \u001b[0;32mIn[39], line 2\u001b[0m\n\u001b[1;32m      1\u001b[0m \u001b[39mfor\u001b[39;00m address \u001b[39min\u001b[39;00m wallets: \n\u001b[0;32m----> 2\u001b[0m     balance \u001b[39m=\u001b[39m w3\u001b[39m.\u001b[39;49meth\u001b[39m.\u001b[39;49mget_balance(address)\n\u001b[1;32m      3\u001b[0m     \u001b[39mif\u001b[39;00m balance \u001b[39m>\u001b[39m\u001b[39m=\u001b[39m minimum_balance_treshold:\n\u001b[1;32m      4\u001b[0m         \u001b[39mprint\u001b[39m(address)\n",
      "File \u001b[0;32m~/anaconda3/envs/web3/lib/python3.9/site-packages/web3/eth/eth.py:406\u001b[0m, in \u001b[0;36mEth.get_balance\u001b[0;34m(self, account, block_identifier)\u001b[0m\n\u001b[1;32m    401\u001b[0m \u001b[39mdef\u001b[39;00m \u001b[39mget_balance\u001b[39m(\n\u001b[1;32m    402\u001b[0m     \u001b[39mself\u001b[39m,\n\u001b[1;32m    403\u001b[0m     account: Union[Address, ChecksumAddress, ENS],\n\u001b[1;32m    404\u001b[0m     block_identifier: Optional[BlockIdentifier] \u001b[39m=\u001b[39m \u001b[39mNone\u001b[39;00m,\n\u001b[1;32m    405\u001b[0m ) \u001b[39m-\u001b[39m\u001b[39m>\u001b[39m Wei:\n\u001b[0;32m--> 406\u001b[0m     \u001b[39mreturn\u001b[39;00m \u001b[39mself\u001b[39;49m\u001b[39m.\u001b[39;49m_get_balance(account, block_identifier)\n",
      "File \u001b[0;32m~/anaconda3/envs/web3/lib/python3.9/site-packages/web3/module.py:62\u001b[0m, in \u001b[0;36mretrieve_blocking_method_call_fn.<locals>.caller\u001b[0;34m(*args, **kwargs)\u001b[0m\n\u001b[1;32m     60\u001b[0m \u001b[39mdef\u001b[39;00m \u001b[39mcaller\u001b[39m(\u001b[39m*\u001b[39margs: Any, \u001b[39m*\u001b[39m\u001b[39m*\u001b[39mkwargs: Any) \u001b[39m-\u001b[39m\u001b[39m>\u001b[39m Union[TReturn, LogFilter]:\n\u001b[1;32m     61\u001b[0m     \u001b[39mtry\u001b[39;00m:\n\u001b[0;32m---> 62\u001b[0m         (method_str, params), response_formatters \u001b[39m=\u001b[39m method\u001b[39m.\u001b[39;49mprocess_params(\n\u001b[1;32m     63\u001b[0m             module, \u001b[39m*\u001b[39;49margs, \u001b[39m*\u001b[39;49m\u001b[39m*\u001b[39;49mkwargs\n\u001b[1;32m     64\u001b[0m         )\n\u001b[1;32m     65\u001b[0m     \u001b[39mexcept\u001b[39;00m _UseExistingFilter \u001b[39mas\u001b[39;00m err:\n\u001b[1;32m     66\u001b[0m         \u001b[39mreturn\u001b[39;00m LogFilter(eth_module\u001b[39m=\u001b[39mmodule, filter_id\u001b[39m=\u001b[39merr\u001b[39m.\u001b[39mfilter_id)\n",
      "File \u001b[0;32m~/anaconda3/envs/web3/lib/python3.9/site-packages/web3/method.py:233\u001b[0m, in \u001b[0;36mMethod.process_params\u001b[0;34m(self, module, *args, **kwargs)\u001b[0m\n\u001b[1;32m    225\u001b[0m method \u001b[39m=\u001b[39m \u001b[39mself\u001b[39m\u001b[39m.\u001b[39mmethod_selector_fn()\n\u001b[1;32m    226\u001b[0m response_formatters \u001b[39m=\u001b[39m (\n\u001b[1;32m    227\u001b[0m     \u001b[39mself\u001b[39m\u001b[39m.\u001b[39mresult_formatters(method, module),\n\u001b[1;32m    228\u001b[0m     get_error_formatters(method),\n\u001b[1;32m    229\u001b[0m     \u001b[39mself\u001b[39m\u001b[39m.\u001b[39mnull_result_formatters(method),\n\u001b[1;32m    230\u001b[0m )\n\u001b[1;32m    231\u001b[0m request \u001b[39m=\u001b[39m (\n\u001b[1;32m    232\u001b[0m     method,\n\u001b[0;32m--> 233\u001b[0m     _apply_request_formatters(params, \u001b[39mself\u001b[39;49m\u001b[39m.\u001b[39;49mrequest_formatters(method)),\n\u001b[1;32m    234\u001b[0m )\n\u001b[1;32m    235\u001b[0m \u001b[39mreturn\u001b[39;00m request, response_formatters\n",
      "File \u001b[0;32m~/anaconda3/envs/web3/lib/python3.9/site-packages/eth_utils/functional.py:45\u001b[0m, in \u001b[0;36mapply_to_return_value.<locals>.outer.<locals>.inner\u001b[0;34m(*args, **kwargs)\u001b[0m\n\u001b[1;32m     43\u001b[0m \u001b[39m@functools\u001b[39m\u001b[39m.\u001b[39mwraps(fn)\n\u001b[1;32m     44\u001b[0m \u001b[39mdef\u001b[39;00m \u001b[39minner\u001b[39m(\u001b[39m*\u001b[39margs, \u001b[39m*\u001b[39m\u001b[39m*\u001b[39mkwargs) \u001b[39m-\u001b[39m\u001b[39m>\u001b[39m T:  \u001b[39m# type: ignore\u001b[39;00m\n\u001b[0;32m---> 45\u001b[0m     \u001b[39mreturn\u001b[39;00m callback(fn(\u001b[39m*\u001b[39;49margs, \u001b[39m*\u001b[39;49m\u001b[39m*\u001b[39;49mkwargs))\n",
      "File \u001b[0;32m~/anaconda3/envs/web3/lib/python3.9/site-packages/web3/method.py:55\u001b[0m, in \u001b[0;36m_apply_request_formatters\u001b[0;34m(params, request_formatters)\u001b[0m\n\u001b[1;32m     50\u001b[0m \u001b[39m@to_tuple\u001b[39m\n\u001b[1;32m     51\u001b[0m \u001b[39mdef\u001b[39;00m \u001b[39m_apply_request_formatters\u001b[39m(\n\u001b[1;32m     52\u001b[0m     params: Any, request_formatters: Dict[RPCEndpoint, Callable[\u001b[39m.\u001b[39m\u001b[39m.\u001b[39m\u001b[39m.\u001b[39m, TReturn]]\n\u001b[1;32m     53\u001b[0m ) \u001b[39m-\u001b[39m\u001b[39m>\u001b[39m Tuple[Any, \u001b[39m.\u001b[39m\u001b[39m.\u001b[39m\u001b[39m.\u001b[39m]:\n\u001b[1;32m     54\u001b[0m     \u001b[39mif\u001b[39;00m request_formatters:\n\u001b[0;32m---> 55\u001b[0m         formatted_params \u001b[39m=\u001b[39m pipe(params, request_formatters)\n\u001b[1;32m     56\u001b[0m         \u001b[39mreturn\u001b[39;00m formatted_params\n\u001b[1;32m     57\u001b[0m     \u001b[39mreturn\u001b[39;00m params\n",
      "File \u001b[0;32m~/anaconda3/envs/web3/lib/python3.9/site-packages/cytoolz/functoolz.pyx:680\u001b[0m, in \u001b[0;36mcytoolz.functoolz.pipe\u001b[0;34m()\u001b[0m\n",
      "File \u001b[0;32m~/anaconda3/envs/web3/lib/python3.9/site-packages/cytoolz/functoolz.pyx:655\u001b[0m, in \u001b[0;36mcytoolz.functoolz.c_pipe\u001b[0;34m()\u001b[0m\n",
      "File \u001b[0;32m~/anaconda3/envs/web3/lib/python3.9/site-packages/cytoolz/functoolz.pyx:518\u001b[0m, in \u001b[0;36mcytoolz.functoolz.Compose.__call__\u001b[0;34m()\u001b[0m\n",
      "File \u001b[0;32m~/anaconda3/envs/web3/lib/python3.9/site-packages/cytoolz/functoolz.pyx:267\u001b[0m, in \u001b[0;36mcytoolz.functoolz.curry.__call__\u001b[0;34m()\u001b[0m\n",
      "File \u001b[0;32m~/anaconda3/envs/web3/lib/python3.9/site-packages/cytoolz/functoolz.pyx:263\u001b[0m, in \u001b[0;36mcytoolz.functoolz.curry.__call__\u001b[0;34m()\u001b[0m\n",
      "File \u001b[0;32m~/anaconda3/envs/web3/lib/python3.9/site-packages/web3/_utils/abi.py:746\u001b[0m, in \u001b[0;36mmap_abi_data\u001b[0;34m(normalizers, types, data)\u001b[0m\n\u001b[1;32m    718\u001b[0m \u001b[39m\u001b[39m\u001b[39m\"\"\"\u001b[39;00m\n\u001b[1;32m    719\u001b[0m \u001b[39mThis function will apply normalizers to your data, in the\u001b[39;00m\n\u001b[1;32m    720\u001b[0m \u001b[39mcontext of the relevant types. Each normalizer is in the format:\u001b[39;00m\n\u001b[0;32m   (...)\u001b[0m\n\u001b[1;32m    738\u001b[0m \u001b[39m3. Stripping the types back out of the tree\u001b[39;00m\n\u001b[1;32m    739\u001b[0m \u001b[39m\"\"\"\u001b[39;00m\n\u001b[1;32m    740\u001b[0m pipeline \u001b[39m=\u001b[39m itertools\u001b[39m.\u001b[39mchain(\n\u001b[1;32m    741\u001b[0m     [abi_data_tree(types)],\n\u001b[1;32m    742\u001b[0m     \u001b[39mmap\u001b[39m(data_tree_map, normalizers),\n\u001b[1;32m    743\u001b[0m     [partial(recursive_map, strip_abi_type)],\n\u001b[1;32m    744\u001b[0m )\n\u001b[0;32m--> 746\u001b[0m \u001b[39mreturn\u001b[39;00m pipe(data, \u001b[39m*\u001b[39;49mpipeline)\n",
      "File \u001b[0;32m~/anaconda3/envs/web3/lib/python3.9/site-packages/cytoolz/functoolz.pyx:680\u001b[0m, in \u001b[0;36mcytoolz.functoolz.pipe\u001b[0;34m()\u001b[0m\n",
      "File \u001b[0;32m~/anaconda3/envs/web3/lib/python3.9/site-packages/cytoolz/functoolz.pyx:655\u001b[0m, in \u001b[0;36mcytoolz.functoolz.c_pipe\u001b[0;34m()\u001b[0m\n",
      "File \u001b[0;32m~/anaconda3/envs/web3/lib/python3.9/site-packages/cytoolz/functoolz.pyx:267\u001b[0m, in \u001b[0;36mcytoolz.functoolz.curry.__call__\u001b[0;34m()\u001b[0m\n",
      "File \u001b[0;32m~/anaconda3/envs/web3/lib/python3.9/site-packages/cytoolz/functoolz.pyx:263\u001b[0m, in \u001b[0;36mcytoolz.functoolz.curry.__call__\u001b[0;34m()\u001b[0m\n",
      "File \u001b[0;32m~/anaconda3/envs/web3/lib/python3.9/site-packages/web3/_utils/abi.py:781\u001b[0m, in \u001b[0;36mdata_tree_map\u001b[0;34m(func, data_tree)\u001b[0m\n\u001b[1;32m    778\u001b[0m     \u001b[39melse\u001b[39;00m:\n\u001b[1;32m    779\u001b[0m         \u001b[39mreturn\u001b[39;00m elements\n\u001b[0;32m--> 781\u001b[0m \u001b[39mreturn\u001b[39;00m recursive_map(map_to_typed_data, data_tree)\n",
      "File \u001b[0;32m~/anaconda3/envs/web3/lib/python3.9/site-packages/web3/_utils/decorators.py:30\u001b[0m, in \u001b[0;36mreject_recursive_repeats.<locals>.wrapped\u001b[0;34m(*args)\u001b[0m\n\u001b[1;32m     28\u001b[0m to_wrap\u001b[39m.\u001b[39m__already_called[thread_local_args] \u001b[39m=\u001b[39m \u001b[39mTrue\u001b[39;00m  \u001b[39m# type: ignore\u001b[39;00m\n\u001b[1;32m     29\u001b[0m \u001b[39mtry\u001b[39;00m:\n\u001b[0;32m---> 30\u001b[0m     wrapped_val \u001b[39m=\u001b[39m to_wrap(\u001b[39m*\u001b[39;49margs)\n\u001b[1;32m     31\u001b[0m \u001b[39mfinally\u001b[39;00m:\n\u001b[1;32m     32\u001b[0m     \u001b[39mdel\u001b[39;00m to_wrap\u001b[39m.\u001b[39m__already_called[thread_local_args]  \u001b[39m# type: ignore\u001b[39;00m\n",
      "File \u001b[0;32m~/anaconda3/envs/web3/lib/python3.9/site-packages/web3/_utils/formatters.py:84\u001b[0m, in \u001b[0;36mrecursive_map\u001b[0;34m(func, data)\u001b[0m\n\u001b[1;32m     81\u001b[0m \u001b[39mdef\u001b[39;00m \u001b[39mrecurse\u001b[39m(item: Any) \u001b[39m-\u001b[39m\u001b[39m>\u001b[39m TReturn:\n\u001b[1;32m     82\u001b[0m     \u001b[39mreturn\u001b[39;00m recursive_map(func, item)\n\u001b[0;32m---> 84\u001b[0m items_mapped \u001b[39m=\u001b[39m map_collection(recurse, data)\n\u001b[1;32m     85\u001b[0m \u001b[39mreturn\u001b[39;00m func(items_mapped)\n",
      "File \u001b[0;32m~/anaconda3/envs/web3/lib/python3.9/site-packages/web3/_utils/formatters.py:68\u001b[0m, in \u001b[0;36mmap_collection\u001b[0;34m(func, collection)\u001b[0m\n\u001b[1;32m     66\u001b[0m     \u001b[39mreturn\u001b[39;00m collection\n\u001b[1;32m     67\u001b[0m \u001b[39melif\u001b[39;00m \u001b[39misinstance\u001b[39m(collection, Iterable):\n\u001b[0;32m---> 68\u001b[0m     \u001b[39mreturn\u001b[39;00m datatype(\u001b[39mmap\u001b[39;49m(func, collection))\n\u001b[1;32m     69\u001b[0m \u001b[39melse\u001b[39;00m:\n\u001b[1;32m     70\u001b[0m     \u001b[39mreturn\u001b[39;00m collection\n",
      "File \u001b[0;32m~/anaconda3/envs/web3/lib/python3.9/site-packages/web3/_utils/formatters.py:82\u001b[0m, in \u001b[0;36mrecursive_map.<locals>.recurse\u001b[0;34m(item)\u001b[0m\n\u001b[1;32m     81\u001b[0m \u001b[39mdef\u001b[39;00m \u001b[39mrecurse\u001b[39m(item: Any) \u001b[39m-\u001b[39m\u001b[39m>\u001b[39m TReturn:\n\u001b[0;32m---> 82\u001b[0m     \u001b[39mreturn\u001b[39;00m recursive_map(func, item)\n",
      "File \u001b[0;32m~/anaconda3/envs/web3/lib/python3.9/site-packages/web3/_utils/decorators.py:30\u001b[0m, in \u001b[0;36mreject_recursive_repeats.<locals>.wrapped\u001b[0;34m(*args)\u001b[0m\n\u001b[1;32m     28\u001b[0m to_wrap\u001b[39m.\u001b[39m__already_called[thread_local_args] \u001b[39m=\u001b[39m \u001b[39mTrue\u001b[39;00m  \u001b[39m# type: ignore\u001b[39;00m\n\u001b[1;32m     29\u001b[0m \u001b[39mtry\u001b[39;00m:\n\u001b[0;32m---> 30\u001b[0m     wrapped_val \u001b[39m=\u001b[39m to_wrap(\u001b[39m*\u001b[39;49margs)\n\u001b[1;32m     31\u001b[0m \u001b[39mfinally\u001b[39;00m:\n\u001b[1;32m     32\u001b[0m     \u001b[39mdel\u001b[39;00m to_wrap\u001b[39m.\u001b[39m__already_called[thread_local_args]  \u001b[39m# type: ignore\u001b[39;00m\n",
      "File \u001b[0;32m~/anaconda3/envs/web3/lib/python3.9/site-packages/web3/_utils/formatters.py:85\u001b[0m, in \u001b[0;36mrecursive_map\u001b[0;34m(func, data)\u001b[0m\n\u001b[1;32m     82\u001b[0m     \u001b[39mreturn\u001b[39;00m recursive_map(func, item)\n\u001b[1;32m     84\u001b[0m items_mapped \u001b[39m=\u001b[39m map_collection(recurse, data)\n\u001b[0;32m---> 85\u001b[0m \u001b[39mreturn\u001b[39;00m func(items_mapped)\n",
      "File \u001b[0;32m~/anaconda3/envs/web3/lib/python3.9/site-packages/web3/_utils/abi.py:777\u001b[0m, in \u001b[0;36mdata_tree_map.<locals>.map_to_typed_data\u001b[0;34m(elements)\u001b[0m\n\u001b[1;32m    775\u001b[0m \u001b[39mdef\u001b[39;00m \u001b[39mmap_to_typed_data\u001b[39m(elements: Any) \u001b[39m-\u001b[39m\u001b[39m>\u001b[39m \u001b[39m\"\u001b[39m\u001b[39mABITypedData\u001b[39m\u001b[39m\"\u001b[39m:\n\u001b[1;32m    776\u001b[0m     \u001b[39mif\u001b[39;00m \u001b[39misinstance\u001b[39m(elements, ABITypedData) \u001b[39mand\u001b[39;00m elements\u001b[39m.\u001b[39mabi_type \u001b[39mis\u001b[39;00m \u001b[39mnot\u001b[39;00m \u001b[39mNone\u001b[39;00m:\n\u001b[0;32m--> 777\u001b[0m         \u001b[39mreturn\u001b[39;00m ABITypedData(func(\u001b[39m*\u001b[39;49melements))\n\u001b[1;32m    778\u001b[0m     \u001b[39melse\u001b[39;00m:\n\u001b[1;32m    779\u001b[0m         \u001b[39mreturn\u001b[39;00m elements\n",
      "File \u001b[0;32m~/anaconda3/envs/web3/lib/python3.9/site-packages/web3/_utils/normalizers.py:80\u001b[0m, in \u001b[0;36mimplicitly_identity.<locals>.wrapper\u001b[0;34m(type_str, data)\u001b[0m\n\u001b[1;32m     78\u001b[0m \u001b[39m@functools\u001b[39m\u001b[39m.\u001b[39mwraps(to_wrap)\n\u001b[1;32m     79\u001b[0m \u001b[39mdef\u001b[39;00m \u001b[39mwrapper\u001b[39m(type_str: TypeStr, data: Any) \u001b[39m-\u001b[39m\u001b[39m>\u001b[39m Tuple[TypeStr, Any]:\n\u001b[0;32m---> 80\u001b[0m     modified \u001b[39m=\u001b[39m to_wrap(type_str, data)\n\u001b[1;32m     81\u001b[0m     \u001b[39mif\u001b[39;00m modified \u001b[39mis\u001b[39;00m \u001b[39mNone\u001b[39;00m:\n\u001b[1;32m     82\u001b[0m         \u001b[39mreturn\u001b[39;00m type_str, data\n",
      "File \u001b[0;32m~/anaconda3/envs/web3/lib/python3.9/site-packages/web3/_utils/normalizers.py:203\u001b[0m, in \u001b[0;36mabi_address_to_hex\u001b[0;34m(type_str, data)\u001b[0m\n\u001b[1;32m    198\u001b[0m \u001b[39m@implicitly_identity\u001b[39m\n\u001b[1;32m    199\u001b[0m \u001b[39mdef\u001b[39;00m \u001b[39mabi_address_to_hex\u001b[39m(\n\u001b[1;32m    200\u001b[0m     type_str: TypeStr, data: Any\n\u001b[1;32m    201\u001b[0m ) \u001b[39m-\u001b[39m\u001b[39m>\u001b[39m Optional[Tuple[TypeStr, ChecksumAddress]]:\n\u001b[1;32m    202\u001b[0m     \u001b[39mif\u001b[39;00m type_str \u001b[39m==\u001b[39m \u001b[39m\"\u001b[39m\u001b[39maddress\u001b[39m\u001b[39m\"\u001b[39m:\n\u001b[0;32m--> 203\u001b[0m         validate_address(data)\n\u001b[1;32m    204\u001b[0m         \u001b[39mif\u001b[39;00m is_binary_address(data):\n\u001b[1;32m    205\u001b[0m             \u001b[39mreturn\u001b[39;00m type_str, to_checksum_address(data)\n",
      "File \u001b[0;32m~/anaconda3/envs/web3/lib/python3.9/site-packages/web3/_utils/validation.py:176\u001b[0m, in \u001b[0;36mvalidate_address\u001b[0;34m(value)\u001b[0m\n\u001b[1;32m    173\u001b[0m     \u001b[39mreturn\u001b[39;00m\n\u001b[1;32m    175\u001b[0m \u001b[39mif\u001b[39;00m \u001b[39mnot\u001b[39;00m \u001b[39misinstance\u001b[39m(value, \u001b[39mstr\u001b[39m):\n\u001b[0;32m--> 176\u001b[0m     \u001b[39mraise\u001b[39;00m \u001b[39mTypeError\u001b[39;00m(\u001b[39mf\u001b[39m\u001b[39m\"\u001b[39m\u001b[39mAddress \u001b[39m\u001b[39m{\u001b[39;00mvalue\u001b[39m}\u001b[39;00m\u001b[39m must be provided as a string\u001b[39m\u001b[39m\"\u001b[39m)\n\u001b[1;32m    177\u001b[0m \u001b[39mif\u001b[39;00m \u001b[39mnot\u001b[39;00m is_hex_address(value):\n\u001b[1;32m    178\u001b[0m     \u001b[39mraise\u001b[39;00m InvalidAddress(\n\u001b[1;32m    179\u001b[0m         \u001b[39m\"\u001b[39m\u001b[39mAddress must be 20 bytes, as a hex string with a 0x prefix\u001b[39m\u001b[39m\"\u001b[39m, value\n\u001b[1;32m    180\u001b[0m     )\n",
      "\u001b[0;31mTypeError\u001b[0m: Address 428281500000000000000 must be provided as a string"
     ]
    }
   ],
   "source": [
    "for address in wallets: \n",
    "    balance = w3.eth.get_balance(address)\n",
    "    if balance >= minimum_balance_treshold:\n",
    "        print(address)"
   ]
  },
  {
   "cell_type": "code",
   "execution_count": null,
   "metadata": {},
   "outputs": [],
   "source": []
  },
  {
   "cell_type": "code",
   "execution_count": null,
   "metadata": {},
   "outputs": [],
   "source": []
  },
  {
   "cell_type": "code",
   "execution_count": 16,
   "metadata": {},
   "outputs": [
    {
     "ename": "ExtraDataLengthError",
     "evalue": "The field extraData is 280 bytes, but should be 32. It is quite likely that you are connected to a POA chain. Refer to http://web3py.readthedocs.io/en/stable/middleware.html#proof-of-authority for more details. The full extraData is: HexBytes('0xd88301020a846765746888676f312e31392e38856c696e7578000000b19df4a2f8b5830defffb860869e9c7aca9fadc20eb446c28abbddaba1de127931c2826bb5d9ad57696bf82fb8d2583d1e524ed1e74a5eb14c89dedc09e29b0e7c38535ba56a945bd1a388274320285a93af9e298bfbad19967bcedbb21156038a031f45924106abac023606f84c8401d85abda0dcd152f77eef8ed973dbb18e204d5342c853ca95b675d851f9aa92c7ae05bf238401d85abea01c3f58375713cba7d58dfbaa2aae43d72c3e487a6e8edb22eec35def01b5ec1b80c94db992dcd04cd602f04019013ebd28dffae1e13e9c6b46b5b608db980b2b173cd7718a9a9ea79de73c402d9dbd5c4da1b608cf7c3d7b9c5ae79e8335ca2a5e00')",
     "output_type": "error",
     "traceback": [
      "\u001b[0;31m---------------------------------------------------------------------------\u001b[0m",
      "\u001b[0;31mExtraDataLengthError\u001b[0m                      Traceback (most recent call last)",
      "Cell \u001b[0;32mIn[16], line 6\u001b[0m\n\u001b[1;32m      4\u001b[0m wallets \u001b[39m=\u001b[39m[]\n\u001b[1;32m      5\u001b[0m \u001b[39mfor\u001b[39;00m block_number \u001b[39min\u001b[39;00m \u001b[39mrange\u001b[39m(latest_block_number\u001b[39m-\u001b[39m\u001b[39m1\u001b[39m, latest_block_number\u001b[39m-\u001b[39m\u001b[39m100\u001b[39m, \u001b[39m-\u001b[39m\u001b[39m1\u001b[39m):\n\u001b[0;32m----> 6\u001b[0m     block \u001b[39m=\u001b[39m w3\u001b[39m.\u001b[39;49meth\u001b[39m.\u001b[39;49mget_block(block_number)\n\u001b[1;32m      7\u001b[0m     \u001b[39mfor\u001b[39;00m tx \u001b[39min\u001b[39;00m block\u001b[39m.\u001b[39mtransactions:\n\u001b[1;32m      8\u001b[0m         \u001b[39mif\u001b[39;00m tx[\u001b[39m'\u001b[39m\u001b[39mvalue\u001b[39m\u001b[39m'\u001b[39m]\u001b[39m>\u001b[39m\u001b[39m=\u001b[39m minimum_balance_treshold:\n",
      "File \u001b[0;32m~/anaconda3/envs/web3/lib/python3.9/site-packages/web3/eth/eth.py:390\u001b[0m, in \u001b[0;36mEth.get_block\u001b[0;34m(self, block_identifier, full_transactions)\u001b[0m\n\u001b[1;32m    387\u001b[0m \u001b[39mdef\u001b[39;00m \u001b[39mget_block\u001b[39m(\n\u001b[1;32m    388\u001b[0m     \u001b[39mself\u001b[39m, block_identifier: BlockIdentifier, full_transactions: \u001b[39mbool\u001b[39m \u001b[39m=\u001b[39m \u001b[39mFalse\u001b[39;00m\n\u001b[1;32m    389\u001b[0m ) \u001b[39m-\u001b[39m\u001b[39m>\u001b[39m BlockData:\n\u001b[0;32m--> 390\u001b[0m     \u001b[39mreturn\u001b[39;00m \u001b[39mself\u001b[39;49m\u001b[39m.\u001b[39;49m_get_block(block_identifier, full_transactions)\n",
      "File \u001b[0;32m~/anaconda3/envs/web3/lib/python3.9/site-packages/web3/module.py:73\u001b[0m, in \u001b[0;36mretrieve_blocking_method_call_fn.<locals>.caller\u001b[0;34m(*args, **kwargs)\u001b[0m\n\u001b[1;32m     66\u001b[0m     \u001b[39mreturn\u001b[39;00m LogFilter(eth_module\u001b[39m=\u001b[39mmodule, filter_id\u001b[39m=\u001b[39merr\u001b[39m.\u001b[39mfilter_id)\n\u001b[1;32m     68\u001b[0m (\n\u001b[1;32m     69\u001b[0m     result_formatters,\n\u001b[1;32m     70\u001b[0m     error_formatters,\n\u001b[1;32m     71\u001b[0m     null_result_formatters,\n\u001b[1;32m     72\u001b[0m ) \u001b[39m=\u001b[39m response_formatters\n\u001b[0;32m---> 73\u001b[0m result \u001b[39m=\u001b[39m w3\u001b[39m.\u001b[39;49mmanager\u001b[39m.\u001b[39;49mrequest_blocking(\n\u001b[1;32m     74\u001b[0m     method_str, params, error_formatters, null_result_formatters\n\u001b[1;32m     75\u001b[0m )\n\u001b[1;32m     76\u001b[0m \u001b[39mreturn\u001b[39;00m apply_result_formatters(result_formatters, result)\n",
      "File \u001b[0;32m~/anaconda3/envs/web3/lib/python3.9/site-packages/web3/manager.py:249\u001b[0m, in \u001b[0;36mRequestManager.request_blocking\u001b[0;34m(self, method, params, error_formatters, null_result_formatters)\u001b[0m\n\u001b[1;32m    239\u001b[0m \u001b[39mdef\u001b[39;00m \u001b[39mrequest_blocking\u001b[39m(\n\u001b[1;32m    240\u001b[0m     \u001b[39mself\u001b[39m,\n\u001b[1;32m    241\u001b[0m     method: Union[RPCEndpoint, Callable[\u001b[39m.\u001b[39m\u001b[39m.\u001b[39m\u001b[39m.\u001b[39m, RPCEndpoint]],\n\u001b[0;32m   (...)\u001b[0m\n\u001b[1;32m    244\u001b[0m     null_result_formatters: Optional[Callable[\u001b[39m.\u001b[39m\u001b[39m.\u001b[39m\u001b[39m.\u001b[39m, Any]] \u001b[39m=\u001b[39m \u001b[39mNone\u001b[39;00m,\n\u001b[1;32m    245\u001b[0m ) \u001b[39m-\u001b[39m\u001b[39m>\u001b[39m Any:\n\u001b[1;32m    246\u001b[0m \u001b[39m    \u001b[39m\u001b[39m\"\"\"\u001b[39;00m\n\u001b[1;32m    247\u001b[0m \u001b[39m    Make a synchronous request using the provider\u001b[39;00m\n\u001b[1;32m    248\u001b[0m \u001b[39m    \"\"\"\u001b[39;00m\n\u001b[0;32m--> 249\u001b[0m     response \u001b[39m=\u001b[39m \u001b[39mself\u001b[39;49m\u001b[39m.\u001b[39;49m_make_request(method, params)\n\u001b[1;32m    250\u001b[0m     \u001b[39mreturn\u001b[39;00m \u001b[39mself\u001b[39m\u001b[39m.\u001b[39mformatted_response(\n\u001b[1;32m    251\u001b[0m         response, params, error_formatters, null_result_formatters\n\u001b[1;32m    252\u001b[0m     )\n",
      "File \u001b[0;32m~/anaconda3/envs/web3/lib/python3.9/site-packages/web3/manager.py:188\u001b[0m, in \u001b[0;36mRequestManager._make_request\u001b[0;34m(self, method, params)\u001b[0m\n\u001b[1;32m    184\u001b[0m request_func \u001b[39m=\u001b[39m provider\u001b[39m.\u001b[39mrequest_func(\n\u001b[1;32m    185\u001b[0m     cast(\u001b[39m\"\u001b[39m\u001b[39mWeb3\u001b[39m\u001b[39m\"\u001b[39m, \u001b[39mself\u001b[39m\u001b[39m.\u001b[39mw3), cast(MiddlewareOnion, \u001b[39mself\u001b[39m\u001b[39m.\u001b[39mmiddleware_onion)\n\u001b[1;32m    186\u001b[0m )\n\u001b[1;32m    187\u001b[0m \u001b[39mself\u001b[39m\u001b[39m.\u001b[39mlogger\u001b[39m.\u001b[39mdebug(\u001b[39mf\u001b[39m\u001b[39m\"\u001b[39m\u001b[39mMaking request. Method: \u001b[39m\u001b[39m{\u001b[39;00mmethod\u001b[39m}\u001b[39;00m\u001b[39m\"\u001b[39m)\n\u001b[0;32m--> 188\u001b[0m \u001b[39mreturn\u001b[39;00m request_func(method, params)\n",
      "File \u001b[0;32m~/anaconda3/envs/web3/lib/python3.9/site-packages/web3/middleware/gas_price_strategy.py:101\u001b[0m, in \u001b[0;36mgas_price_strategy_middleware.<locals>.middleware\u001b[0;34m(method, params)\u001b[0m\n\u001b[1;32m     97\u001b[0m     transaction \u001b[39m=\u001b[39m validate_transaction_params(\n\u001b[1;32m     98\u001b[0m         transaction, latest_block, generated_gas_price\n\u001b[1;32m     99\u001b[0m     )\n\u001b[1;32m    100\u001b[0m     \u001b[39mreturn\u001b[39;00m make_request(method, (transaction,))\n\u001b[0;32m--> 101\u001b[0m \u001b[39mreturn\u001b[39;00m make_request(method, params)\n",
      "File \u001b[0;32m~/anaconda3/envs/web3/lib/python3.9/site-packages/web3/middleware/formatting.py:106\u001b[0m, in \u001b[0;36mconstruct_web3_formatting_middleware.<locals>.formatter_middleware.<locals>.middleware\u001b[0;34m(method, params)\u001b[0m\n\u001b[1;32m    104\u001b[0m     formatter \u001b[39m=\u001b[39m request_formatters[method]\n\u001b[1;32m    105\u001b[0m     params \u001b[39m=\u001b[39m formatter(params)\n\u001b[0;32m--> 106\u001b[0m response \u001b[39m=\u001b[39m make_request(method, params)\n\u001b[1;32m    108\u001b[0m \u001b[39mreturn\u001b[39;00m _apply_response_formatters(\n\u001b[1;32m    109\u001b[0m     method,\n\u001b[1;32m    110\u001b[0m     formatters[\u001b[39m\"\u001b[39m\u001b[39mresult_formatters\u001b[39m\u001b[39m\"\u001b[39m],\n\u001b[1;32m    111\u001b[0m     formatters[\u001b[39m\"\u001b[39m\u001b[39merror_formatters\u001b[39m\u001b[39m\"\u001b[39m],\n\u001b[1;32m    112\u001b[0m     response,\n\u001b[1;32m    113\u001b[0m )\n",
      "File \u001b[0;32m~/anaconda3/envs/web3/lib/python3.9/site-packages/web3/middleware/attrdict.py:43\u001b[0m, in \u001b[0;36mattrdict_middleware.<locals>.middleware\u001b[0;34m(method, params)\u001b[0m\n\u001b[1;32m     42\u001b[0m \u001b[39mdef\u001b[39;00m \u001b[39mmiddleware\u001b[39m(method: RPCEndpoint, params: Any) \u001b[39m-\u001b[39m\u001b[39m>\u001b[39m RPCResponse:\n\u001b[0;32m---> 43\u001b[0m     response \u001b[39m=\u001b[39m make_request(method, params)\n\u001b[1;32m     45\u001b[0m     \u001b[39mif\u001b[39;00m \u001b[39m\"\u001b[39m\u001b[39mresult\u001b[39m\u001b[39m\"\u001b[39m \u001b[39min\u001b[39;00m response:\n\u001b[1;32m     46\u001b[0m         \u001b[39mreturn\u001b[39;00m assoc(\n\u001b[1;32m     47\u001b[0m             response, \u001b[39m\"\u001b[39m\u001b[39mresult\u001b[39m\u001b[39m\"\u001b[39m, AttributeDict\u001b[39m.\u001b[39mrecursive(response[\u001b[39m\"\u001b[39m\u001b[39mresult\u001b[39m\u001b[39m\"\u001b[39m])\n\u001b[1;32m     48\u001b[0m         )\n",
      "File \u001b[0;32m~/anaconda3/envs/web3/lib/python3.9/site-packages/web3/middleware/formatting.py:108\u001b[0m, in \u001b[0;36mconstruct_web3_formatting_middleware.<locals>.formatter_middleware.<locals>.middleware\u001b[0;34m(method, params)\u001b[0m\n\u001b[1;32m    105\u001b[0m     params \u001b[39m=\u001b[39m formatter(params)\n\u001b[1;32m    106\u001b[0m response \u001b[39m=\u001b[39m make_request(method, params)\n\u001b[0;32m--> 108\u001b[0m \u001b[39mreturn\u001b[39;00m _apply_response_formatters(\n\u001b[1;32m    109\u001b[0m     method,\n\u001b[1;32m    110\u001b[0m     formatters[\u001b[39m\"\u001b[39;49m\u001b[39mresult_formatters\u001b[39;49m\u001b[39m\"\u001b[39;49m],\n\u001b[1;32m    111\u001b[0m     formatters[\u001b[39m\"\u001b[39;49m\u001b[39merror_formatters\u001b[39;49m\u001b[39m\"\u001b[39;49m],\n\u001b[1;32m    112\u001b[0m     response,\n\u001b[1;32m    113\u001b[0m )\n",
      "File \u001b[0;32m~/anaconda3/envs/web3/lib/python3.9/site-packages/cytoolz/functoolz.pyx:263\u001b[0m, in \u001b[0;36mcytoolz.functoolz.curry.__call__\u001b[0;34m()\u001b[0m\n",
      "File \u001b[0;32m~/anaconda3/envs/web3/lib/python3.9/site-packages/web3/middleware/formatting.py:61\u001b[0m, in \u001b[0;36m_apply_response_formatters\u001b[0;34m(method, result_formatters, error_formatters, response)\u001b[0m\n\u001b[1;32m     56\u001b[0m     \u001b[39mreturn\u001b[39;00m assoc(\n\u001b[1;32m     57\u001b[0m         response, response_type, method_response_formatter(appropriate_response)\n\u001b[1;32m     58\u001b[0m     )\n\u001b[1;32m     60\u001b[0m \u001b[39mif\u001b[39;00m response\u001b[39m.\u001b[39mget(\u001b[39m\"\u001b[39m\u001b[39mresult\u001b[39m\u001b[39m\"\u001b[39m) \u001b[39mis\u001b[39;00m \u001b[39mnot\u001b[39;00m \u001b[39mNone\u001b[39;00m \u001b[39mand\u001b[39;00m method \u001b[39min\u001b[39;00m result_formatters:\n\u001b[0;32m---> 61\u001b[0m     \u001b[39mreturn\u001b[39;00m _format_response(\u001b[39m\"\u001b[39;49m\u001b[39mresult\u001b[39;49m\u001b[39m\"\u001b[39;49m, result_formatters[method])\n\u001b[1;32m     62\u001b[0m \u001b[39melif\u001b[39;00m \u001b[39m\"\u001b[39m\u001b[39merror\u001b[39m\u001b[39m\"\u001b[39m \u001b[39min\u001b[39;00m response \u001b[39mand\u001b[39;00m method \u001b[39min\u001b[39;00m error_formatters:\n\u001b[1;32m     63\u001b[0m     \u001b[39mreturn\u001b[39;00m _format_response(\u001b[39m\"\u001b[39m\u001b[39merror\u001b[39m\u001b[39m\"\u001b[39m, error_formatters[method])\n",
      "File \u001b[0;32m~/anaconda3/envs/web3/lib/python3.9/site-packages/web3/middleware/formatting.py:57\u001b[0m, in \u001b[0;36m_apply_response_formatters.<locals>._format_response\u001b[0;34m(response_type, method_response_formatter)\u001b[0m\n\u001b[1;32m     50\u001b[0m \u001b[39mdef\u001b[39;00m \u001b[39m_format_response\u001b[39m(\n\u001b[1;32m     51\u001b[0m     response_type: Literal[\u001b[39m\"\u001b[39m\u001b[39mresult\u001b[39m\u001b[39m\"\u001b[39m, \u001b[39m\"\u001b[39m\u001b[39merror\u001b[39m\u001b[39m\"\u001b[39m],\n\u001b[1;32m     52\u001b[0m     method_response_formatter: Callable[\u001b[39m.\u001b[39m\u001b[39m.\u001b[39m\u001b[39m.\u001b[39m, Any],\n\u001b[1;32m     53\u001b[0m ) \u001b[39m-\u001b[39m\u001b[39m>\u001b[39m RPCResponse:\n\u001b[1;32m     54\u001b[0m     appropriate_response \u001b[39m=\u001b[39m response[response_type]\n\u001b[1;32m     56\u001b[0m     \u001b[39mreturn\u001b[39;00m assoc(\n\u001b[0;32m---> 57\u001b[0m         response, response_type, method_response_formatter(appropriate_response)\n\u001b[1;32m     58\u001b[0m     )\n",
      "File \u001b[0;32m~/anaconda3/envs/web3/lib/python3.9/site-packages/cytoolz/functoolz.pyx:263\u001b[0m, in \u001b[0;36mcytoolz.functoolz.curry.__call__\u001b[0;34m()\u001b[0m\n",
      "File \u001b[0;32m~/anaconda3/envs/web3/lib/python3.9/site-packages/eth_utils/applicators.py:72\u001b[0m, in \u001b[0;36mapply_formatter_if\u001b[0;34m(condition, formatter, value)\u001b[0m\n\u001b[1;32m     68\u001b[0m \u001b[39mdef\u001b[39;00m \u001b[39mapply_formatter_if\u001b[39m(\n\u001b[1;32m     69\u001b[0m     condition: Callable[\u001b[39m.\u001b[39m\u001b[39m.\u001b[39m\u001b[39m.\u001b[39m, \u001b[39mbool\u001b[39m], formatter: Callable[\u001b[39m.\u001b[39m\u001b[39m.\u001b[39m\u001b[39m.\u001b[39m, Any], value: Any\n\u001b[1;32m     70\u001b[0m ) \u001b[39m-\u001b[39m\u001b[39m>\u001b[39m Any:\n\u001b[1;32m     71\u001b[0m     \u001b[39mif\u001b[39;00m condition(value):\n\u001b[0;32m---> 72\u001b[0m         \u001b[39mreturn\u001b[39;00m formatter(value)\n\u001b[1;32m     73\u001b[0m     \u001b[39melse\u001b[39;00m:\n\u001b[1;32m     74\u001b[0m         \u001b[39mreturn\u001b[39;00m value\n",
      "File \u001b[0;32m~/anaconda3/envs/web3/lib/python3.9/site-packages/cytoolz/functoolz.pyx:263\u001b[0m, in \u001b[0;36mcytoolz.functoolz.curry.__call__\u001b[0;34m()\u001b[0m\n",
      "File \u001b[0;32m~/anaconda3/envs/web3/lib/python3.9/site-packages/eth_utils/functional.py:45\u001b[0m, in \u001b[0;36mapply_to_return_value.<locals>.outer.<locals>.inner\u001b[0;34m(*args, **kwargs)\u001b[0m\n\u001b[1;32m     43\u001b[0m \u001b[39m@functools\u001b[39m\u001b[39m.\u001b[39mwraps(fn)\n\u001b[1;32m     44\u001b[0m \u001b[39mdef\u001b[39;00m \u001b[39minner\u001b[39m(\u001b[39m*\u001b[39margs, \u001b[39m*\u001b[39m\u001b[39m*\u001b[39mkwargs) \u001b[39m-\u001b[39m\u001b[39m>\u001b[39m T:  \u001b[39m# type: ignore\u001b[39;00m\n\u001b[0;32m---> 45\u001b[0m     \u001b[39mreturn\u001b[39;00m callback(fn(\u001b[39m*\u001b[39;49margs, \u001b[39m*\u001b[39;49m\u001b[39m*\u001b[39;49mkwargs))\n",
      "File \u001b[0;32m~/anaconda3/envs/web3/lib/python3.9/site-packages/eth_utils/applicators.py:84\u001b[0m, in \u001b[0;36mapply_formatters_to_dict\u001b[0;34m(formatters, value)\u001b[0m\n\u001b[1;32m     82\u001b[0m \u001b[39mif\u001b[39;00m key \u001b[39min\u001b[39;00m formatters:\n\u001b[1;32m     83\u001b[0m     \u001b[39mtry\u001b[39;00m:\n\u001b[0;32m---> 84\u001b[0m         \u001b[39myield\u001b[39;00m key, formatters[key](item)\n\u001b[1;32m     85\u001b[0m     \u001b[39mexcept\u001b[39;00m \u001b[39mValueError\u001b[39;00m \u001b[39mas\u001b[39;00m exc:\n\u001b[1;32m     86\u001b[0m         new_error_message \u001b[39m=\u001b[39m \u001b[39m\"\u001b[39m\u001b[39mCould not format invalid value \u001b[39m\u001b[39m%r\u001b[39;00m\u001b[39m as field \u001b[39m\u001b[39m%r\u001b[39;00m\u001b[39m\"\u001b[39m \u001b[39m%\u001b[39m (\n\u001b[1;32m     87\u001b[0m             item,\n\u001b[1;32m     88\u001b[0m             key,\n\u001b[1;32m     89\u001b[0m         )\n",
      "File \u001b[0;32m~/anaconda3/envs/web3/lib/python3.9/site-packages/web3/middleware/validation.py:76\u001b[0m, in \u001b[0;36m_check_extradata_length\u001b[0;34m(val)\u001b[0m\n\u001b[1;32m     74\u001b[0m result \u001b[39m=\u001b[39m HexBytes(val)\n\u001b[1;32m     75\u001b[0m \u001b[39mif\u001b[39;00m \u001b[39mlen\u001b[39m(result) \u001b[39m>\u001b[39m MAX_EXTRADATA_LENGTH:\n\u001b[0;32m---> 76\u001b[0m     \u001b[39mraise\u001b[39;00m ExtraDataLengthError(\n\u001b[1;32m     77\u001b[0m         \u001b[39mf\u001b[39m\u001b[39m\"\u001b[39m\u001b[39mThe field extraData is \u001b[39m\u001b[39m{\u001b[39;00m\u001b[39mlen\u001b[39m(result)\u001b[39m}\u001b[39;00m\u001b[39m bytes, but should be \u001b[39m\u001b[39m\"\u001b[39m\n\u001b[1;32m     78\u001b[0m         \u001b[39mf\u001b[39m\u001b[39m\"\u001b[39m\u001b[39m{\u001b[39;00mMAX_EXTRADATA_LENGTH\u001b[39m}\u001b[39;00m\u001b[39m. It is quite likely that you are \u001b[39m\u001b[39m\"\u001b[39m\n\u001b[1;32m     79\u001b[0m         \u001b[39m\"\u001b[39m\u001b[39mconnected to a POA chain. Refer to \u001b[39m\u001b[39m\"\u001b[39m\n\u001b[1;32m     80\u001b[0m         \u001b[39m\"\u001b[39m\u001b[39mhttp://web3py.readthedocs.io/en/stable/middleware.html#proof-of-authority \u001b[39m\u001b[39m\"\u001b[39m\n\u001b[1;32m     81\u001b[0m         \u001b[39mf\u001b[39m\u001b[39m\"\u001b[39m\u001b[39mfor more details. The full extraData is: \u001b[39m\u001b[39m{\u001b[39;00mresult\u001b[39m!r}\u001b[39;00m\u001b[39m\"\u001b[39m\n\u001b[1;32m     82\u001b[0m     )\n\u001b[1;32m     83\u001b[0m \u001b[39mreturn\u001b[39;00m val\n",
      "\u001b[0;31mExtraDataLengthError\u001b[0m: The field extraData is 280 bytes, but should be 32. It is quite likely that you are connected to a POA chain. Refer to http://web3py.readthedocs.io/en/stable/middleware.html#proof-of-authority for more details. The full extraData is: HexBytes('0xd88301020a846765746888676f312e31392e38856c696e7578000000b19df4a2f8b5830defffb860869e9c7aca9fadc20eb446c28abbddaba1de127931c2826bb5d9ad57696bf82fb8d2583d1e524ed1e74a5eb14c89dedc09e29b0e7c38535ba56a945bd1a388274320285a93af9e298bfbad19967bcedbb21156038a031f45924106abac023606f84c8401d85abda0dcd152f77eef8ed973dbb18e204d5342c853ca95b675d851f9aa92c7ae05bf238401d85abea01c3f58375713cba7d58dfbaa2aae43d72c3e487a6e8edb22eec35def01b5ec1b80c94db992dcd04cd602f04019013ebd28dffae1e13e9c6b46b5b608db980b2b173cd7718a9a9ea79de73c402d9dbd5c4da1b608cf7c3d7b9c5ae79e8335ca2a5e00')"
     ]
    }
   ],
   "source": []
  },
  {
   "cell_type": "code",
   "execution_count": null,
   "metadata": {},
   "outputs": [
    {
     "data": {
      "text/plain": [
       "True"
      ]
     },
     "metadata": {},
     "output_type": "display_data"
    }
   ],
   "source": []
  },
  {
   "cell_type": "code",
   "execution_count": null,
   "metadata": {},
   "outputs": [
    {
     "data": {
      "text/plain": [
       "True"
      ]
     },
     "metadata": {},
     "output_type": "display_data"
    }
   ],
   "source": []
  },
  {
   "cell_type": "code",
   "execution_count": 6,
   "metadata": {},
   "outputs": [
    {
     "data": {
      "text/plain": [
       "30956026"
      ]
     },
     "execution_count": 6,
     "metadata": {},
     "output_type": "execute_result"
    }
   ],
   "source": []
  },
  {
   "cell_type": "code",
   "execution_count": null,
   "metadata": {},
   "outputs": [],
   "source": []
  }
 ],
 "metadata": {
  "kernelspec": {
   "display_name": "web3",
   "language": "python",
   "name": "python3"
  },
  "language_info": {
   "codemirror_mode": {
    "name": "ipython",
    "version": 3
   },
   "file_extension": ".py",
   "mimetype": "text/x-python",
   "name": "python",
   "nbconvert_exporter": "python",
   "pygments_lexer": "ipython3",
   "version": "3.9.17"
  },
  "orig_nbformat": 4
 },
 "nbformat": 4,
 "nbformat_minor": 2
}
