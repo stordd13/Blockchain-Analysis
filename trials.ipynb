{
 "cells": [
  {
   "cell_type": "code",
   "execution_count": 20,
   "metadata": {},
   "outputs": [],
   "source": [
    "from web3 import Web3, middleware\n",
    "from web3.gas_strategies.time_based import medium_gas_price_strategy\n",
    "from web3.middleware import geth_poa_middleware"
   ]
  },
  {
   "cell_type": "code",
   "execution_count": 21,
   "metadata": {},
   "outputs": [
    {
     "data": {
      "text/plain": [
       "True"
      ]
     },
     "execution_count": 21,
     "metadata": {},
     "output_type": "execute_result"
    }
   ],
   "source": [
    "bsc_rpc = \"https://bsc-dataseed1.defibit.io/\"\n",
    "w3 = Web3(Web3.HTTPProvider(bsc_rpc))\n",
    "w3.is_connected()"
   ]
  },
  {
   "cell_type": "code",
   "execution_count": 22,
   "metadata": {},
   "outputs": [],
   "source": [
    "w3.middleware_onion.inject(geth_poa_middleware, layer=0)\n",
    "w3.eth.set_gas_price_strategy(medium_gas_price_strategy)\n",
    "if not w3.is_connected():\n",
    "    raise Exception(\"Failed to connect to BSC\")"
   ]
  },
  {
   "cell_type": "code",
   "execution_count": 92,
   "metadata": {},
   "outputs": [
    {
     "name": "stdout",
     "output_type": "stream",
     "text": [
      "from: ['0x958B247D2093bd2F4444195aD67953B306e3Bf62', '0xE33E86A0Ac268E9F387ACb5CA25cb0b7d1E0B7F0', '0x312d9cB02f690Cbb86919Fe56127539b22194BA8', '0x6853464A0b22f24A3e5CC8Ba13DfDb176a3c2204', '0x67eFBdD3E94ba11C83C56931b726AF12Fa8A0694', '0xEB2d2F1b8c558a40207669291Fda468E50c8A0bB', '0xE1d608BB935b1283bfA950957398c07B84a82d9E', '0x61D5DB8a301c7c03a3853C2d8D30A40e5D6596Ee', '0xf5466EDf4C6D5100ac9FB724FCc1D80Ccc14bA3f', '0x41F21fdcC33Bb76a74e18c9E92cF63506919543C', '0x312d9cB02f690Cbb86919Fe56127539b22194BA8', '0xC758750E467fc7e8C8C8b6340c6E9fd00866578C', '0x8894E0a0c962CB723c1976a4421c95949bE2D4E3', '0x882B36ef2f0BC4A64616f71980674C4B111C487d', '0x88818487C97C50769b3F810d1d09eFcD1ACd1B8A', '0xE1785De637997AbE203A4Cc9f7E77c7a56849145', '0xD02B218E55535647C60095169E5965f9a8951368', '0xbfE72167c875bE0e718cc9Bd50789619B5beF04C', '0x27899ffaCe558bdE9F284Ba5C8c91ec79EE60FD6', '0x2fF5493252c535DC62BbFe98F86a520d1b8E419a', '0x78dDc3BBC6D1c6C3f6Ae2d9d34D7202eC52c3B67', '0x3338019b898Debe87944da70D5a6947D2026c556', '0x7062CE316cF3cF77c647A62Da69B88706b65cb57', '0x8894E0a0c962CB723c1976a4421c95949bE2D4E3', '0xbB0E8A5DcCD98E97Da7DEc2685834519b3E81b60', '0xa180Fe01B906A1bE37BE6c534a3300785b20d947', '0x2Ce307a765c6877c722c1257f106e358b5C75F99', '0x312d9cB02f690Cbb86919Fe56127539b22194BA8', '0xf19d52EaF78B17B7def21E304e1B25549e454FC4', '0xEa6DEDE1B8B1e9C8dF2caEbAa5A1407087778C07', '0xDe1c398a7062Dc1e55Ba2AD6dCC6344C0494815c', '0x856BD140Cb12ba738451b926cc2F0Bbb694eD306', '0x4982085C9e2F89F2eCb8131Eca71aFAD896e89CB', '0x99D256345BBAEc6673A4be366b8695C800E83EcC', '0x397593F0DFF633d0121C9aA2f690755D7E55aa58', '0xFC6b26A2842272a2432b248c93C7Cf03f38606d8', '0xBD7170971505828f17a48f0177f9203dA7B57D14', '0x4F02cEFc701F4cad1aFEd3C1bdb1A86DFDFeb623', '0xDe3929bfFE78fBF46f351868eEf4Fa1DF59Ccaf9', '0x95AA9aeBA59E57Be8A3E568116825ebD68836E7a', '0x0df5292CA1eC93f80517654e49460746382AAB06', '0x20F0875cF84cf6Fde12a7abc2Aca8dE3e0AFF2CC', '0x26bB9E0f80a3E46d8bf5a3B0fc3Ba6BeF2AB9a55', '0x84Be42d20acE4f13ac6d2F9CF044Dc473A94aCE8', '0xfFbf4961F90E4B327883206775aCd3f08e7D9d75', '0xAE4a66e13398a78Bf6c41922De73d14578D5CbEf', '0xf5e963A0f4a5f8E567440B0DAF73729C0B311f27', '0xF8e8813B83A26C6F6599A65F406F3C4E808b2c37', '0x0f0067cd819cB8F20BDa62046dAFF7a2b5c88280', '0xD7E99925bcA8F0fdEB1150e407658AD8d2F1B77e', '0xd083B17eB99f939B43439D1711e7bEFF2Cb9c632', '0x161bA15A5f335c9f06BB5BbB0A9cE14076FBb645', '0xC1C982C830b66fF8969f028962002f9be45C2F72', '0xcaFDE63A5d1Ae0833d83e31da9139926a0cB5a91', '0x8894E0a0c962CB723c1976a4421c95949bE2D4E3', '0xA3De8B4B61A23A85bcB13739A57A1E9D3296e33E', '0x312d9cB02f690Cbb86919Fe56127539b22194BA8', '0x47e1C6F532656c4ae935b14D72c883aF6eF91D23', '0xF4a8863f3ae9E771aC3Ed7aaaE143f5BBd77115b', '0x635308e731A878741bfeC299e67f5fD28c7553D9', '0x716eE93a1f34b0A936C34D70d7AA75656b19dBd1', '0x6C301446A3b9737F33ba268cdd57c2e1B3805eDa', '0x26122145066A51Ed441c2060CAe3ACD46160851f', '0x455BC6160D1B8dB6024d18a4005716f7b0616356', '0xE2bf49e4Ef889512cC8880F0E7DE474e3b476C95', '0xC797A04876afA63a06dE85Ff2491AEA9977832EB', '0x9f679d8Ded653f26b43Ac3548758E88e9c856EbE', '0x01C952174C24E1210d26961D456A77A39e1F0BB0', '0xB207542118fA19638F95DA6e57c437C9dF0673F8', '0xa180Fe01B906A1bE37BE6c534a3300785b20d947', '0xc6dD9976066F3364b4D6A72cD4F1fA0468327Aa7', '0x920f2d06710f86aeCc59D83CBD7a753Fd41bC9c4', '0x3Cf5Bc4e76927F5c13Fb1D7819158924a6123E57', '0xD2b08E51a49f5989E3Bcb1c397D555C6222e715C', '0x625b02b687Ec38f3085Af5B108Dda410775fA76a', '0x515b72Ed8a97F42C568D6A143232775018f133C8', '0x312d9cB02f690Cbb86919Fe56127539b22194BA8', '0xaEF26F97620c5ad921771b30b4c6fEabF9d223Ab', '0x515b72Ed8a97F42C568D6A143232775018f133C8', '0x6C12A3dCCF722B27737315ff883cc12B7F4788c8', '0x91801F91dE504544550C89F9148B46af8bc6Be35', '0xaF8164e0611a8b4fF232812cABEf9F0da8c188AF', '0x29bDfbf7D27462a2d115748ace2bd71A2646946c', '0x3c783c21a0383057D128bae431894a5C19F9Cf06', '0x357A1f21ca43Ff88c0EC6e700E04b28337C2aeA6', '0xC413Da17b9E1FaAA037a8594879C6a417485F357', '0x3db0e418bBbbcf1DCDd9B8e6F893e1AE80D8fB50', '0xCcbFA751aAC2C0c9cb9409E3152Fcefe571d3eb0', '0x6F9a3067654DAC83af9A88A10A25396DE96bD238', '0xd4808993A289a5AE5608e175475a32f7f70cf7e0', '0x68D8bf21a921a12F6F6F91b02f0823b2253ED312', '0x8210e573F1922A63672c4a6539858bE6FF71bad6', '0xB6AF499c0Dd23b2457573f6eD007e684d95378cF', '0x9023Bced0F093Bcd67A482A84c693D25C5525343', '0xb60DffBabE2C23723454dbb7996e3b4F7D51eD50', '0x7EBfbfb07042a96928e237febcfCA1247Fd8511E', '0x73b94FC80Cd4Aba45D1a4654FEd46F61d20ad317', '0x67648D028647302dDc57FeF9606AEb34cdD032eC', '0xd35B3F2b89E78914C3C874f91BB6ef82963e49C5', '0x8CCBb3B5699e305A7413e2d8311f91A32c426c50', '0x15aE90F9a5bc68fa6A884BB9109A0aCe8b268A7a', '0x339a55B2E2a878e01669B392094c2A80e26B7De1', '0x47DF50B21e3BC41BEa30D3fD2e6a3D72Be23be2a', '0x4a2E841f795A040f49faca35d330f20DFb1cd793', '0x521D0BFd06e829B97877e2952c9FB879065Ead20', '0x287921AA0ED15DBB8Edb2d910990dF7890FA73a7', '0x3b5a23f6207d87B423C6789D2625eA620423b32D', '0x46C3BA023fc05cA04bB023956daEf06449Fe2530', '0x4991991d5b656d8eA79211B4E5b3Df4277CDe3ea', '0x38749102f465f29bc83A35eD029bb3211E719fef', '0x5d4b27EfF148B9d532E56F69d8537561bf3eCE1F', '0xA77A01Fd6B9B0e18E753BfCC9d8732C8e3d6bfEE', '0x0F71A08427316f5310C37B478B0564f250f0AC16', '0xd6E601F1f6559BF66D66EB96d3e10102Ca8Eb47A', '0xe5C0B3Ed648f3AF7EA828fD3a3955D0160ec1B63', '0xBD612a3f30dcA67bF60a39Fd0D35e39B7aB80774', '0x07C8BBb7d9E8cD75857515117C6A07ed85dA52Bd', '0xA931af5112418FDCa2f2BAe633953cf844a9A3aD', '0x1C49F5d547650921592CE312e41950247bABE1c5', '0x8c7A38d5aCCa119b4f00f3fCa2F9bcD9E9F46841', '0x7308915e3f5e3986d2D73F55249Ebe5E77BE5c77', '0xa58627a29bb59743cE1D781B1072c59bb1dda86d', '0x2C4eAfdcB03DCF6eFa1EcD3BC71Cb99AbF6535a3', '0x1CAC7736209791cB94D5ed15553089FC3F0472ad', '0x93cd9350173271E84d082D230Dc8C370E6C24eC5', '0x681BfF40A192676eB12c8FDd2f33CC383BD0610d', '0xAd80d41076781e92E049B3FA6db66E692884Ff2f', '0x03C3d998f3B03D4A108b6c03994c5077c6D9033E', '0x07Af234aEb71ec0620139f1f22147D5327581f43', '0x73f5ebe90f27B46ea12e5795d16C4b408B19cc6F', '0x78858d665ADF9B3F100429df3287B3e1b343130c', '0x9c303dE078c7252964059Cb252D0DcE2bDaa568F', '0xb9CEc130E19F40492E03E819CEB85b74D0538570', '0x6C301446A3b9737F33ba268cdd57c2e1B3805eDa']\n",
      "to: ['0x10ED43C718714eb63d5aA57B78B54704E256024E', '0xE358b1924bB492B1338baE84644636Af00a918fb', '0x958B247D2093bd2F4444195aD67953B306e3Bf62', '0x10ED43C718714eb63d5aA57B78B54704E256024E', '0x10ED43C718714eb63d5aA57B78B54704E256024E', '0xA19D887EbEFa9066FABB34237D285730C167f9F5', '0x5C86F06C26e702e540D877ff215CcF503edd528C', '0x3F08E8a43c58cadE98b20ea15F17BD179E8db381', '0x10ED43C718714eb63d5aA57B78B54704E256024E', '0xE0FdFdc10158077D63EfECECe7280538322Eff20', '0xf5466EDf4C6D5100ac9FB724FCc1D80Ccc14bA3f', '0x13f4EA83D0bd40E75C8222255bc855a974568Dd4', '0xD641a151F6aA083AA01613DF2F62c4a8Fe239667', '0x1a1ec25DC08e98e5E93F1104B5e5cdD298707d31', '0x780cA0693598BCa96c0eadC9B58716A2b98370Ed', '0x648F3D838D878fff11Fdd413791D21EB6ef0CF44', '0x3ca8EaF83f752b7d395eF93659F6ca37B9270296', '0xb9b4C2B881b318122E808C5c44cFb6229E6c72dc', '0x4eCdAa955e1155A4BA7caBffc4b7ab972b4597a2', '0x312d9cB02f690Cbb86919Fe56127539b22194BA8', '0xAC4c97Aef7A31F576df2fEC362a82D28D580Ae5f', '0x10ED43C718714eb63d5aA57B78B54704E256024E', '0x3c11F6265Ddec22f4d049Dde480615735f451646', '0xD588b186d74c83c37C98B7d6eEceA26833D8a061', '0x61D5DB8a301c7c03a3853C2d8D30A40e5D6596Ee', '0x7A286F0db9A9DCbD7755e48f210c18B85373334c', '0x10ED43C718714eb63d5aA57B78B54704E256024E', '0x3338019b898Debe87944da70D5a6947D2026c556', '0x1111111254EEB25477B68fb85Ed929f73A960582', '0x91865dD128CE82988Ebeb89ef27F0F7f97Af6974', '0x10ED43C718714eb63d5aA57B78B54704E256024E', '0x5325d4A2B7F9556104A3E77e5c0E63281bBa3FB2', '0x009FD2bDEF2B570052D8F4c486927e0EcEfb56F7', '0x4D7d3fa63d776C5e1833C8EC3C98a0Fc68c6D8e7', '0x5D00661EA3c9b8f095520573b9B940B6fEbcfD8b', '0x1a1ec25DC08e98e5E93F1104B5e5cdD298707d31', '0xA07c5b74C9B40447a954e1466938b865b6BBea36', '0x0bF520729b2403Fade868a759075090F0C7b6a61', '0x13f4EA83D0bd40E75C8222255bc855a974568Dd4', '0xbB0E8A5DcCD98E97Da7DEc2685834519b3E81b60', '0x9333C74BDd1E118634fE5664ACA7a9710b108Bab', '0x13f4EA83D0bd40E75C8222255bc855a974568Dd4', '0x10ED43C718714eb63d5aA57B78B54704E256024E', '0x13f4EA83D0bd40E75C8222255bc855a974568Dd4', '0x18B2A687610328590Bc8F2e5fEdDe3b582A49cdA', '0x2540866130106eAa2503C55966c278412956186d', '0x1a1ec25DC08e98e5E93F1104B5e5cdD298707d31', '0x287eD2fCFd756E8Bc726813154502587254dF211', '0xB1b8a9FfB31F9475b7f1A0b3d0525348a6E9F184', '0x10ED43C718714eb63d5aA57B78B54704E256024E', '0x10ED43C718714eb63d5aA57B78B54704E256024E', '0xc9f9ec335BE4c266A5EF28E44d24E79CB13C95E5', '0x10ED43C718714eb63d5aA57B78B54704E256024E', '0x10ED43C718714eb63d5aA57B78B54704E256024E', '0xBD7170971505828f17a48f0177f9203dA7B57D14', '0x13f4EA83D0bd40E75C8222255bc855a974568Dd4', '0xC1C982C830b66fF8969f028962002f9be45C2F72', '0xb45A2DDA996C32E93B8c47098E90Ed0E7ab18E39', '0x51836A753E344257B361519E948ffCAF5fb8d521', '0x23cc222Da0cf9E27e9E34316f4c22f952c3CC782', '0x18B2A687610328590Bc8F2e5fEdDe3b582A49cdA', '0x13f4EA83D0bd40E75C8222255bc855a974568Dd4', '0x3206F9a37ACFCbA01898b9C2C7dDc687bABcA9F2', '0x13f4EA83D0bd40E75C8222255bc855a974568Dd4', '0x1eDba46885845A1Bfe8cB884dB6eDe656D9AAbCa', '0x10ED43C718714eb63d5aA57B78B54704E256024E', '0x7A4af156379f512DE147ed3b96393047226d923F', '0x26bB9E0f80a3E46d8bf5a3B0fc3Ba6BeF2AB9a55', '0x1c39aA035A0B4315FF9b3F0CFa91AE8bF01cF70C', '0xC039e71BD51774Ad7Ee280db0e5b6d4b7351CC84', '0x8a226b70dcEB9656Eb75545424400128fCEF9d9e', '0x10ED43C718714eb63d5aA57B78B54704E256024E', '0x10ED43C718714eb63d5aA57B78B54704E256024E', '0x10ED43C718714eb63d5aA57B78B54704E256024E', '0xFC6b26A2842272a2432b248c93C7Cf03f38606d8', '0x20F0875cF84cf6Fde12a7abc2Aca8dE3e0AFF2CC', '0x3Cf5Bc4e76927F5c13Fb1D7819158924a6123E57', '0x312d9cB02f690Cbb86919Fe56127539b22194BA8', '0x5e78a5e33C2a5983DA1159C6D68FebDd13D6c20B', '0x6151B5C4130e94536cE3474965fd5a1bCBa2fECc', '0x10ED43C718714eb63d5aA57B78B54704E256024E', '0x4982085C9e2F89F2eCb8131Eca71aFAD896e89CB', '0x84Be42d20acE4f13ac6d2F9CF044Dc473A94aCE8', '0x455BC6160D1B8dB6024d18a4005716f7b0616356', '0x8894E0a0c962CB723c1976a4421c95949bE2D4E3', '0x8894E0a0c962CB723c1976a4421c95949bE2D4E3', '0x8894E0a0c962CB723c1976a4421c95949bE2D4E3', '0x8894E0a0c962CB723c1976a4421c95949bE2D4E3', '0x8894E0a0c962CB723c1976a4421c95949bE2D4E3', '0x8894E0a0c962CB723c1976a4421c95949bE2D4E3', '0x8894E0a0c962CB723c1976a4421c95949bE2D4E3', '0x8894E0a0c962CB723c1976a4421c95949bE2D4E3', '0x8894E0a0c962CB723c1976a4421c95949bE2D4E3', '0x8894E0a0c962CB723c1976a4421c95949bE2D4E3', '0x8894E0a0c962CB723c1976a4421c95949bE2D4E3', '0x8894E0a0c962CB723c1976a4421c95949bE2D4E3', '0x8894E0a0c962CB723c1976a4421c95949bE2D4E3', '0x8894E0a0c962CB723c1976a4421c95949bE2D4E3', '0xEa6DEDE1B8B1e9C8dF2caEbAa5A1407087778C07', '0x8894E0a0c962CB723c1976a4421c95949bE2D4E3', '0x8894E0a0c962CB723c1976a4421c95949bE2D4E3', '0x4ce33c98C77200AFaB4C557500096E6F460304b1', '0x312d9cB02f690Cbb86919Fe56127539b22194BA8', '0xA2Da409CF7b8D00087DF5CF3ba19E23E4312F9ba', '0x8894E0a0c962CB723c1976a4421c95949bE2D4E3', '0x8894E0a0c962CB723c1976a4421c95949bE2D4E3', '0xf19d52EaF78B17B7def21E304e1B25549e454FC4', '0x8894E0a0c962CB723c1976a4421c95949bE2D4E3', '0x8894E0a0c962CB723c1976a4421c95949bE2D4E3', '0x8894E0a0c962CB723c1976a4421c95949bE2D4E3', '0x8894E0a0c962CB723c1976a4421c95949bE2D4E3', '0x8894E0a0c962CB723c1976a4421c95949bE2D4E3', '0x8894E0a0c962CB723c1976a4421c95949bE2D4E3', '0x8894E0a0c962CB723c1976a4421c95949bE2D4E3', '0x8894E0a0c962CB723c1976a4421c95949bE2D4E3', '0x2Fe47dB5286f13223D1Cf6E824eBaF297d1B4d19', '0x8894E0a0c962CB723c1976a4421c95949bE2D4E3', '0x8894E0a0c962CB723c1976a4421c95949bE2D4E3', '0x8894E0a0c962CB723c1976a4421c95949bE2D4E3', '0x8894E0a0c962CB723c1976a4421c95949bE2D4E3', '0x8894E0a0c962CB723c1976a4421c95949bE2D4E3', '0x1111111254fb6c44bAC0beD2854e76F90643097d', '0x7d752c7b7Cc8F522Ec236b3B528cE7201bB17a70', '0x8894E0a0c962CB723c1976a4421c95949bE2D4E3', '0x10ED43C718714eb63d5aA57B78B54704E256024E', '0x37d7ED86E17B8c3C3b8c2A2Bf9aD556dD57a16C6', '0xAFfe1C9e61337d7047ab6A97a0DE91602f33b673', '0x8894E0a0c962CB723c1976a4421c95949bE2D4E3', '0x8894E0a0c962CB723c1976a4421c95949bE2D4E3', '0x4F02cEFc701F4cad1aFEd3C1bdb1A86DFDFeb623', '0x0c59B3AeBAbb36a5AB8eCB92bf24b32B68929ab2', '0xCC650b486f723C924370656b509a82bD69526739', '0x10ED43C718714eb63d5aA57B78B54704E256024E', '0xbb4CdB9CBd36B01bD1cBaEBF2De08d9173bc095c']\n",
      "Values: [3144266976266570000, 1200000000000000000, 3149426976266570000, 1731600000000000000, 2650000000000000000, 7781659000000000000, 3000000000000000000, 1141179257679638093, 1585704476918796200, 7000000000000000000, 1590864476918796200, 8300000000000000000, 1849621200000000000, 1610000000000000000, 3315224364435806215, 1800000000000000000, 1800000000000000000, 3167962967000000000, 1133318832984966600, 1575814394533408526, 1000000000000000000, 4164449229186846000, 1317984933899365779, 2968480130000000000, 1141263257679638093, 1597550620000000000, 14860000000000000000, 4169609229186846000, 2273269000000000000, 1039470200000000000, 5000000000000000000, 1298885000000000000, 2275438000000000000, 5500000000000000000, 2990000000000000000, 5800000000000000000, 4000000000000000000000, 1363937000000000000, 4900000000000000000, 1141326257679638093, 4350000000000000000, 3384079581000000000, 1622340726525598264, 12299638423660155489, 3480708000000000000, 1150000000000000000, 2700000000000000000, 1600000000000000000, 39879407642716266496, 2900000000000000000, 1079400000000000000, 79999500000000000000, 1454719174010156400, 10080000000000000000, 3999999500000000000000, 4139409945000000000, 1459879174010156400, 1700000000000000000, 13451853000000000000, 1090351050000000000, 1120220504451436083, 1110000000000000000, 1000000000000000000, 7815124683750000000, 1220572425000000000, 1292040000000000000, 2601895210874682905, 1608983070000000000, 2060000000000000000, 1649179830000000000, 1355200000000000000000, 1066500000000000000, 1944454761752339000, 35570000000000000000, 5646840000000000000, 4286808840000000000, 1949614761752339000, 3214884892037186043, 2279788500000000000, 2900000000000000000, 2023356000000000000, 1129834000000000000, 11839500000000000000, 10420845820000000000, 1058705030000000000, 1001943806899189000, 1507664164000000000, 1361529760000000000, 1199937000000000000, 1075135625630679390, 2001472142394861663, 1993451814963556408, 1899937000000000000, 1774917037708610928, 1700509909721871851, 1570337000000000000, 1531525077000000000, 2492073619000000000, 1124960420000000000, 2479937000000000000, 2228128120000000000, 1648981460000000000, 1311641620742708909, 1420086640000000000, 2925536619000000000, 2735915110000000000, 2276999500000000000, 3033192101438907314, 3714110740000000000, 3379426000000000000, 3669937000000000000, 6646569182492881268, 5462459570000000000, 4764853070000000000, 4015751542606772641, 35859500000000000000, 41999873583000000000, 15257937000000000000, 9490037758000000000, 9123845488000000000, 7948408974784157875, 222000000000000000000, 152000000000000000000, 87739112280000000000, 1374800000000000000, 1380216488000000000, 1973812962930745679, 428281437000000000000, 132391637000000000000, 1364000000000000000, 16558000000000000000, 1000000000000000000, 2343318196069136000, 2700000000000000000]\n"
     ]
    }
   ],
   "source": [
    "minimum_balance_treshold = 4E19\n",
    "minimum_tx_value = 1E18\n",
    "latest_block_number = w3.eth.block_number\n",
    "\n",
    "wallets = {\n",
    "    'from': list(),\n",
    "    'to': list(), \n",
    "    'values': [],\n",
    "    'balance_from': [],\n",
    "    'balance_to':[]\n",
    "}\n",
    "\n",
    "for block_number in range(latest_block_number, latest_block_number -100, -1):\n",
    "    block = w3.eth.get_block(block_number, full_transactions=True)\n",
    "    for tx in block.transactions:\n",
    "        if tx['value'] >= minimum_tx_value:\n",
    "            wallets['values'].append(tx['value'])\n",
    "            wallets['from'].append(tx['from'])\n",
    "            wallets['to'].append(tx['to'])\n",
    "\n",
    "\n",
    "print(\"from:\", wallets['from'])\n",
    "print(\"to:\", wallets['to'])\n",
    "\n",
    "print(\"Values:\", wallets['values'])"
   ]
  },
  {
   "cell_type": "code",
   "execution_count": 93,
   "metadata": {},
   "outputs": [
    {
     "name": "stdout",
     "output_type": "stream",
     "text": [
      "                                          from_  \\\n",
      "0    0x958B247D2093bd2F4444195aD67953B306e3Bf62   \n",
      "1    0xE33E86A0Ac268E9F387ACb5CA25cb0b7d1E0B7F0   \n",
      "2    0x312d9cB02f690Cbb86919Fe56127539b22194BA8   \n",
      "3    0x6853464A0b22f24A3e5CC8Ba13DfDb176a3c2204   \n",
      "4    0x67eFBdD3E94ba11C83C56931b726AF12Fa8A0694   \n",
      "..                                          ...   \n",
      "129  0x73f5ebe90f27B46ea12e5795d16C4b408B19cc6F   \n",
      "130  0x78858d665ADF9B3F100429df3287B3e1b343130c   \n",
      "131  0x9c303dE078c7252964059Cb252D0DcE2bDaa568F   \n",
      "132  0xb9CEc130E19F40492E03E819CEB85b74D0538570   \n",
      "133  0x6C301446A3b9737F33ba268cdd57c2e1B3805eDa   \n",
      "\n",
      "                                            to_                values  \n",
      "0    0x10ED43C718714eb63d5aA57B78B54704E256024E   3144266976266570000  \n",
      "1    0xE358b1924bB492B1338baE84644636Af00a918fb   1200000000000000000  \n",
      "2    0x958B247D2093bd2F4444195aD67953B306e3Bf62   3149426976266570000  \n",
      "3    0x10ED43C718714eb63d5aA57B78B54704E256024E   1731600000000000000  \n",
      "4    0x10ED43C718714eb63d5aA57B78B54704E256024E   2650000000000000000  \n",
      "..                                          ...                   ...  \n",
      "129  0x4F02cEFc701F4cad1aFEd3C1bdb1A86DFDFeb623   1364000000000000000  \n",
      "130  0x0c59B3AeBAbb36a5AB8eCB92bf24b32B68929ab2  16558000000000000000  \n",
      "131  0xCC650b486f723C924370656b509a82bD69526739   1000000000000000000  \n",
      "132  0x10ED43C718714eb63d5aA57B78B54704E256024E   2343318196069136000  \n",
      "133  0xbb4CdB9CBd36B01bD1cBaEBF2De08d9173bc095c   2700000000000000000  \n",
      "\n",
      "[134 rows x 3 columns]\n"
     ]
    }
   ],
   "source": [
    "import pandas as pd\n",
    "\n",
    "# Convert sets to lists\n",
    "from_addresses_list = list(wallets['from'])\n",
    "to_addresses_list = list(wallets['to'])\n",
    "\n",
    "# Create a DataFrame\n",
    "df = pd.DataFrame({\n",
    "    'from_': from_addresses_list,\n",
    "    'to_': to_addresses_list,\n",
    "    'values': wallets['values'],\n",
    "})\n",
    "\n",
    "print(df)"
   ]
  },
  {
   "cell_type": "code",
   "execution_count": 96,
   "metadata": {},
   "outputs": [
    {
     "data": {
      "text/html": [
       "<div>\n",
       "<style scoped>\n",
       "    .dataframe tbody tr th:only-of-type {\n",
       "        vertical-align: middle;\n",
       "    }\n",
       "\n",
       "    .dataframe tbody tr th {\n",
       "        vertical-align: top;\n",
       "    }\n",
       "\n",
       "    .dataframe thead th {\n",
       "        text-align: right;\n",
       "    }\n",
       "</style>\n",
       "<table border=\"1\" class=\"dataframe\">\n",
       "  <thead>\n",
       "    <tr style=\"text-align: right;\">\n",
       "      <th></th>\n",
       "      <th>from_</th>\n",
       "      <th>to_</th>\n",
       "      <th>values</th>\n",
       "      <th>balance_to</th>\n",
       "      <th>balance_from</th>\n",
       "    </tr>\n",
       "  </thead>\n",
       "  <tbody>\n",
       "    <tr>\n",
       "      <th>0</th>\n",
       "      <td>0x958B247D2093bd2F4444195aD67953B306e3Bf62</td>\n",
       "      <td>0x10ED43C718714eb63d5aA57B78B54704E256024E</td>\n",
       "      <td>3144266976266570000</td>\n",
       "      <td>0</td>\n",
       "      <td>0</td>\n",
       "    </tr>\n",
       "    <tr>\n",
       "      <th>1</th>\n",
       "      <td>0xE33E86A0Ac268E9F387ACb5CA25cb0b7d1E0B7F0</td>\n",
       "      <td>0xE358b1924bB492B1338baE84644636Af00a918fb</td>\n",
       "      <td>1200000000000000000</td>\n",
       "      <td>0</td>\n",
       "      <td>0</td>\n",
       "    </tr>\n",
       "    <tr>\n",
       "      <th>2</th>\n",
       "      <td>0x312d9cB02f690Cbb86919Fe56127539b22194BA8</td>\n",
       "      <td>0x958B247D2093bd2F4444195aD67953B306e3Bf62</td>\n",
       "      <td>3149426976266570000</td>\n",
       "      <td>0</td>\n",
       "      <td>0</td>\n",
       "    </tr>\n",
       "    <tr>\n",
       "      <th>3</th>\n",
       "      <td>0x6853464A0b22f24A3e5CC8Ba13DfDb176a3c2204</td>\n",
       "      <td>0x10ED43C718714eb63d5aA57B78B54704E256024E</td>\n",
       "      <td>1731600000000000000</td>\n",
       "      <td>0</td>\n",
       "      <td>0</td>\n",
       "    </tr>\n",
       "    <tr>\n",
       "      <th>4</th>\n",
       "      <td>0x67eFBdD3E94ba11C83C56931b726AF12Fa8A0694</td>\n",
       "      <td>0x10ED43C718714eb63d5aA57B78B54704E256024E</td>\n",
       "      <td>2650000000000000000</td>\n",
       "      <td>0</td>\n",
       "      <td>0</td>\n",
       "    </tr>\n",
       "    <tr>\n",
       "      <th>...</th>\n",
       "      <td>...</td>\n",
       "      <td>...</td>\n",
       "      <td>...</td>\n",
       "      <td>...</td>\n",
       "      <td>...</td>\n",
       "    </tr>\n",
       "    <tr>\n",
       "      <th>129</th>\n",
       "      <td>0x73f5ebe90f27B46ea12e5795d16C4b408B19cc6F</td>\n",
       "      <td>0x4F02cEFc701F4cad1aFEd3C1bdb1A86DFDFeb623</td>\n",
       "      <td>1364000000000000000</td>\n",
       "      <td>0</td>\n",
       "      <td>0</td>\n",
       "    </tr>\n",
       "    <tr>\n",
       "      <th>130</th>\n",
       "      <td>0x78858d665ADF9B3F100429df3287B3e1b343130c</td>\n",
       "      <td>0x0c59B3AeBAbb36a5AB8eCB92bf24b32B68929ab2</td>\n",
       "      <td>16558000000000000000</td>\n",
       "      <td>0</td>\n",
       "      <td>0</td>\n",
       "    </tr>\n",
       "    <tr>\n",
       "      <th>131</th>\n",
       "      <td>0x9c303dE078c7252964059Cb252D0DcE2bDaa568F</td>\n",
       "      <td>0xCC650b486f723C924370656b509a82bD69526739</td>\n",
       "      <td>1000000000000000000</td>\n",
       "      <td>0</td>\n",
       "      <td>0</td>\n",
       "    </tr>\n",
       "    <tr>\n",
       "      <th>132</th>\n",
       "      <td>0xb9CEc130E19F40492E03E819CEB85b74D0538570</td>\n",
       "      <td>0x10ED43C718714eb63d5aA57B78B54704E256024E</td>\n",
       "      <td>2343318196069136000</td>\n",
       "      <td>0</td>\n",
       "      <td>0</td>\n",
       "    </tr>\n",
       "    <tr>\n",
       "      <th>133</th>\n",
       "      <td>0x6C301446A3b9737F33ba268cdd57c2e1B3805eDa</td>\n",
       "      <td>0xbb4CdB9CBd36B01bD1cBaEBF2De08d9173bc095c</td>\n",
       "      <td>2700000000000000000</td>\n",
       "      <td>0</td>\n",
       "      <td>0</td>\n",
       "    </tr>\n",
       "  </tbody>\n",
       "</table>\n",
       "<p>134 rows × 5 columns</p>\n",
       "</div>"
      ],
      "text/plain": [
       "                                          from_  \\\n",
       "0    0x958B247D2093bd2F4444195aD67953B306e3Bf62   \n",
       "1    0xE33E86A0Ac268E9F387ACb5CA25cb0b7d1E0B7F0   \n",
       "2    0x312d9cB02f690Cbb86919Fe56127539b22194BA8   \n",
       "3    0x6853464A0b22f24A3e5CC8Ba13DfDb176a3c2204   \n",
       "4    0x67eFBdD3E94ba11C83C56931b726AF12Fa8A0694   \n",
       "..                                          ...   \n",
       "129  0x73f5ebe90f27B46ea12e5795d16C4b408B19cc6F   \n",
       "130  0x78858d665ADF9B3F100429df3287B3e1b343130c   \n",
       "131  0x9c303dE078c7252964059Cb252D0DcE2bDaa568F   \n",
       "132  0xb9CEc130E19F40492E03E819CEB85b74D0538570   \n",
       "133  0x6C301446A3b9737F33ba268cdd57c2e1B3805eDa   \n",
       "\n",
       "                                            to_                values  \\\n",
       "0    0x10ED43C718714eb63d5aA57B78B54704E256024E   3144266976266570000   \n",
       "1    0xE358b1924bB492B1338baE84644636Af00a918fb   1200000000000000000   \n",
       "2    0x958B247D2093bd2F4444195aD67953B306e3Bf62   3149426976266570000   \n",
       "3    0x10ED43C718714eb63d5aA57B78B54704E256024E   1731600000000000000   \n",
       "4    0x10ED43C718714eb63d5aA57B78B54704E256024E   2650000000000000000   \n",
       "..                                          ...                   ...   \n",
       "129  0x4F02cEFc701F4cad1aFEd3C1bdb1A86DFDFeb623   1364000000000000000   \n",
       "130  0x0c59B3AeBAbb36a5AB8eCB92bf24b32B68929ab2  16558000000000000000   \n",
       "131  0xCC650b486f723C924370656b509a82bD69526739   1000000000000000000   \n",
       "132  0x10ED43C718714eb63d5aA57B78B54704E256024E   2343318196069136000   \n",
       "133  0xbb4CdB9CBd36B01bD1cBaEBF2De08d9173bc095c   2700000000000000000   \n",
       "\n",
       "     balance_to  balance_from  \n",
       "0             0             0  \n",
       "1             0             0  \n",
       "2             0             0  \n",
       "3             0             0  \n",
       "4             0             0  \n",
       "..          ...           ...  \n",
       "129           0             0  \n",
       "130           0             0  \n",
       "131           0             0  \n",
       "132           0             0  \n",
       "133           0             0  \n",
       "\n",
       "[134 rows x 5 columns]"
      ]
     },
     "execution_count": 96,
     "metadata": {},
     "output_type": "execute_result"
    }
   ],
   "source": [
    "df.insert(3, 'balance_from', 0)\n",
    "df.insert(3, \"balance_to\",0)\n",
    "df"
   ]
  },
  {
   "cell_type": "code",
   "execution_count": null,
   "metadata": {},
   "outputs": [],
   "source": [
    "import numpy as np\n",
    "\n",
    "for address in wallets:\n",
    "    print(address)\n",
    "    balance_from = w3.eth.get_balance(int(address['from']))\n",
    "    balance_to = w3.eth.get_balance(address['to'])\n",
    "    if balance_from >= minimum_balance_treshold or balance_to >= minimum_balance_treshold:\n",
    "        print(np.round(balance/1E18))\n",
    "        wallets['balance_from'].append(balance_from)\n",
    "        wallets['balance_to'].append(balance_to)"
   ]
  },
  {
   "cell_type": "code",
   "execution_count": 106,
   "metadata": {},
   "outputs": [
    {
     "data": {
      "text/html": [
       "<div>\n",
       "<style scoped>\n",
       "    .dataframe tbody tr th:only-of-type {\n",
       "        vertical-align: middle;\n",
       "    }\n",
       "\n",
       "    .dataframe tbody tr th {\n",
       "        vertical-align: top;\n",
       "    }\n",
       "\n",
       "    .dataframe thead th {\n",
       "        text-align: right;\n",
       "    }\n",
       "</style>\n",
       "<table border=\"1\" class=\"dataframe\">\n",
       "  <thead>\n",
       "    <tr style=\"text-align: right;\">\n",
       "      <th></th>\n",
       "      <th>from_</th>\n",
       "      <th>to_</th>\n",
       "      <th>values</th>\n",
       "      <th>balance_to</th>\n",
       "      <th>balance_from</th>\n",
       "    </tr>\n",
       "  </thead>\n",
       "  <tbody>\n",
       "    <tr>\n",
       "      <th>0</th>\n",
       "      <td>0x958B247D2093bd2F4444195aD67953B306e3Bf62</td>\n",
       "      <td>0x10ED43C718714eb63d5aA57B78B54704E256024E</td>\n",
       "      <td>3144266976266570000</td>\n",
       "      <td>0</td>\n",
       "      <td>0</td>\n",
       "    </tr>\n",
       "    <tr>\n",
       "      <th>1</th>\n",
       "      <td>0xE33E86A0Ac268E9F387ACb5CA25cb0b7d1E0B7F0</td>\n",
       "      <td>0xE358b1924bB492B1338baE84644636Af00a918fb</td>\n",
       "      <td>1200000000000000000</td>\n",
       "      <td>0</td>\n",
       "      <td>0</td>\n",
       "    </tr>\n",
       "    <tr>\n",
       "      <th>2</th>\n",
       "      <td>0x312d9cB02f690Cbb86919Fe56127539b22194BA8</td>\n",
       "      <td>0x958B247D2093bd2F4444195aD67953B306e3Bf62</td>\n",
       "      <td>3149426976266570000</td>\n",
       "      <td>0</td>\n",
       "      <td>0</td>\n",
       "    </tr>\n",
       "    <tr>\n",
       "      <th>3</th>\n",
       "      <td>0x6853464A0b22f24A3e5CC8Ba13DfDb176a3c2204</td>\n",
       "      <td>0x10ED43C718714eb63d5aA57B78B54704E256024E</td>\n",
       "      <td>1731600000000000000</td>\n",
       "      <td>0</td>\n",
       "      <td>0</td>\n",
       "    </tr>\n",
       "    <tr>\n",
       "      <th>4</th>\n",
       "      <td>0x67eFBdD3E94ba11C83C56931b726AF12Fa8A0694</td>\n",
       "      <td>0x10ED43C718714eb63d5aA57B78B54704E256024E</td>\n",
       "      <td>2650000000000000000</td>\n",
       "      <td>0</td>\n",
       "      <td>0</td>\n",
       "    </tr>\n",
       "    <tr>\n",
       "      <th>...</th>\n",
       "      <td>...</td>\n",
       "      <td>...</td>\n",
       "      <td>...</td>\n",
       "      <td>...</td>\n",
       "      <td>...</td>\n",
       "    </tr>\n",
       "    <tr>\n",
       "      <th>129</th>\n",
       "      <td>0x73f5ebe90f27B46ea12e5795d16C4b408B19cc6F</td>\n",
       "      <td>0x4F02cEFc701F4cad1aFEd3C1bdb1A86DFDFeb623</td>\n",
       "      <td>1364000000000000000</td>\n",
       "      <td>0</td>\n",
       "      <td>0</td>\n",
       "    </tr>\n",
       "    <tr>\n",
       "      <th>130</th>\n",
       "      <td>0x78858d665ADF9B3F100429df3287B3e1b343130c</td>\n",
       "      <td>0x0c59B3AeBAbb36a5AB8eCB92bf24b32B68929ab2</td>\n",
       "      <td>16558000000000000000</td>\n",
       "      <td>0</td>\n",
       "      <td>0</td>\n",
       "    </tr>\n",
       "    <tr>\n",
       "      <th>131</th>\n",
       "      <td>0x9c303dE078c7252964059Cb252D0DcE2bDaa568F</td>\n",
       "      <td>0xCC650b486f723C924370656b509a82bD69526739</td>\n",
       "      <td>1000000000000000000</td>\n",
       "      <td>0</td>\n",
       "      <td>0</td>\n",
       "    </tr>\n",
       "    <tr>\n",
       "      <th>132</th>\n",
       "      <td>0xb9CEc130E19F40492E03E819CEB85b74D0538570</td>\n",
       "      <td>0x10ED43C718714eb63d5aA57B78B54704E256024E</td>\n",
       "      <td>2343318196069136000</td>\n",
       "      <td>0</td>\n",
       "      <td>0</td>\n",
       "    </tr>\n",
       "    <tr>\n",
       "      <th>133</th>\n",
       "      <td>0x6C301446A3b9737F33ba268cdd57c2e1B3805eDa</td>\n",
       "      <td>0xbb4CdB9CBd36B01bD1cBaEBF2De08d9173bc095c</td>\n",
       "      <td>2700000000000000000</td>\n",
       "      <td>0</td>\n",
       "      <td>0</td>\n",
       "    </tr>\n",
       "  </tbody>\n",
       "</table>\n",
       "<p>134 rows × 5 columns</p>\n",
       "</div>"
      ],
      "text/plain": [
       "                                          from_  \\\n",
       "0    0x958B247D2093bd2F4444195aD67953B306e3Bf62   \n",
       "1    0xE33E86A0Ac268E9F387ACb5CA25cb0b7d1E0B7F0   \n",
       "2    0x312d9cB02f690Cbb86919Fe56127539b22194BA8   \n",
       "3    0x6853464A0b22f24A3e5CC8Ba13DfDb176a3c2204   \n",
       "4    0x67eFBdD3E94ba11C83C56931b726AF12Fa8A0694   \n",
       "..                                          ...   \n",
       "129  0x73f5ebe90f27B46ea12e5795d16C4b408B19cc6F   \n",
       "130  0x78858d665ADF9B3F100429df3287B3e1b343130c   \n",
       "131  0x9c303dE078c7252964059Cb252D0DcE2bDaa568F   \n",
       "132  0xb9CEc130E19F40492E03E819CEB85b74D0538570   \n",
       "133  0x6C301446A3b9737F33ba268cdd57c2e1B3805eDa   \n",
       "\n",
       "                                            to_                values  \\\n",
       "0    0x10ED43C718714eb63d5aA57B78B54704E256024E   3144266976266570000   \n",
       "1    0xE358b1924bB492B1338baE84644636Af00a918fb   1200000000000000000   \n",
       "2    0x958B247D2093bd2F4444195aD67953B306e3Bf62   3149426976266570000   \n",
       "3    0x10ED43C718714eb63d5aA57B78B54704E256024E   1731600000000000000   \n",
       "4    0x10ED43C718714eb63d5aA57B78B54704E256024E   2650000000000000000   \n",
       "..                                          ...                   ...   \n",
       "129  0x4F02cEFc701F4cad1aFEd3C1bdb1A86DFDFeb623   1364000000000000000   \n",
       "130  0x0c59B3AeBAbb36a5AB8eCB92bf24b32B68929ab2  16558000000000000000   \n",
       "131  0xCC650b486f723C924370656b509a82bD69526739   1000000000000000000   \n",
       "132  0x10ED43C718714eb63d5aA57B78B54704E256024E   2343318196069136000   \n",
       "133  0xbb4CdB9CBd36B01bD1cBaEBF2De08d9173bc095c   2700000000000000000   \n",
       "\n",
       "     balance_to  balance_from  \n",
       "0             0             0  \n",
       "1             0             0  \n",
       "2             0             0  \n",
       "3             0             0  \n",
       "4             0             0  \n",
       "..          ...           ...  \n",
       "129           0             0  \n",
       "130           0             0  \n",
       "131           0             0  \n",
       "132           0             0  \n",
       "133           0             0  \n",
       "\n",
       "[134 rows x 5 columns]"
      ]
     },
     "execution_count": 106,
     "metadata": {},
     "output_type": "execute_result"
    }
   ],
   "source": [
    "df\n",
    "    "
   ]
  },
  {
   "cell_type": "code",
   "execution_count": null,
   "metadata": {},
   "outputs": [],
   "source": [
    "def get_balance(row):\n",
    "    row['balance_from'] = np.round(w3.eth.get_balance(row['from_'])/1E18, 1)\n",
    "    row['balance_to'] = np.round(w3.eth.get_balance(row['to_'])/1E18, 1)\n",
    "    return row\n",
    "\n",
    "\n",
    "df= df.apply(get_balance, axis=1)\n",
    "df"
   ]
  },
  {
   "cell_type": "code",
   "execution_count": 111,
   "metadata": {},
   "outputs": [
    {
     "data": {
      "text/html": [
       "<div>\n",
       "<style scoped>\n",
       "    .dataframe tbody tr th:only-of-type {\n",
       "        vertical-align: middle;\n",
       "    }\n",
       "\n",
       "    .dataframe tbody tr th {\n",
       "        vertical-align: top;\n",
       "    }\n",
       "\n",
       "    .dataframe thead th {\n",
       "        text-align: right;\n",
       "    }\n",
       "</style>\n",
       "<table border=\"1\" class=\"dataframe\">\n",
       "  <thead>\n",
       "    <tr style=\"text-align: right;\">\n",
       "      <th></th>\n",
       "      <th>from_</th>\n",
       "      <th>to_</th>\n",
       "      <th>values</th>\n",
       "      <th>balance_to</th>\n",
       "      <th>balance_from</th>\n",
       "      <th>balance_from_usd</th>\n",
       "      <th>balance_to_usd</th>\n",
       "    </tr>\n",
       "  </thead>\n",
       "  <tbody>\n",
       "    <tr>\n",
       "      <th>0</th>\n",
       "      <td>0x958B247D2093bd2F4444195aD67953B306e3Bf62</td>\n",
       "      <td>0x10ED43C718714eb63d5aA57B78B54704E256024E</td>\n",
       "      <td>3144266976266570000</td>\n",
       "      <td>0.000</td>\n",
       "      <td>0.054</td>\n",
       "      <td>11</td>\n",
       "      <td>0</td>\n",
       "    </tr>\n",
       "    <tr>\n",
       "      <th>1</th>\n",
       "      <td>0xE33E86A0Ac268E9F387ACb5CA25cb0b7d1E0B7F0</td>\n",
       "      <td>0xE358b1924bB492B1338baE84644636Af00a918fb</td>\n",
       "      <td>1200000000000000000</td>\n",
       "      <td>0.003</td>\n",
       "      <td>0.059</td>\n",
       "      <td>12</td>\n",
       "      <td>0</td>\n",
       "    </tr>\n",
       "    <tr>\n",
       "      <th>2</th>\n",
       "      <td>0x312d9cB02f690Cbb86919Fe56127539b22194BA8</td>\n",
       "      <td>0x958B247D2093bd2F4444195aD67953B306e3Bf62</td>\n",
       "      <td>3149426976266570000</td>\n",
       "      <td>0.054</td>\n",
       "      <td>56.517</td>\n",
       "      <td>12354</td>\n",
       "      <td>11</td>\n",
       "    </tr>\n",
       "    <tr>\n",
       "      <th>3</th>\n",
       "      <td>0x6853464A0b22f24A3e5CC8Ba13DfDb176a3c2204</td>\n",
       "      <td>0x10ED43C718714eb63d5aA57B78B54704E256024E</td>\n",
       "      <td>1731600000000000000</td>\n",
       "      <td>0.000</td>\n",
       "      <td>4.440</td>\n",
       "      <td>970</td>\n",
       "      <td>0</td>\n",
       "    </tr>\n",
       "    <tr>\n",
       "      <th>4</th>\n",
       "      <td>0x67eFBdD3E94ba11C83C56931b726AF12Fa8A0694</td>\n",
       "      <td>0x10ED43C718714eb63d5aA57B78B54704E256024E</td>\n",
       "      <td>2650000000000000000</td>\n",
       "      <td>0.000</td>\n",
       "      <td>0.144</td>\n",
       "      <td>31</td>\n",
       "      <td>0</td>\n",
       "    </tr>\n",
       "    <tr>\n",
       "      <th>...</th>\n",
       "      <td>...</td>\n",
       "      <td>...</td>\n",
       "      <td>...</td>\n",
       "      <td>...</td>\n",
       "      <td>...</td>\n",
       "      <td>...</td>\n",
       "      <td>...</td>\n",
       "    </tr>\n",
       "    <tr>\n",
       "      <th>129</th>\n",
       "      <td>0x73f5ebe90f27B46ea12e5795d16C4b408B19cc6F</td>\n",
       "      <td>0x4F02cEFc701F4cad1aFEd3C1bdb1A86DFDFeb623</td>\n",
       "      <td>1364000000000000000</td>\n",
       "      <td>0.000</td>\n",
       "      <td>20271.199</td>\n",
       "      <td>4431284</td>\n",
       "      <td>0</td>\n",
       "    </tr>\n",
       "    <tr>\n",
       "      <th>130</th>\n",
       "      <td>0x78858d665ADF9B3F100429df3287B3e1b343130c</td>\n",
       "      <td>0x0c59B3AeBAbb36a5AB8eCB92bf24b32B68929ab2</td>\n",
       "      <td>16558000000000000000</td>\n",
       "      <td>51.564</td>\n",
       "      <td>4.570</td>\n",
       "      <td>999</td>\n",
       "      <td>11271</td>\n",
       "    </tr>\n",
       "    <tr>\n",
       "      <th>131</th>\n",
       "      <td>0x9c303dE078c7252964059Cb252D0DcE2bDaa568F</td>\n",
       "      <td>0xCC650b486f723C924370656b509a82bD69526739</td>\n",
       "      <td>1000000000000000000</td>\n",
       "      <td>0.000</td>\n",
       "      <td>0.052</td>\n",
       "      <td>11</td>\n",
       "      <td>0</td>\n",
       "    </tr>\n",
       "    <tr>\n",
       "      <th>132</th>\n",
       "      <td>0xb9CEc130E19F40492E03E819CEB85b74D0538570</td>\n",
       "      <td>0x10ED43C718714eb63d5aA57B78B54704E256024E</td>\n",
       "      <td>2343318196069136000</td>\n",
       "      <td>0.000</td>\n",
       "      <td>0.095</td>\n",
       "      <td>20</td>\n",
       "      <td>0</td>\n",
       "    </tr>\n",
       "    <tr>\n",
       "      <th>133</th>\n",
       "      <td>0x6C301446A3b9737F33ba268cdd57c2e1B3805eDa</td>\n",
       "      <td>0xbb4CdB9CBd36B01bD1cBaEBF2De08d9173bc095c</td>\n",
       "      <td>2700000000000000000</td>\n",
       "      <td>2376663.309</td>\n",
       "      <td>0.003</td>\n",
       "      <td>0</td>\n",
       "      <td>519538599</td>\n",
       "    </tr>\n",
       "  </tbody>\n",
       "</table>\n",
       "<p>134 rows × 7 columns</p>\n",
       "</div>"
      ],
      "text/plain": [
       "                                          from_  \\\n",
       "0    0x958B247D2093bd2F4444195aD67953B306e3Bf62   \n",
       "1    0xE33E86A0Ac268E9F387ACb5CA25cb0b7d1E0B7F0   \n",
       "2    0x312d9cB02f690Cbb86919Fe56127539b22194BA8   \n",
       "3    0x6853464A0b22f24A3e5CC8Ba13DfDb176a3c2204   \n",
       "4    0x67eFBdD3E94ba11C83C56931b726AF12Fa8A0694   \n",
       "..                                          ...   \n",
       "129  0x73f5ebe90f27B46ea12e5795d16C4b408B19cc6F   \n",
       "130  0x78858d665ADF9B3F100429df3287B3e1b343130c   \n",
       "131  0x9c303dE078c7252964059Cb252D0DcE2bDaa568F   \n",
       "132  0xb9CEc130E19F40492E03E819CEB85b74D0538570   \n",
       "133  0x6C301446A3b9737F33ba268cdd57c2e1B3805eDa   \n",
       "\n",
       "                                            to_                values  \\\n",
       "0    0x10ED43C718714eb63d5aA57B78B54704E256024E   3144266976266570000   \n",
       "1    0xE358b1924bB492B1338baE84644636Af00a918fb   1200000000000000000   \n",
       "2    0x958B247D2093bd2F4444195aD67953B306e3Bf62   3149426976266570000   \n",
       "3    0x10ED43C718714eb63d5aA57B78B54704E256024E   1731600000000000000   \n",
       "4    0x10ED43C718714eb63d5aA57B78B54704E256024E   2650000000000000000   \n",
       "..                                          ...                   ...   \n",
       "129  0x4F02cEFc701F4cad1aFEd3C1bdb1A86DFDFeb623   1364000000000000000   \n",
       "130  0x0c59B3AeBAbb36a5AB8eCB92bf24b32B68929ab2  16558000000000000000   \n",
       "131  0xCC650b486f723C924370656b509a82bD69526739   1000000000000000000   \n",
       "132  0x10ED43C718714eb63d5aA57B78B54704E256024E   2343318196069136000   \n",
       "133  0xbb4CdB9CBd36B01bD1cBaEBF2De08d9173bc095c   2700000000000000000   \n",
       "\n",
       "      balance_to  balance_from  balance_from_usd  balance_to_usd  \n",
       "0          0.000         0.054                11               0  \n",
       "1          0.003         0.059                12               0  \n",
       "2          0.054        56.517             12354              11  \n",
       "3          0.000         4.440               970               0  \n",
       "4          0.000         0.144                31               0  \n",
       "..           ...           ...               ...             ...  \n",
       "129        0.000     20271.199           4431284               0  \n",
       "130       51.564         4.570               999           11271  \n",
       "131        0.000         0.052                11               0  \n",
       "132        0.000         0.095                20               0  \n",
       "133  2376663.309         0.003                 0       519538599  \n",
       "\n",
       "[134 rows x 7 columns]"
      ]
     },
     "execution_count": 111,
     "metadata": {},
     "output_type": "execute_result"
    }
   ],
   "source": [
    "import requests\n",
    "\n",
    "response = requests.get(\"https://api.coingecko.com/api/v3/simple/price?ids=binancecoin&vs_currencies=usd\")\n",
    "bnb_price_in_usd = response.json()[\"binancecoin\"][\"usd\"]\n",
    "\n",
    "df['balance_from_usd'] = (df['balance_from']* bnb_price_in_usd).astype(int)\n",
    "df['balance_to_usd'] = (df['balance_to'] * bnb_price_in_usd).astype(int)\n",
    "df"
   ]
  },
  {
   "cell_type": "code",
   "execution_count": null,
   "metadata": {},
   "outputs": [],
   "source": []
  },
  {
   "cell_type": "code",
   "execution_count": null,
   "metadata": {},
   "outputs": [],
   "source": []
  },
  {
   "cell_type": "code",
   "execution_count": null,
   "metadata": {},
   "outputs": [],
   "source": []
  },
  {
   "cell_type": "code",
   "execution_count": null,
   "metadata": {},
   "outputs": [],
   "source": []
  },
  {
   "cell_type": "code",
   "execution_count": null,
   "metadata": {},
   "outputs": [],
   "source": []
  },
  {
   "cell_type": "code",
   "execution_count": null,
   "metadata": {},
   "outputs": [],
   "source": []
  },
  {
   "cell_type": "code",
   "execution_count": 80,
   "metadata": {},
   "outputs": [
    {
     "name": "stdout",
     "output_type": "stream",
     "text": [
      "from\n"
     ]
    },
    {
     "ename": "TypeError",
     "evalue": "string indices must be integers",
     "output_type": "error",
     "traceback": [
      "\u001b[0;31m---------------------------------------------------------------------------\u001b[0m",
      "\u001b[0;31mTypeError\u001b[0m                                 Traceback (most recent call last)",
      "Cell \u001b[0;32mIn[80], line 5\u001b[0m\n\u001b[1;32m      3\u001b[0m \u001b[39mfor\u001b[39;00m address \u001b[39min\u001b[39;00m wallets:\n\u001b[1;32m      4\u001b[0m     \u001b[39mprint\u001b[39m(address)\n\u001b[0;32m----> 5\u001b[0m     balance_from \u001b[39m=\u001b[39m w3\u001b[39m.\u001b[39meth\u001b[39m.\u001b[39mget_balance(\u001b[39mint\u001b[39m(address[\u001b[39m'\u001b[39;49m\u001b[39mfrom\u001b[39;49m\u001b[39m'\u001b[39;49m]))\n\u001b[1;32m      6\u001b[0m     balance_to \u001b[39m=\u001b[39m w3\u001b[39m.\u001b[39meth\u001b[39m.\u001b[39mget_balance(address[\u001b[39m'\u001b[39m\u001b[39mto\u001b[39m\u001b[39m'\u001b[39m])\n\u001b[1;32m      7\u001b[0m     \u001b[39mif\u001b[39;00m balance_from \u001b[39m>\u001b[39m\u001b[39m=\u001b[39m minimum_balance_treshold \u001b[39mor\u001b[39;00m balance_to \u001b[39m>\u001b[39m\u001b[39m=\u001b[39m minimum_balance_treshold:\n",
      "\u001b[0;31mTypeError\u001b[0m: string indices must be integers"
     ]
    }
   ],
   "source": []
  },
  {
   "cell_type": "code",
   "execution_count": 89,
   "metadata": {},
   "outputs": [
    {
     "data": {
      "text/plain": [
       "76"
      ]
     },
     "execution_count": 89,
     "metadata": {},
     "output_type": "execute_result"
    }
   ],
   "source": [
    "wallet"
   ]
  },
  {
   "cell_type": "code",
   "execution_count": 86,
   "metadata": {},
   "outputs": [
    {
     "ename": "ValueError",
     "evalue": "All arrays must be of the same length",
     "output_type": "error",
     "traceback": [
      "\u001b[0;31m---------------------------------------------------------------------------\u001b[0m",
      "\u001b[0;31mValueError\u001b[0m                                Traceback (most recent call last)",
      "Cell \u001b[0;32mIn[86], line 8\u001b[0m\n\u001b[1;32m      5\u001b[0m to_addresses_list \u001b[39m=\u001b[39m \u001b[39mlist\u001b[39m(wallets[\u001b[39m'\u001b[39m\u001b[39mto\u001b[39m\u001b[39m'\u001b[39m])\n\u001b[1;32m      7\u001b[0m \u001b[39m# Create a DataFrame\u001b[39;00m\n\u001b[0;32m----> 8\u001b[0m df \u001b[39m=\u001b[39m pd\u001b[39m.\u001b[39;49mDataFrame({\n\u001b[1;32m      9\u001b[0m     \u001b[39m'\u001b[39;49m\u001b[39mfrom_\u001b[39;49m\u001b[39m'\u001b[39;49m: from_addresses_list,\n\u001b[1;32m     10\u001b[0m     \u001b[39m'\u001b[39;49m\u001b[39mto_\u001b[39;49m\u001b[39m'\u001b[39;49m: to_addresses_list,\n\u001b[1;32m     11\u001b[0m     \u001b[39m'\u001b[39;49m\u001b[39mvalues\u001b[39;49m\u001b[39m'\u001b[39;49m: wallets[\u001b[39m'\u001b[39;49m\u001b[39mvalues\u001b[39;49m\u001b[39m'\u001b[39;49m],\n\u001b[1;32m     12\u001b[0m })\n\u001b[1;32m     14\u001b[0m \u001b[39mprint\u001b[39m(df)\n",
      "File \u001b[0;32m~/anaconda3/envs/web3/lib/python3.9/site-packages/pandas/core/frame.py:709\u001b[0m, in \u001b[0;36mDataFrame.__init__\u001b[0;34m(self, data, index, columns, dtype, copy)\u001b[0m\n\u001b[1;32m    703\u001b[0m     mgr \u001b[39m=\u001b[39m \u001b[39mself\u001b[39m\u001b[39m.\u001b[39m_init_mgr(\n\u001b[1;32m    704\u001b[0m         data, axes\u001b[39m=\u001b[39m{\u001b[39m\"\u001b[39m\u001b[39mindex\u001b[39m\u001b[39m\"\u001b[39m: index, \u001b[39m\"\u001b[39m\u001b[39mcolumns\u001b[39m\u001b[39m\"\u001b[39m: columns}, dtype\u001b[39m=\u001b[39mdtype, copy\u001b[39m=\u001b[39mcopy\n\u001b[1;32m    705\u001b[0m     )\n\u001b[1;32m    707\u001b[0m \u001b[39melif\u001b[39;00m \u001b[39misinstance\u001b[39m(data, \u001b[39mdict\u001b[39m):\n\u001b[1;32m    708\u001b[0m     \u001b[39m# GH#38939 de facto copy defaults to False only in non-dict cases\u001b[39;00m\n\u001b[0;32m--> 709\u001b[0m     mgr \u001b[39m=\u001b[39m dict_to_mgr(data, index, columns, dtype\u001b[39m=\u001b[39;49mdtype, copy\u001b[39m=\u001b[39;49mcopy, typ\u001b[39m=\u001b[39;49mmanager)\n\u001b[1;32m    710\u001b[0m \u001b[39melif\u001b[39;00m \u001b[39misinstance\u001b[39m(data, ma\u001b[39m.\u001b[39mMaskedArray):\n\u001b[1;32m    711\u001b[0m     \u001b[39mfrom\u001b[39;00m \u001b[39mnumpy\u001b[39;00m\u001b[39m.\u001b[39;00m\u001b[39mma\u001b[39;00m \u001b[39mimport\u001b[39;00m mrecords\n",
      "File \u001b[0;32m~/anaconda3/envs/web3/lib/python3.9/site-packages/pandas/core/internals/construction.py:481\u001b[0m, in \u001b[0;36mdict_to_mgr\u001b[0;34m(data, index, columns, dtype, typ, copy)\u001b[0m\n\u001b[1;32m    477\u001b[0m     \u001b[39melse\u001b[39;00m:\n\u001b[1;32m    478\u001b[0m         \u001b[39m# dtype check to exclude e.g. range objects, scalars\u001b[39;00m\n\u001b[1;32m    479\u001b[0m         arrays \u001b[39m=\u001b[39m [x\u001b[39m.\u001b[39mcopy() \u001b[39mif\u001b[39;00m \u001b[39mhasattr\u001b[39m(x, \u001b[39m\"\u001b[39m\u001b[39mdtype\u001b[39m\u001b[39m\"\u001b[39m) \u001b[39melse\u001b[39;00m x \u001b[39mfor\u001b[39;00m x \u001b[39min\u001b[39;00m arrays]\n\u001b[0;32m--> 481\u001b[0m \u001b[39mreturn\u001b[39;00m arrays_to_mgr(arrays, columns, index, dtype\u001b[39m=\u001b[39;49mdtype, typ\u001b[39m=\u001b[39;49mtyp, consolidate\u001b[39m=\u001b[39;49mcopy)\n",
      "File \u001b[0;32m~/anaconda3/envs/web3/lib/python3.9/site-packages/pandas/core/internals/construction.py:115\u001b[0m, in \u001b[0;36marrays_to_mgr\u001b[0;34m(arrays, columns, index, dtype, verify_integrity, typ, consolidate)\u001b[0m\n\u001b[1;32m    112\u001b[0m \u001b[39mif\u001b[39;00m verify_integrity:\n\u001b[1;32m    113\u001b[0m     \u001b[39m# figure out the index, if necessary\u001b[39;00m\n\u001b[1;32m    114\u001b[0m     \u001b[39mif\u001b[39;00m index \u001b[39mis\u001b[39;00m \u001b[39mNone\u001b[39;00m:\n\u001b[0;32m--> 115\u001b[0m         index \u001b[39m=\u001b[39m _extract_index(arrays)\n\u001b[1;32m    116\u001b[0m     \u001b[39melse\u001b[39;00m:\n\u001b[1;32m    117\u001b[0m         index \u001b[39m=\u001b[39m ensure_index(index)\n",
      "File \u001b[0;32m~/anaconda3/envs/web3/lib/python3.9/site-packages/pandas/core/internals/construction.py:655\u001b[0m, in \u001b[0;36m_extract_index\u001b[0;34m(data)\u001b[0m\n\u001b[1;32m    653\u001b[0m lengths \u001b[39m=\u001b[39m \u001b[39mlist\u001b[39m(\u001b[39mset\u001b[39m(raw_lengths))\n\u001b[1;32m    654\u001b[0m \u001b[39mif\u001b[39;00m \u001b[39mlen\u001b[39m(lengths) \u001b[39m>\u001b[39m \u001b[39m1\u001b[39m:\n\u001b[0;32m--> 655\u001b[0m     \u001b[39mraise\u001b[39;00m \u001b[39mValueError\u001b[39;00m(\u001b[39m\"\u001b[39m\u001b[39mAll arrays must be of the same length\u001b[39m\u001b[39m\"\u001b[39m)\n\u001b[1;32m    657\u001b[0m \u001b[39mif\u001b[39;00m have_dicts:\n\u001b[1;32m    658\u001b[0m     \u001b[39mraise\u001b[39;00m \u001b[39mValueError\u001b[39;00m(\n\u001b[1;32m    659\u001b[0m         \u001b[39m\"\u001b[39m\u001b[39mMixing dicts with non-Series may lead to ambiguous ordering.\u001b[39m\u001b[39m\"\u001b[39m\n\u001b[1;32m    660\u001b[0m     )\n",
      "\u001b[0;31mValueError\u001b[0m: All arrays must be of the same length"
     ]
    }
   ],
   "source": [
    "import pandas as pd\n",
    "\n",
    "# Convert sets to lists\n",
    "from_addresses_list = list(wallets['from'])\n",
    "to_addresses_list = list(wallets['to'])\n",
    "\n",
    "# Create a DataFrame\n",
    "df = pd.DataFrame({\n",
    "    'from_': from_addresses_list,\n",
    "    'to_': to_addresses_list,\n",
    "    'values': wallets['values'],\n",
    "})\n",
    "\n",
    "print(df)\n"
   ]
  },
  {
   "cell_type": "code",
   "execution_count": null,
   "metadata": {},
   "outputs": [],
   "source": []
  },
  {
   "cell_type": "code",
   "execution_count": null,
   "metadata": {},
   "outputs": [],
   "source": []
  },
  {
   "cell_type": "code",
   "execution_count": null,
   "metadata": {},
   "outputs": [],
   "source": []
  },
  {
   "cell_type": "code",
   "execution_count": null,
   "metadata": {},
   "outputs": [],
   "source": []
  },
  {
   "cell_type": "code",
   "execution_count": 53,
   "metadata": {},
   "outputs": [
    {
     "data": {
      "text/html": [
       "<div>\n",
       "<style scoped>\n",
       "    .dataframe tbody tr th:only-of-type {\n",
       "        vertical-align: middle;\n",
       "    }\n",
       "\n",
       "    .dataframe tbody tr th {\n",
       "        vertical-align: top;\n",
       "    }\n",
       "\n",
       "    .dataframe thead th {\n",
       "        text-align: right;\n",
       "    }\n",
       "</style>\n",
       "<table border=\"1\" class=\"dataframe\">\n",
       "  <thead>\n",
       "    <tr style=\"text-align: right;\">\n",
       "      <th></th>\n",
       "      <th>from_</th>\n",
       "      <th>to_</th>\n",
       "      <th>values</th>\n",
       "    </tr>\n",
       "  </thead>\n",
       "  <tbody>\n",
       "    <tr>\n",
       "      <th>0</th>\n",
       "      <td>0xaf6E683F828555d260c9F6095D34E29a58A3916f</td>\n",
       "      <td>0x5B0061588b4753Df67445949AaA089898AdC0774</td>\n",
       "      <td>57287590602250000000</td>\n",
       "    </tr>\n",
       "    <tr>\n",
       "      <th>1</th>\n",
       "      <td>0x29bDfbf7D27462a2d115748ace2bd71A2646946c</td>\n",
       "      <td>0x10ED43C718714eb63d5aA57B78B54704E256024E</td>\n",
       "      <td>45672654999999996000</td>\n",
       "    </tr>\n",
       "    <tr>\n",
       "      <th>2</th>\n",
       "      <td>0xF6F18485F22A778fBeCC135eb835c4D65f904545</td>\n",
       "      <td>0x998873fC6791631BF23F375D3491CC7Fd497d571</td>\n",
       "      <td>45597139000000000000</td>\n",
       "    </tr>\n",
       "    <tr>\n",
       "      <th>3</th>\n",
       "      <td>0x998873fC6791631BF23F375D3491CC7Fd497d571</td>\n",
       "      <td>0x46A15B0b27311cedF172AB29E4f4766fbE7F4364</td>\n",
       "      <td>50300000000000000000</td>\n",
       "    </tr>\n",
       "    <tr>\n",
       "      <th>4</th>\n",
       "      <td>0xF2645F91053161938db26F9D3F69fcb133E751Bc</td>\n",
       "      <td>0x63cEf162041Af7c1d96e4F443A7114dD238CD9fE</td>\n",
       "      <td>88752053721799499468</td>\n",
       "    </tr>\n",
       "  </tbody>\n",
       "</table>\n",
       "</div>"
      ],
      "text/plain": [
       "                                        from_  \\\n",
       "0  0xaf6E683F828555d260c9F6095D34E29a58A3916f   \n",
       "1  0x29bDfbf7D27462a2d115748ace2bd71A2646946c   \n",
       "2  0xF6F18485F22A778fBeCC135eb835c4D65f904545   \n",
       "3  0x998873fC6791631BF23F375D3491CC7Fd497d571   \n",
       "4  0xF2645F91053161938db26F9D3F69fcb133E751Bc   \n",
       "\n",
       "                                          to_                values  \n",
       "0  0x5B0061588b4753Df67445949AaA089898AdC0774  57287590602250000000  \n",
       "1  0x10ED43C718714eb63d5aA57B78B54704E256024E  45672654999999996000  \n",
       "2  0x998873fC6791631BF23F375D3491CC7Fd497d571  45597139000000000000  \n",
       "3  0x46A15B0b27311cedF172AB29E4f4766fbE7F4364  50300000000000000000  \n",
       "4  0x63cEf162041Af7c1d96e4F443A7114dD238CD9fE  88752053721799499468  "
      ]
     },
     "execution_count": 53,
     "metadata": {},
     "output_type": "execute_result"
    }
   ],
   "source": [
    "df"
   ]
  },
  {
   "cell_type": "code",
   "execution_count": 55,
   "metadata": {},
   "outputs": [
    {
     "data": {
      "text/plain": [
       "349917815213550012"
      ]
     },
     "execution_count": 55,
     "metadata": {},
     "output_type": "execute_result"
    }
   ],
   "source": [
    "w3.eth.get_balance(\"0xaf6E683F828555d260c9F6095D34E29a58A3916f\")"
   ]
  },
  {
   "cell_type": "code",
   "execution_count": null,
   "metadata": {},
   "outputs": [],
   "source": []
  },
  {
   "cell_type": "code",
   "execution_count": null,
   "metadata": {},
   "outputs": [],
   "source": []
  },
  {
   "cell_type": "code",
   "execution_count": null,
   "metadata": {},
   "outputs": [],
   "source": []
  },
  {
   "cell_type": "code",
   "execution_count": 47,
   "metadata": {},
   "outputs": [
    {
     "data": {
      "text/plain": [
       "{'from': {'0x29bDfbf7D27462a2d115748ace2bd71A2646946c',\n",
       "  '0x998873fC6791631BF23F375D3491CC7Fd497d571',\n",
       "  '0xF2645F91053161938db26F9D3F69fcb133E751Bc',\n",
       "  '0xF6F18485F22A778fBeCC135eb835c4D65f904545',\n",
       "  '0xaf6E683F828555d260c9F6095D34E29a58A3916f'},\n",
       " 'to': {'0x10ED43C718714eb63d5aA57B78B54704E256024E',\n",
       "  '0x46A15B0b27311cedF172AB29E4f4766fbE7F4364',\n",
       "  '0x5B0061588b4753Df67445949AaA089898AdC0774',\n",
       "  '0x63cEf162041Af7c1d96e4F443A7114dD238CD9fE',\n",
       "  '0x998873fC6791631BF23F375D3491CC7Fd497d571'},\n",
       " 'values': [57287590602250000000,\n",
       "  45672654999999996000,\n",
       "  45597139000000000000,\n",
       "  50300000000000000000,\n",
       "  88752053721799499468]}"
      ]
     },
     "execution_count": 47,
     "metadata": {},
     "output_type": "execute_result"
    }
   ],
   "source": []
  },
  {
   "cell_type": "code",
   "execution_count": null,
   "metadata": {},
   "outputs": [],
   "source": []
  },
  {
   "cell_type": "code",
   "execution_count": null,
   "metadata": {},
   "outputs": [],
   "source": []
  },
  {
   "cell_type": "code",
   "execution_count": 40,
   "metadata": {},
   "outputs": [
    {
     "data": {
      "text/plain": [
       "[428281500000000000000,\n",
       " '0x0D0707963952f2fBA59dD06f2b425ace40b492Fe',\n",
       " '0x03C3d998f3B03D4A108b6c03994c5077c6D9033E']"
      ]
     },
     "execution_count": 40,
     "metadata": {},
     "output_type": "execute_result"
    }
   ],
   "source": [
    "wallets"
   ]
  },
  {
   "cell_type": "code",
   "execution_count": null,
   "metadata": {},
   "outputs": [],
   "source": []
  },
  {
   "cell_type": "code",
   "execution_count": 39,
   "metadata": {},
   "outputs": [
    {
     "ename": "TypeError",
     "evalue": "Address 428281500000000000000 must be provided as a string",
     "output_type": "error",
     "traceback": [
      "\u001b[0;31m---------------------------------------------------------------------------\u001b[0m",
      "\u001b[0;31mTypeError\u001b[0m                                 Traceback (most recent call last)",
      "Cell \u001b[0;32mIn[39], line 2\u001b[0m\n\u001b[1;32m      1\u001b[0m \u001b[39mfor\u001b[39;00m address \u001b[39min\u001b[39;00m wallets: \n\u001b[0;32m----> 2\u001b[0m     balance \u001b[39m=\u001b[39m w3\u001b[39m.\u001b[39;49meth\u001b[39m.\u001b[39;49mget_balance(address)\n\u001b[1;32m      3\u001b[0m     \u001b[39mif\u001b[39;00m balance \u001b[39m>\u001b[39m\u001b[39m=\u001b[39m minimum_balance_treshold:\n\u001b[1;32m      4\u001b[0m         \u001b[39mprint\u001b[39m(address)\n",
      "File \u001b[0;32m~/anaconda3/envs/web3/lib/python3.9/site-packages/web3/eth/eth.py:406\u001b[0m, in \u001b[0;36mEth.get_balance\u001b[0;34m(self, account, block_identifier)\u001b[0m\n\u001b[1;32m    401\u001b[0m \u001b[39mdef\u001b[39;00m \u001b[39mget_balance\u001b[39m(\n\u001b[1;32m    402\u001b[0m     \u001b[39mself\u001b[39m,\n\u001b[1;32m    403\u001b[0m     account: Union[Address, ChecksumAddress, ENS],\n\u001b[1;32m    404\u001b[0m     block_identifier: Optional[BlockIdentifier] \u001b[39m=\u001b[39m \u001b[39mNone\u001b[39;00m,\n\u001b[1;32m    405\u001b[0m ) \u001b[39m-\u001b[39m\u001b[39m>\u001b[39m Wei:\n\u001b[0;32m--> 406\u001b[0m     \u001b[39mreturn\u001b[39;00m \u001b[39mself\u001b[39;49m\u001b[39m.\u001b[39;49m_get_balance(account, block_identifier)\n",
      "File \u001b[0;32m~/anaconda3/envs/web3/lib/python3.9/site-packages/web3/module.py:62\u001b[0m, in \u001b[0;36mretrieve_blocking_method_call_fn.<locals>.caller\u001b[0;34m(*args, **kwargs)\u001b[0m\n\u001b[1;32m     60\u001b[0m \u001b[39mdef\u001b[39;00m \u001b[39mcaller\u001b[39m(\u001b[39m*\u001b[39margs: Any, \u001b[39m*\u001b[39m\u001b[39m*\u001b[39mkwargs: Any) \u001b[39m-\u001b[39m\u001b[39m>\u001b[39m Union[TReturn, LogFilter]:\n\u001b[1;32m     61\u001b[0m     \u001b[39mtry\u001b[39;00m:\n\u001b[0;32m---> 62\u001b[0m         (method_str, params), response_formatters \u001b[39m=\u001b[39m method\u001b[39m.\u001b[39;49mprocess_params(\n\u001b[1;32m     63\u001b[0m             module, \u001b[39m*\u001b[39;49margs, \u001b[39m*\u001b[39;49m\u001b[39m*\u001b[39;49mkwargs\n\u001b[1;32m     64\u001b[0m         )\n\u001b[1;32m     65\u001b[0m     \u001b[39mexcept\u001b[39;00m _UseExistingFilter \u001b[39mas\u001b[39;00m err:\n\u001b[1;32m     66\u001b[0m         \u001b[39mreturn\u001b[39;00m LogFilter(eth_module\u001b[39m=\u001b[39mmodule, filter_id\u001b[39m=\u001b[39merr\u001b[39m.\u001b[39mfilter_id)\n",
      "File \u001b[0;32m~/anaconda3/envs/web3/lib/python3.9/site-packages/web3/method.py:233\u001b[0m, in \u001b[0;36mMethod.process_params\u001b[0;34m(self, module, *args, **kwargs)\u001b[0m\n\u001b[1;32m    225\u001b[0m method \u001b[39m=\u001b[39m \u001b[39mself\u001b[39m\u001b[39m.\u001b[39mmethod_selector_fn()\n\u001b[1;32m    226\u001b[0m response_formatters \u001b[39m=\u001b[39m (\n\u001b[1;32m    227\u001b[0m     \u001b[39mself\u001b[39m\u001b[39m.\u001b[39mresult_formatters(method, module),\n\u001b[1;32m    228\u001b[0m     get_error_formatters(method),\n\u001b[1;32m    229\u001b[0m     \u001b[39mself\u001b[39m\u001b[39m.\u001b[39mnull_result_formatters(method),\n\u001b[1;32m    230\u001b[0m )\n\u001b[1;32m    231\u001b[0m request \u001b[39m=\u001b[39m (\n\u001b[1;32m    232\u001b[0m     method,\n\u001b[0;32m--> 233\u001b[0m     _apply_request_formatters(params, \u001b[39mself\u001b[39;49m\u001b[39m.\u001b[39;49mrequest_formatters(method)),\n\u001b[1;32m    234\u001b[0m )\n\u001b[1;32m    235\u001b[0m \u001b[39mreturn\u001b[39;00m request, response_formatters\n",
      "File \u001b[0;32m~/anaconda3/envs/web3/lib/python3.9/site-packages/eth_utils/functional.py:45\u001b[0m, in \u001b[0;36mapply_to_return_value.<locals>.outer.<locals>.inner\u001b[0;34m(*args, **kwargs)\u001b[0m\n\u001b[1;32m     43\u001b[0m \u001b[39m@functools\u001b[39m\u001b[39m.\u001b[39mwraps(fn)\n\u001b[1;32m     44\u001b[0m \u001b[39mdef\u001b[39;00m \u001b[39minner\u001b[39m(\u001b[39m*\u001b[39margs, \u001b[39m*\u001b[39m\u001b[39m*\u001b[39mkwargs) \u001b[39m-\u001b[39m\u001b[39m>\u001b[39m T:  \u001b[39m# type: ignore\u001b[39;00m\n\u001b[0;32m---> 45\u001b[0m     \u001b[39mreturn\u001b[39;00m callback(fn(\u001b[39m*\u001b[39;49margs, \u001b[39m*\u001b[39;49m\u001b[39m*\u001b[39;49mkwargs))\n",
      "File \u001b[0;32m~/anaconda3/envs/web3/lib/python3.9/site-packages/web3/method.py:55\u001b[0m, in \u001b[0;36m_apply_request_formatters\u001b[0;34m(params, request_formatters)\u001b[0m\n\u001b[1;32m     50\u001b[0m \u001b[39m@to_tuple\u001b[39m\n\u001b[1;32m     51\u001b[0m \u001b[39mdef\u001b[39;00m \u001b[39m_apply_request_formatters\u001b[39m(\n\u001b[1;32m     52\u001b[0m     params: Any, request_formatters: Dict[RPCEndpoint, Callable[\u001b[39m.\u001b[39m\u001b[39m.\u001b[39m\u001b[39m.\u001b[39m, TReturn]]\n\u001b[1;32m     53\u001b[0m ) \u001b[39m-\u001b[39m\u001b[39m>\u001b[39m Tuple[Any, \u001b[39m.\u001b[39m\u001b[39m.\u001b[39m\u001b[39m.\u001b[39m]:\n\u001b[1;32m     54\u001b[0m     \u001b[39mif\u001b[39;00m request_formatters:\n\u001b[0;32m---> 55\u001b[0m         formatted_params \u001b[39m=\u001b[39m pipe(params, request_formatters)\n\u001b[1;32m     56\u001b[0m         \u001b[39mreturn\u001b[39;00m formatted_params\n\u001b[1;32m     57\u001b[0m     \u001b[39mreturn\u001b[39;00m params\n",
      "File \u001b[0;32m~/anaconda3/envs/web3/lib/python3.9/site-packages/cytoolz/functoolz.pyx:680\u001b[0m, in \u001b[0;36mcytoolz.functoolz.pipe\u001b[0;34m()\u001b[0m\n",
      "File \u001b[0;32m~/anaconda3/envs/web3/lib/python3.9/site-packages/cytoolz/functoolz.pyx:655\u001b[0m, in \u001b[0;36mcytoolz.functoolz.c_pipe\u001b[0;34m()\u001b[0m\n",
      "File \u001b[0;32m~/anaconda3/envs/web3/lib/python3.9/site-packages/cytoolz/functoolz.pyx:518\u001b[0m, in \u001b[0;36mcytoolz.functoolz.Compose.__call__\u001b[0;34m()\u001b[0m\n",
      "File \u001b[0;32m~/anaconda3/envs/web3/lib/python3.9/site-packages/cytoolz/functoolz.pyx:267\u001b[0m, in \u001b[0;36mcytoolz.functoolz.curry.__call__\u001b[0;34m()\u001b[0m\n",
      "File \u001b[0;32m~/anaconda3/envs/web3/lib/python3.9/site-packages/cytoolz/functoolz.pyx:263\u001b[0m, in \u001b[0;36mcytoolz.functoolz.curry.__call__\u001b[0;34m()\u001b[0m\n",
      "File \u001b[0;32m~/anaconda3/envs/web3/lib/python3.9/site-packages/web3/_utils/abi.py:746\u001b[0m, in \u001b[0;36mmap_abi_data\u001b[0;34m(normalizers, types, data)\u001b[0m\n\u001b[1;32m    718\u001b[0m \u001b[39m\u001b[39m\u001b[39m\"\"\"\u001b[39;00m\n\u001b[1;32m    719\u001b[0m \u001b[39mThis function will apply normalizers to your data, in the\u001b[39;00m\n\u001b[1;32m    720\u001b[0m \u001b[39mcontext of the relevant types. Each normalizer is in the format:\u001b[39;00m\n\u001b[0;32m   (...)\u001b[0m\n\u001b[1;32m    738\u001b[0m \u001b[39m3. Stripping the types back out of the tree\u001b[39;00m\n\u001b[1;32m    739\u001b[0m \u001b[39m\"\"\"\u001b[39;00m\n\u001b[1;32m    740\u001b[0m pipeline \u001b[39m=\u001b[39m itertools\u001b[39m.\u001b[39mchain(\n\u001b[1;32m    741\u001b[0m     [abi_data_tree(types)],\n\u001b[1;32m    742\u001b[0m     \u001b[39mmap\u001b[39m(data_tree_map, normalizers),\n\u001b[1;32m    743\u001b[0m     [partial(recursive_map, strip_abi_type)],\n\u001b[1;32m    744\u001b[0m )\n\u001b[0;32m--> 746\u001b[0m \u001b[39mreturn\u001b[39;00m pipe(data, \u001b[39m*\u001b[39;49mpipeline)\n",
      "File \u001b[0;32m~/anaconda3/envs/web3/lib/python3.9/site-packages/cytoolz/functoolz.pyx:680\u001b[0m, in \u001b[0;36mcytoolz.functoolz.pipe\u001b[0;34m()\u001b[0m\n",
      "File \u001b[0;32m~/anaconda3/envs/web3/lib/python3.9/site-packages/cytoolz/functoolz.pyx:655\u001b[0m, in \u001b[0;36mcytoolz.functoolz.c_pipe\u001b[0;34m()\u001b[0m\n",
      "File \u001b[0;32m~/anaconda3/envs/web3/lib/python3.9/site-packages/cytoolz/functoolz.pyx:267\u001b[0m, in \u001b[0;36mcytoolz.functoolz.curry.__call__\u001b[0;34m()\u001b[0m\n",
      "File \u001b[0;32m~/anaconda3/envs/web3/lib/python3.9/site-packages/cytoolz/functoolz.pyx:263\u001b[0m, in \u001b[0;36mcytoolz.functoolz.curry.__call__\u001b[0;34m()\u001b[0m\n",
      "File \u001b[0;32m~/anaconda3/envs/web3/lib/python3.9/site-packages/web3/_utils/abi.py:781\u001b[0m, in \u001b[0;36mdata_tree_map\u001b[0;34m(func, data_tree)\u001b[0m\n\u001b[1;32m    778\u001b[0m     \u001b[39melse\u001b[39;00m:\n\u001b[1;32m    779\u001b[0m         \u001b[39mreturn\u001b[39;00m elements\n\u001b[0;32m--> 781\u001b[0m \u001b[39mreturn\u001b[39;00m recursive_map(map_to_typed_data, data_tree)\n",
      "File \u001b[0;32m~/anaconda3/envs/web3/lib/python3.9/site-packages/web3/_utils/decorators.py:30\u001b[0m, in \u001b[0;36mreject_recursive_repeats.<locals>.wrapped\u001b[0;34m(*args)\u001b[0m\n\u001b[1;32m     28\u001b[0m to_wrap\u001b[39m.\u001b[39m__already_called[thread_local_args] \u001b[39m=\u001b[39m \u001b[39mTrue\u001b[39;00m  \u001b[39m# type: ignore\u001b[39;00m\n\u001b[1;32m     29\u001b[0m \u001b[39mtry\u001b[39;00m:\n\u001b[0;32m---> 30\u001b[0m     wrapped_val \u001b[39m=\u001b[39m to_wrap(\u001b[39m*\u001b[39;49margs)\n\u001b[1;32m     31\u001b[0m \u001b[39mfinally\u001b[39;00m:\n\u001b[1;32m     32\u001b[0m     \u001b[39mdel\u001b[39;00m to_wrap\u001b[39m.\u001b[39m__already_called[thread_local_args]  \u001b[39m# type: ignore\u001b[39;00m\n",
      "File \u001b[0;32m~/anaconda3/envs/web3/lib/python3.9/site-packages/web3/_utils/formatters.py:84\u001b[0m, in \u001b[0;36mrecursive_map\u001b[0;34m(func, data)\u001b[0m\n\u001b[1;32m     81\u001b[0m \u001b[39mdef\u001b[39;00m \u001b[39mrecurse\u001b[39m(item: Any) \u001b[39m-\u001b[39m\u001b[39m>\u001b[39m TReturn:\n\u001b[1;32m     82\u001b[0m     \u001b[39mreturn\u001b[39;00m recursive_map(func, item)\n\u001b[0;32m---> 84\u001b[0m items_mapped \u001b[39m=\u001b[39m map_collection(recurse, data)\n\u001b[1;32m     85\u001b[0m \u001b[39mreturn\u001b[39;00m func(items_mapped)\n",
      "File \u001b[0;32m~/anaconda3/envs/web3/lib/python3.9/site-packages/web3/_utils/formatters.py:68\u001b[0m, in \u001b[0;36mmap_collection\u001b[0;34m(func, collection)\u001b[0m\n\u001b[1;32m     66\u001b[0m     \u001b[39mreturn\u001b[39;00m collection\n\u001b[1;32m     67\u001b[0m \u001b[39melif\u001b[39;00m \u001b[39misinstance\u001b[39m(collection, Iterable):\n\u001b[0;32m---> 68\u001b[0m     \u001b[39mreturn\u001b[39;00m datatype(\u001b[39mmap\u001b[39;49m(func, collection))\n\u001b[1;32m     69\u001b[0m \u001b[39melse\u001b[39;00m:\n\u001b[1;32m     70\u001b[0m     \u001b[39mreturn\u001b[39;00m collection\n",
      "File \u001b[0;32m~/anaconda3/envs/web3/lib/python3.9/site-packages/web3/_utils/formatters.py:82\u001b[0m, in \u001b[0;36mrecursive_map.<locals>.recurse\u001b[0;34m(item)\u001b[0m\n\u001b[1;32m     81\u001b[0m \u001b[39mdef\u001b[39;00m \u001b[39mrecurse\u001b[39m(item: Any) \u001b[39m-\u001b[39m\u001b[39m>\u001b[39m TReturn:\n\u001b[0;32m---> 82\u001b[0m     \u001b[39mreturn\u001b[39;00m recursive_map(func, item)\n",
      "File \u001b[0;32m~/anaconda3/envs/web3/lib/python3.9/site-packages/web3/_utils/decorators.py:30\u001b[0m, in \u001b[0;36mreject_recursive_repeats.<locals>.wrapped\u001b[0;34m(*args)\u001b[0m\n\u001b[1;32m     28\u001b[0m to_wrap\u001b[39m.\u001b[39m__already_called[thread_local_args] \u001b[39m=\u001b[39m \u001b[39mTrue\u001b[39;00m  \u001b[39m# type: ignore\u001b[39;00m\n\u001b[1;32m     29\u001b[0m \u001b[39mtry\u001b[39;00m:\n\u001b[0;32m---> 30\u001b[0m     wrapped_val \u001b[39m=\u001b[39m to_wrap(\u001b[39m*\u001b[39;49margs)\n\u001b[1;32m     31\u001b[0m \u001b[39mfinally\u001b[39;00m:\n\u001b[1;32m     32\u001b[0m     \u001b[39mdel\u001b[39;00m to_wrap\u001b[39m.\u001b[39m__already_called[thread_local_args]  \u001b[39m# type: ignore\u001b[39;00m\n",
      "File \u001b[0;32m~/anaconda3/envs/web3/lib/python3.9/site-packages/web3/_utils/formatters.py:85\u001b[0m, in \u001b[0;36mrecursive_map\u001b[0;34m(func, data)\u001b[0m\n\u001b[1;32m     82\u001b[0m     \u001b[39mreturn\u001b[39;00m recursive_map(func, item)\n\u001b[1;32m     84\u001b[0m items_mapped \u001b[39m=\u001b[39m map_collection(recurse, data)\n\u001b[0;32m---> 85\u001b[0m \u001b[39mreturn\u001b[39;00m func(items_mapped)\n",
      "File \u001b[0;32m~/anaconda3/envs/web3/lib/python3.9/site-packages/web3/_utils/abi.py:777\u001b[0m, in \u001b[0;36mdata_tree_map.<locals>.map_to_typed_data\u001b[0;34m(elements)\u001b[0m\n\u001b[1;32m    775\u001b[0m \u001b[39mdef\u001b[39;00m \u001b[39mmap_to_typed_data\u001b[39m(elements: Any) \u001b[39m-\u001b[39m\u001b[39m>\u001b[39m \u001b[39m\"\u001b[39m\u001b[39mABITypedData\u001b[39m\u001b[39m\"\u001b[39m:\n\u001b[1;32m    776\u001b[0m     \u001b[39mif\u001b[39;00m \u001b[39misinstance\u001b[39m(elements, ABITypedData) \u001b[39mand\u001b[39;00m elements\u001b[39m.\u001b[39mabi_type \u001b[39mis\u001b[39;00m \u001b[39mnot\u001b[39;00m \u001b[39mNone\u001b[39;00m:\n\u001b[0;32m--> 777\u001b[0m         \u001b[39mreturn\u001b[39;00m ABITypedData(func(\u001b[39m*\u001b[39;49melements))\n\u001b[1;32m    778\u001b[0m     \u001b[39melse\u001b[39;00m:\n\u001b[1;32m    779\u001b[0m         \u001b[39mreturn\u001b[39;00m elements\n",
      "File \u001b[0;32m~/anaconda3/envs/web3/lib/python3.9/site-packages/web3/_utils/normalizers.py:80\u001b[0m, in \u001b[0;36mimplicitly_identity.<locals>.wrapper\u001b[0;34m(type_str, data)\u001b[0m\n\u001b[1;32m     78\u001b[0m \u001b[39m@functools\u001b[39m\u001b[39m.\u001b[39mwraps(to_wrap)\n\u001b[1;32m     79\u001b[0m \u001b[39mdef\u001b[39;00m \u001b[39mwrapper\u001b[39m(type_str: TypeStr, data: Any) \u001b[39m-\u001b[39m\u001b[39m>\u001b[39m Tuple[TypeStr, Any]:\n\u001b[0;32m---> 80\u001b[0m     modified \u001b[39m=\u001b[39m to_wrap(type_str, data)\n\u001b[1;32m     81\u001b[0m     \u001b[39mif\u001b[39;00m modified \u001b[39mis\u001b[39;00m \u001b[39mNone\u001b[39;00m:\n\u001b[1;32m     82\u001b[0m         \u001b[39mreturn\u001b[39;00m type_str, data\n",
      "File \u001b[0;32m~/anaconda3/envs/web3/lib/python3.9/site-packages/web3/_utils/normalizers.py:203\u001b[0m, in \u001b[0;36mabi_address_to_hex\u001b[0;34m(type_str, data)\u001b[0m\n\u001b[1;32m    198\u001b[0m \u001b[39m@implicitly_identity\u001b[39m\n\u001b[1;32m    199\u001b[0m \u001b[39mdef\u001b[39;00m \u001b[39mabi_address_to_hex\u001b[39m(\n\u001b[1;32m    200\u001b[0m     type_str: TypeStr, data: Any\n\u001b[1;32m    201\u001b[0m ) \u001b[39m-\u001b[39m\u001b[39m>\u001b[39m Optional[Tuple[TypeStr, ChecksumAddress]]:\n\u001b[1;32m    202\u001b[0m     \u001b[39mif\u001b[39;00m type_str \u001b[39m==\u001b[39m \u001b[39m\"\u001b[39m\u001b[39maddress\u001b[39m\u001b[39m\"\u001b[39m:\n\u001b[0;32m--> 203\u001b[0m         validate_address(data)\n\u001b[1;32m    204\u001b[0m         \u001b[39mif\u001b[39;00m is_binary_address(data):\n\u001b[1;32m    205\u001b[0m             \u001b[39mreturn\u001b[39;00m type_str, to_checksum_address(data)\n",
      "File \u001b[0;32m~/anaconda3/envs/web3/lib/python3.9/site-packages/web3/_utils/validation.py:176\u001b[0m, in \u001b[0;36mvalidate_address\u001b[0;34m(value)\u001b[0m\n\u001b[1;32m    173\u001b[0m     \u001b[39mreturn\u001b[39;00m\n\u001b[1;32m    175\u001b[0m \u001b[39mif\u001b[39;00m \u001b[39mnot\u001b[39;00m \u001b[39misinstance\u001b[39m(value, \u001b[39mstr\u001b[39m):\n\u001b[0;32m--> 176\u001b[0m     \u001b[39mraise\u001b[39;00m \u001b[39mTypeError\u001b[39;00m(\u001b[39mf\u001b[39m\u001b[39m\"\u001b[39m\u001b[39mAddress \u001b[39m\u001b[39m{\u001b[39;00mvalue\u001b[39m}\u001b[39;00m\u001b[39m must be provided as a string\u001b[39m\u001b[39m\"\u001b[39m)\n\u001b[1;32m    177\u001b[0m \u001b[39mif\u001b[39;00m \u001b[39mnot\u001b[39;00m is_hex_address(value):\n\u001b[1;32m    178\u001b[0m     \u001b[39mraise\u001b[39;00m InvalidAddress(\n\u001b[1;32m    179\u001b[0m         \u001b[39m\"\u001b[39m\u001b[39mAddress must be 20 bytes, as a hex string with a 0x prefix\u001b[39m\u001b[39m\"\u001b[39m, value\n\u001b[1;32m    180\u001b[0m     )\n",
      "\u001b[0;31mTypeError\u001b[0m: Address 428281500000000000000 must be provided as a string"
     ]
    }
   ],
   "source": [
    "for address in wallets: \n",
    "    balance = w3.eth.get_balance(address)\n",
    "    if balance >= minimum_balance_treshold:\n",
    "        print(address)"
   ]
  },
  {
   "cell_type": "code",
   "execution_count": null,
   "metadata": {},
   "outputs": [],
   "source": []
  },
  {
   "cell_type": "code",
   "execution_count": null,
   "metadata": {},
   "outputs": [],
   "source": []
  },
  {
   "cell_type": "code",
   "execution_count": 16,
   "metadata": {},
   "outputs": [
    {
     "ename": "ExtraDataLengthError",
     "evalue": "The field extraData is 280 bytes, but should be 32. It is quite likely that you are connected to a POA chain. Refer to http://web3py.readthedocs.io/en/stable/middleware.html#proof-of-authority for more details. The full extraData is: HexBytes('0xd88301020a846765746888676f312e31392e38856c696e7578000000b19df4a2f8b5830defffb860869e9c7aca9fadc20eb446c28abbddaba1de127931c2826bb5d9ad57696bf82fb8d2583d1e524ed1e74a5eb14c89dedc09e29b0e7c38535ba56a945bd1a388274320285a93af9e298bfbad19967bcedbb21156038a031f45924106abac023606f84c8401d85abda0dcd152f77eef8ed973dbb18e204d5342c853ca95b675d851f9aa92c7ae05bf238401d85abea01c3f58375713cba7d58dfbaa2aae43d72c3e487a6e8edb22eec35def01b5ec1b80c94db992dcd04cd602f04019013ebd28dffae1e13e9c6b46b5b608db980b2b173cd7718a9a9ea79de73c402d9dbd5c4da1b608cf7c3d7b9c5ae79e8335ca2a5e00')",
     "output_type": "error",
     "traceback": [
      "\u001b[0;31m---------------------------------------------------------------------------\u001b[0m",
      "\u001b[0;31mExtraDataLengthError\u001b[0m                      Traceback (most recent call last)",
      "Cell \u001b[0;32mIn[16], line 6\u001b[0m\n\u001b[1;32m      4\u001b[0m wallets \u001b[39m=\u001b[39m[]\n\u001b[1;32m      5\u001b[0m \u001b[39mfor\u001b[39;00m block_number \u001b[39min\u001b[39;00m \u001b[39mrange\u001b[39m(latest_block_number\u001b[39m-\u001b[39m\u001b[39m1\u001b[39m, latest_block_number\u001b[39m-\u001b[39m\u001b[39m100\u001b[39m, \u001b[39m-\u001b[39m\u001b[39m1\u001b[39m):\n\u001b[0;32m----> 6\u001b[0m     block \u001b[39m=\u001b[39m w3\u001b[39m.\u001b[39;49meth\u001b[39m.\u001b[39;49mget_block(block_number)\n\u001b[1;32m      7\u001b[0m     \u001b[39mfor\u001b[39;00m tx \u001b[39min\u001b[39;00m block\u001b[39m.\u001b[39mtransactions:\n\u001b[1;32m      8\u001b[0m         \u001b[39mif\u001b[39;00m tx[\u001b[39m'\u001b[39m\u001b[39mvalue\u001b[39m\u001b[39m'\u001b[39m]\u001b[39m>\u001b[39m\u001b[39m=\u001b[39m minimum_balance_treshold:\n",
      "File \u001b[0;32m~/anaconda3/envs/web3/lib/python3.9/site-packages/web3/eth/eth.py:390\u001b[0m, in \u001b[0;36mEth.get_block\u001b[0;34m(self, block_identifier, full_transactions)\u001b[0m\n\u001b[1;32m    387\u001b[0m \u001b[39mdef\u001b[39;00m \u001b[39mget_block\u001b[39m(\n\u001b[1;32m    388\u001b[0m     \u001b[39mself\u001b[39m, block_identifier: BlockIdentifier, full_transactions: \u001b[39mbool\u001b[39m \u001b[39m=\u001b[39m \u001b[39mFalse\u001b[39;00m\n\u001b[1;32m    389\u001b[0m ) \u001b[39m-\u001b[39m\u001b[39m>\u001b[39m BlockData:\n\u001b[0;32m--> 390\u001b[0m     \u001b[39mreturn\u001b[39;00m \u001b[39mself\u001b[39;49m\u001b[39m.\u001b[39;49m_get_block(block_identifier, full_transactions)\n",
      "File \u001b[0;32m~/anaconda3/envs/web3/lib/python3.9/site-packages/web3/module.py:73\u001b[0m, in \u001b[0;36mretrieve_blocking_method_call_fn.<locals>.caller\u001b[0;34m(*args, **kwargs)\u001b[0m\n\u001b[1;32m     66\u001b[0m     \u001b[39mreturn\u001b[39;00m LogFilter(eth_module\u001b[39m=\u001b[39mmodule, filter_id\u001b[39m=\u001b[39merr\u001b[39m.\u001b[39mfilter_id)\n\u001b[1;32m     68\u001b[0m (\n\u001b[1;32m     69\u001b[0m     result_formatters,\n\u001b[1;32m     70\u001b[0m     error_formatters,\n\u001b[1;32m     71\u001b[0m     null_result_formatters,\n\u001b[1;32m     72\u001b[0m ) \u001b[39m=\u001b[39m response_formatters\n\u001b[0;32m---> 73\u001b[0m result \u001b[39m=\u001b[39m w3\u001b[39m.\u001b[39;49mmanager\u001b[39m.\u001b[39;49mrequest_blocking(\n\u001b[1;32m     74\u001b[0m     method_str, params, error_formatters, null_result_formatters\n\u001b[1;32m     75\u001b[0m )\n\u001b[1;32m     76\u001b[0m \u001b[39mreturn\u001b[39;00m apply_result_formatters(result_formatters, result)\n",
      "File \u001b[0;32m~/anaconda3/envs/web3/lib/python3.9/site-packages/web3/manager.py:249\u001b[0m, in \u001b[0;36mRequestManager.request_blocking\u001b[0;34m(self, method, params, error_formatters, null_result_formatters)\u001b[0m\n\u001b[1;32m    239\u001b[0m \u001b[39mdef\u001b[39;00m \u001b[39mrequest_blocking\u001b[39m(\n\u001b[1;32m    240\u001b[0m     \u001b[39mself\u001b[39m,\n\u001b[1;32m    241\u001b[0m     method: Union[RPCEndpoint, Callable[\u001b[39m.\u001b[39m\u001b[39m.\u001b[39m\u001b[39m.\u001b[39m, RPCEndpoint]],\n\u001b[0;32m   (...)\u001b[0m\n\u001b[1;32m    244\u001b[0m     null_result_formatters: Optional[Callable[\u001b[39m.\u001b[39m\u001b[39m.\u001b[39m\u001b[39m.\u001b[39m, Any]] \u001b[39m=\u001b[39m \u001b[39mNone\u001b[39;00m,\n\u001b[1;32m    245\u001b[0m ) \u001b[39m-\u001b[39m\u001b[39m>\u001b[39m Any:\n\u001b[1;32m    246\u001b[0m \u001b[39m    \u001b[39m\u001b[39m\"\"\"\u001b[39;00m\n\u001b[1;32m    247\u001b[0m \u001b[39m    Make a synchronous request using the provider\u001b[39;00m\n\u001b[1;32m    248\u001b[0m \u001b[39m    \"\"\"\u001b[39;00m\n\u001b[0;32m--> 249\u001b[0m     response \u001b[39m=\u001b[39m \u001b[39mself\u001b[39;49m\u001b[39m.\u001b[39;49m_make_request(method, params)\n\u001b[1;32m    250\u001b[0m     \u001b[39mreturn\u001b[39;00m \u001b[39mself\u001b[39m\u001b[39m.\u001b[39mformatted_response(\n\u001b[1;32m    251\u001b[0m         response, params, error_formatters, null_result_formatters\n\u001b[1;32m    252\u001b[0m     )\n",
      "File \u001b[0;32m~/anaconda3/envs/web3/lib/python3.9/site-packages/web3/manager.py:188\u001b[0m, in \u001b[0;36mRequestManager._make_request\u001b[0;34m(self, method, params)\u001b[0m\n\u001b[1;32m    184\u001b[0m request_func \u001b[39m=\u001b[39m provider\u001b[39m.\u001b[39mrequest_func(\n\u001b[1;32m    185\u001b[0m     cast(\u001b[39m\"\u001b[39m\u001b[39mWeb3\u001b[39m\u001b[39m\"\u001b[39m, \u001b[39mself\u001b[39m\u001b[39m.\u001b[39mw3), cast(MiddlewareOnion, \u001b[39mself\u001b[39m\u001b[39m.\u001b[39mmiddleware_onion)\n\u001b[1;32m    186\u001b[0m )\n\u001b[1;32m    187\u001b[0m \u001b[39mself\u001b[39m\u001b[39m.\u001b[39mlogger\u001b[39m.\u001b[39mdebug(\u001b[39mf\u001b[39m\u001b[39m\"\u001b[39m\u001b[39mMaking request. Method: \u001b[39m\u001b[39m{\u001b[39;00mmethod\u001b[39m}\u001b[39;00m\u001b[39m\"\u001b[39m)\n\u001b[0;32m--> 188\u001b[0m \u001b[39mreturn\u001b[39;00m request_func(method, params)\n",
      "File \u001b[0;32m~/anaconda3/envs/web3/lib/python3.9/site-packages/web3/middleware/gas_price_strategy.py:101\u001b[0m, in \u001b[0;36mgas_price_strategy_middleware.<locals>.middleware\u001b[0;34m(method, params)\u001b[0m\n\u001b[1;32m     97\u001b[0m     transaction \u001b[39m=\u001b[39m validate_transaction_params(\n\u001b[1;32m     98\u001b[0m         transaction, latest_block, generated_gas_price\n\u001b[1;32m     99\u001b[0m     )\n\u001b[1;32m    100\u001b[0m     \u001b[39mreturn\u001b[39;00m make_request(method, (transaction,))\n\u001b[0;32m--> 101\u001b[0m \u001b[39mreturn\u001b[39;00m make_request(method, params)\n",
      "File \u001b[0;32m~/anaconda3/envs/web3/lib/python3.9/site-packages/web3/middleware/formatting.py:106\u001b[0m, in \u001b[0;36mconstruct_web3_formatting_middleware.<locals>.formatter_middleware.<locals>.middleware\u001b[0;34m(method, params)\u001b[0m\n\u001b[1;32m    104\u001b[0m     formatter \u001b[39m=\u001b[39m request_formatters[method]\n\u001b[1;32m    105\u001b[0m     params \u001b[39m=\u001b[39m formatter(params)\n\u001b[0;32m--> 106\u001b[0m response \u001b[39m=\u001b[39m make_request(method, params)\n\u001b[1;32m    108\u001b[0m \u001b[39mreturn\u001b[39;00m _apply_response_formatters(\n\u001b[1;32m    109\u001b[0m     method,\n\u001b[1;32m    110\u001b[0m     formatters[\u001b[39m\"\u001b[39m\u001b[39mresult_formatters\u001b[39m\u001b[39m\"\u001b[39m],\n\u001b[1;32m    111\u001b[0m     formatters[\u001b[39m\"\u001b[39m\u001b[39merror_formatters\u001b[39m\u001b[39m\"\u001b[39m],\n\u001b[1;32m    112\u001b[0m     response,\n\u001b[1;32m    113\u001b[0m )\n",
      "File \u001b[0;32m~/anaconda3/envs/web3/lib/python3.9/site-packages/web3/middleware/attrdict.py:43\u001b[0m, in \u001b[0;36mattrdict_middleware.<locals>.middleware\u001b[0;34m(method, params)\u001b[0m\n\u001b[1;32m     42\u001b[0m \u001b[39mdef\u001b[39;00m \u001b[39mmiddleware\u001b[39m(method: RPCEndpoint, params: Any) \u001b[39m-\u001b[39m\u001b[39m>\u001b[39m RPCResponse:\n\u001b[0;32m---> 43\u001b[0m     response \u001b[39m=\u001b[39m make_request(method, params)\n\u001b[1;32m     45\u001b[0m     \u001b[39mif\u001b[39;00m \u001b[39m\"\u001b[39m\u001b[39mresult\u001b[39m\u001b[39m\"\u001b[39m \u001b[39min\u001b[39;00m response:\n\u001b[1;32m     46\u001b[0m         \u001b[39mreturn\u001b[39;00m assoc(\n\u001b[1;32m     47\u001b[0m             response, \u001b[39m\"\u001b[39m\u001b[39mresult\u001b[39m\u001b[39m\"\u001b[39m, AttributeDict\u001b[39m.\u001b[39mrecursive(response[\u001b[39m\"\u001b[39m\u001b[39mresult\u001b[39m\u001b[39m\"\u001b[39m])\n\u001b[1;32m     48\u001b[0m         )\n",
      "File \u001b[0;32m~/anaconda3/envs/web3/lib/python3.9/site-packages/web3/middleware/formatting.py:108\u001b[0m, in \u001b[0;36mconstruct_web3_formatting_middleware.<locals>.formatter_middleware.<locals>.middleware\u001b[0;34m(method, params)\u001b[0m\n\u001b[1;32m    105\u001b[0m     params \u001b[39m=\u001b[39m formatter(params)\n\u001b[1;32m    106\u001b[0m response \u001b[39m=\u001b[39m make_request(method, params)\n\u001b[0;32m--> 108\u001b[0m \u001b[39mreturn\u001b[39;00m _apply_response_formatters(\n\u001b[1;32m    109\u001b[0m     method,\n\u001b[1;32m    110\u001b[0m     formatters[\u001b[39m\"\u001b[39;49m\u001b[39mresult_formatters\u001b[39;49m\u001b[39m\"\u001b[39;49m],\n\u001b[1;32m    111\u001b[0m     formatters[\u001b[39m\"\u001b[39;49m\u001b[39merror_formatters\u001b[39;49m\u001b[39m\"\u001b[39;49m],\n\u001b[1;32m    112\u001b[0m     response,\n\u001b[1;32m    113\u001b[0m )\n",
      "File \u001b[0;32m~/anaconda3/envs/web3/lib/python3.9/site-packages/cytoolz/functoolz.pyx:263\u001b[0m, in \u001b[0;36mcytoolz.functoolz.curry.__call__\u001b[0;34m()\u001b[0m\n",
      "File \u001b[0;32m~/anaconda3/envs/web3/lib/python3.9/site-packages/web3/middleware/formatting.py:61\u001b[0m, in \u001b[0;36m_apply_response_formatters\u001b[0;34m(method, result_formatters, error_formatters, response)\u001b[0m\n\u001b[1;32m     56\u001b[0m     \u001b[39mreturn\u001b[39;00m assoc(\n\u001b[1;32m     57\u001b[0m         response, response_type, method_response_formatter(appropriate_response)\n\u001b[1;32m     58\u001b[0m     )\n\u001b[1;32m     60\u001b[0m \u001b[39mif\u001b[39;00m response\u001b[39m.\u001b[39mget(\u001b[39m\"\u001b[39m\u001b[39mresult\u001b[39m\u001b[39m\"\u001b[39m) \u001b[39mis\u001b[39;00m \u001b[39mnot\u001b[39;00m \u001b[39mNone\u001b[39;00m \u001b[39mand\u001b[39;00m method \u001b[39min\u001b[39;00m result_formatters:\n\u001b[0;32m---> 61\u001b[0m     \u001b[39mreturn\u001b[39;00m _format_response(\u001b[39m\"\u001b[39;49m\u001b[39mresult\u001b[39;49m\u001b[39m\"\u001b[39;49m, result_formatters[method])\n\u001b[1;32m     62\u001b[0m \u001b[39melif\u001b[39;00m \u001b[39m\"\u001b[39m\u001b[39merror\u001b[39m\u001b[39m\"\u001b[39m \u001b[39min\u001b[39;00m response \u001b[39mand\u001b[39;00m method \u001b[39min\u001b[39;00m error_formatters:\n\u001b[1;32m     63\u001b[0m     \u001b[39mreturn\u001b[39;00m _format_response(\u001b[39m\"\u001b[39m\u001b[39merror\u001b[39m\u001b[39m\"\u001b[39m, error_formatters[method])\n",
      "File \u001b[0;32m~/anaconda3/envs/web3/lib/python3.9/site-packages/web3/middleware/formatting.py:57\u001b[0m, in \u001b[0;36m_apply_response_formatters.<locals>._format_response\u001b[0;34m(response_type, method_response_formatter)\u001b[0m\n\u001b[1;32m     50\u001b[0m \u001b[39mdef\u001b[39;00m \u001b[39m_format_response\u001b[39m(\n\u001b[1;32m     51\u001b[0m     response_type: Literal[\u001b[39m\"\u001b[39m\u001b[39mresult\u001b[39m\u001b[39m\"\u001b[39m, \u001b[39m\"\u001b[39m\u001b[39merror\u001b[39m\u001b[39m\"\u001b[39m],\n\u001b[1;32m     52\u001b[0m     method_response_formatter: Callable[\u001b[39m.\u001b[39m\u001b[39m.\u001b[39m\u001b[39m.\u001b[39m, Any],\n\u001b[1;32m     53\u001b[0m ) \u001b[39m-\u001b[39m\u001b[39m>\u001b[39m RPCResponse:\n\u001b[1;32m     54\u001b[0m     appropriate_response \u001b[39m=\u001b[39m response[response_type]\n\u001b[1;32m     56\u001b[0m     \u001b[39mreturn\u001b[39;00m assoc(\n\u001b[0;32m---> 57\u001b[0m         response, response_type, method_response_formatter(appropriate_response)\n\u001b[1;32m     58\u001b[0m     )\n",
      "File \u001b[0;32m~/anaconda3/envs/web3/lib/python3.9/site-packages/cytoolz/functoolz.pyx:263\u001b[0m, in \u001b[0;36mcytoolz.functoolz.curry.__call__\u001b[0;34m()\u001b[0m\n",
      "File \u001b[0;32m~/anaconda3/envs/web3/lib/python3.9/site-packages/eth_utils/applicators.py:72\u001b[0m, in \u001b[0;36mapply_formatter_if\u001b[0;34m(condition, formatter, value)\u001b[0m\n\u001b[1;32m     68\u001b[0m \u001b[39mdef\u001b[39;00m \u001b[39mapply_formatter_if\u001b[39m(\n\u001b[1;32m     69\u001b[0m     condition: Callable[\u001b[39m.\u001b[39m\u001b[39m.\u001b[39m\u001b[39m.\u001b[39m, \u001b[39mbool\u001b[39m], formatter: Callable[\u001b[39m.\u001b[39m\u001b[39m.\u001b[39m\u001b[39m.\u001b[39m, Any], value: Any\n\u001b[1;32m     70\u001b[0m ) \u001b[39m-\u001b[39m\u001b[39m>\u001b[39m Any:\n\u001b[1;32m     71\u001b[0m     \u001b[39mif\u001b[39;00m condition(value):\n\u001b[0;32m---> 72\u001b[0m         \u001b[39mreturn\u001b[39;00m formatter(value)\n\u001b[1;32m     73\u001b[0m     \u001b[39melse\u001b[39;00m:\n\u001b[1;32m     74\u001b[0m         \u001b[39mreturn\u001b[39;00m value\n",
      "File \u001b[0;32m~/anaconda3/envs/web3/lib/python3.9/site-packages/cytoolz/functoolz.pyx:263\u001b[0m, in \u001b[0;36mcytoolz.functoolz.curry.__call__\u001b[0;34m()\u001b[0m\n",
      "File \u001b[0;32m~/anaconda3/envs/web3/lib/python3.9/site-packages/eth_utils/functional.py:45\u001b[0m, in \u001b[0;36mapply_to_return_value.<locals>.outer.<locals>.inner\u001b[0;34m(*args, **kwargs)\u001b[0m\n\u001b[1;32m     43\u001b[0m \u001b[39m@functools\u001b[39m\u001b[39m.\u001b[39mwraps(fn)\n\u001b[1;32m     44\u001b[0m \u001b[39mdef\u001b[39;00m \u001b[39minner\u001b[39m(\u001b[39m*\u001b[39margs, \u001b[39m*\u001b[39m\u001b[39m*\u001b[39mkwargs) \u001b[39m-\u001b[39m\u001b[39m>\u001b[39m T:  \u001b[39m# type: ignore\u001b[39;00m\n\u001b[0;32m---> 45\u001b[0m     \u001b[39mreturn\u001b[39;00m callback(fn(\u001b[39m*\u001b[39;49margs, \u001b[39m*\u001b[39;49m\u001b[39m*\u001b[39;49mkwargs))\n",
      "File \u001b[0;32m~/anaconda3/envs/web3/lib/python3.9/site-packages/eth_utils/applicators.py:84\u001b[0m, in \u001b[0;36mapply_formatters_to_dict\u001b[0;34m(formatters, value)\u001b[0m\n\u001b[1;32m     82\u001b[0m \u001b[39mif\u001b[39;00m key \u001b[39min\u001b[39;00m formatters:\n\u001b[1;32m     83\u001b[0m     \u001b[39mtry\u001b[39;00m:\n\u001b[0;32m---> 84\u001b[0m         \u001b[39myield\u001b[39;00m key, formatters[key](item)\n\u001b[1;32m     85\u001b[0m     \u001b[39mexcept\u001b[39;00m \u001b[39mValueError\u001b[39;00m \u001b[39mas\u001b[39;00m exc:\n\u001b[1;32m     86\u001b[0m         new_error_message \u001b[39m=\u001b[39m \u001b[39m\"\u001b[39m\u001b[39mCould not format invalid value \u001b[39m\u001b[39m%r\u001b[39;00m\u001b[39m as field \u001b[39m\u001b[39m%r\u001b[39;00m\u001b[39m\"\u001b[39m \u001b[39m%\u001b[39m (\n\u001b[1;32m     87\u001b[0m             item,\n\u001b[1;32m     88\u001b[0m             key,\n\u001b[1;32m     89\u001b[0m         )\n",
      "File \u001b[0;32m~/anaconda3/envs/web3/lib/python3.9/site-packages/web3/middleware/validation.py:76\u001b[0m, in \u001b[0;36m_check_extradata_length\u001b[0;34m(val)\u001b[0m\n\u001b[1;32m     74\u001b[0m result \u001b[39m=\u001b[39m HexBytes(val)\n\u001b[1;32m     75\u001b[0m \u001b[39mif\u001b[39;00m \u001b[39mlen\u001b[39m(result) \u001b[39m>\u001b[39m MAX_EXTRADATA_LENGTH:\n\u001b[0;32m---> 76\u001b[0m     \u001b[39mraise\u001b[39;00m ExtraDataLengthError(\n\u001b[1;32m     77\u001b[0m         \u001b[39mf\u001b[39m\u001b[39m\"\u001b[39m\u001b[39mThe field extraData is \u001b[39m\u001b[39m{\u001b[39;00m\u001b[39mlen\u001b[39m(result)\u001b[39m}\u001b[39;00m\u001b[39m bytes, but should be \u001b[39m\u001b[39m\"\u001b[39m\n\u001b[1;32m     78\u001b[0m         \u001b[39mf\u001b[39m\u001b[39m\"\u001b[39m\u001b[39m{\u001b[39;00mMAX_EXTRADATA_LENGTH\u001b[39m}\u001b[39;00m\u001b[39m. It is quite likely that you are \u001b[39m\u001b[39m\"\u001b[39m\n\u001b[1;32m     79\u001b[0m         \u001b[39m\"\u001b[39m\u001b[39mconnected to a POA chain. Refer to \u001b[39m\u001b[39m\"\u001b[39m\n\u001b[1;32m     80\u001b[0m         \u001b[39m\"\u001b[39m\u001b[39mhttp://web3py.readthedocs.io/en/stable/middleware.html#proof-of-authority \u001b[39m\u001b[39m\"\u001b[39m\n\u001b[1;32m     81\u001b[0m         \u001b[39mf\u001b[39m\u001b[39m\"\u001b[39m\u001b[39mfor more details. The full extraData is: \u001b[39m\u001b[39m{\u001b[39;00mresult\u001b[39m!r}\u001b[39;00m\u001b[39m\"\u001b[39m\n\u001b[1;32m     82\u001b[0m     )\n\u001b[1;32m     83\u001b[0m \u001b[39mreturn\u001b[39;00m val\n",
      "\u001b[0;31mExtraDataLengthError\u001b[0m: The field extraData is 280 bytes, but should be 32. It is quite likely that you are connected to a POA chain. Refer to http://web3py.readthedocs.io/en/stable/middleware.html#proof-of-authority for more details. The full extraData is: HexBytes('0xd88301020a846765746888676f312e31392e38856c696e7578000000b19df4a2f8b5830defffb860869e9c7aca9fadc20eb446c28abbddaba1de127931c2826bb5d9ad57696bf82fb8d2583d1e524ed1e74a5eb14c89dedc09e29b0e7c38535ba56a945bd1a388274320285a93af9e298bfbad19967bcedbb21156038a031f45924106abac023606f84c8401d85abda0dcd152f77eef8ed973dbb18e204d5342c853ca95b675d851f9aa92c7ae05bf238401d85abea01c3f58375713cba7d58dfbaa2aae43d72c3e487a6e8edb22eec35def01b5ec1b80c94db992dcd04cd602f04019013ebd28dffae1e13e9c6b46b5b608db980b2b173cd7718a9a9ea79de73c402d9dbd5c4da1b608cf7c3d7b9c5ae79e8335ca2a5e00')"
     ]
    }
   ],
   "source": []
  },
  {
   "cell_type": "code",
   "execution_count": null,
   "metadata": {},
   "outputs": [
    {
     "data": {
      "text/plain": [
       "True"
      ]
     },
     "metadata": {},
     "output_type": "display_data"
    }
   ],
   "source": []
  },
  {
   "cell_type": "code",
   "execution_count": null,
   "metadata": {},
   "outputs": [
    {
     "data": {
      "text/plain": [
       "True"
      ]
     },
     "metadata": {},
     "output_type": "display_data"
    }
   ],
   "source": []
  },
  {
   "cell_type": "code",
   "execution_count": 6,
   "metadata": {},
   "outputs": [
    {
     "data": {
      "text/plain": [
       "30956026"
      ]
     },
     "execution_count": 6,
     "metadata": {},
     "output_type": "execute_result"
    }
   ],
   "source": []
  },
  {
   "cell_type": "code",
   "execution_count": null,
   "metadata": {},
   "outputs": [],
   "source": []
  }
 ],
 "metadata": {
  "kernelspec": {
   "display_name": "web3",
   "language": "python",
   "name": "python3"
  },
  "language_info": {
   "codemirror_mode": {
    "name": "ipython",
    "version": 3
   },
   "file_extension": ".py",
   "mimetype": "text/x-python",
   "name": "python",
   "nbconvert_exporter": "python",
   "pygments_lexer": "ipython3",
   "version": "3.9.17"
  },
  "orig_nbformat": 4
 },
 "nbformat": 4,
 "nbformat_minor": 2
}
